{
  "nbformat": 4,
  "nbformat_minor": 0,
  "metadata": {
    "accelerator": "TPU",
    "colab": {
      "name": "Project_II_Scalable_Distributed_Machine_Learning_Spark_sklearn_SHEETAL.ipynb",
      "provenance": [],
      "collapsed_sections": []
    },
    "kernelspec": {
      "display_name": "Python 3",
      "name": "python3"
    }
  },
  "cells": [
    {
      "cell_type": "markdown",
      "metadata": {
        "id": "7So9u809e1n5"
      },
      "source": [
        "*Warning*: Distribution/sharing of this notebook and other lab notebooks on the internet and other sources is strictly prohibited. You should not provide this notebook to anyone else. you should just use it for the purpose of this assessment only.\n",
        "\n",
        "You should attempt and submit your work. you can refer to sources/APIs to complete this taks. Copying from each other even a part or so is strictly prohibited and may result in serious action.\n"
      ]
    },
    {
      "cell_type": "markdown",
      "metadata": {
        "id": "L1Y12dPVqHv4"
      },
      "source": [
        "# Assessment 5 : Big Data Analytics using Machine Learning\n",
        "## Due Feburary 25th, 5pm (Firm)\n",
        "### Total points: 100 ( weighted over 35)\n",
        "\n",
        "This assessmet will enable you achieve essential experience of machine learning using sklearn and scalable approach to machine learning based on park ML! \n",
        "\n",
        "The focus of this assessment is to explore what makes videos popular on various platforms, e.g., Netflix and YouTube. The assessment will focus on YouTube 's data.\n",
        "\n",
        "**PLEASE NOTE** There can be multiple solutions possible for this assessment. various students will end up implementing different solutions. Therefore, there is not a single solution to fit all students."
      ]
    },
    {
      "cell_type": "markdown",
      "metadata": {
        "id": "zsMMQ1RnqoYw"
      },
      "source": [
        "### Required Libraries \n",
        "Setup the libraries using the following cells. You should select Java 8 when prompted."
      ]
    },
    {
      "cell_type": "code",
      "metadata": {
        "id": "V5Ea650lhvf2",
        "colab": {
          "base_uri": "https://localhost:8080/"
        },
        "outputId": "03b72dc6-ceab-4e66-ade7-25ce8a8ae72a"
      },
      "source": [
        "! sudo apt install openjdk-8-jdk\n",
        "! sudo update-alternatives --config java"
      ],
      "execution_count": 9,
      "outputs": [
        {
          "output_type": "stream",
          "name": "stdout",
          "text": [
            "Reading package lists... Done\n",
            "Building dependency tree       \n",
            "Reading state information... Done\n",
            "openjdk-8-jdk is already the newest version (8u312-b07-0ubuntu1~18.04).\n",
            "The following package was automatically installed and is no longer required:\n",
            "  libnvidia-common-470\n",
            "Use 'sudo apt autoremove' to remove it.\n",
            "0 upgraded, 0 newly installed, 0 to remove and 39 not upgraded.\n",
            "There are 2 choices for the alternative java (providing /usr/bin/java).\n",
            "\n",
            "  Selection    Path                                            Priority   Status\n",
            "------------------------------------------------------------\n",
            "  0            /usr/lib/jvm/java-11-openjdk-amd64/bin/java      1111      auto mode\n",
            "* 1            /usr/lib/jvm/java-11-openjdk-amd64/bin/java      1111      manual mode\n",
            "  2            /usr/lib/jvm/java-8-openjdk-amd64/jre/bin/java   1081      manual mode\n",
            "\n",
            "Press <enter> to keep the current choice[*], or type selection number: 1\n"
          ]
        }
      ]
    },
    {
      "cell_type": "code",
      "metadata": {
        "colab": {
          "base_uri": "https://localhost:8080/"
        },
        "id": "678WFOguE-CF",
        "outputId": "ec350b45-712a-472c-cf03-e9e0a4e6bc20"
      },
      "source": [
        "!pip3 install pandas==1.0.5\n",
        "!pip3 install pyspark"
      ],
      "execution_count": 10,
      "outputs": [
        {
          "output_type": "stream",
          "name": "stdout",
          "text": [
            "Requirement already satisfied: pandas==1.0.5 in /usr/local/lib/python3.7/dist-packages (1.0.5)\n",
            "Requirement already satisfied: pytz>=2017.2 in /usr/local/lib/python3.7/dist-packages (from pandas==1.0.5) (2018.9)\n",
            "Requirement already satisfied: python-dateutil>=2.6.1 in /usr/local/lib/python3.7/dist-packages (from pandas==1.0.5) (2.8.2)\n",
            "Requirement already satisfied: numpy>=1.13.3 in /usr/local/lib/python3.7/dist-packages (from pandas==1.0.5) (1.21.5)\n",
            "Requirement already satisfied: six>=1.5 in /usr/local/lib/python3.7/dist-packages (from python-dateutil>=2.6.1->pandas==1.0.5) (1.15.0)\n",
            "Requirement already satisfied: pyspark in /usr/local/lib/python3.7/dist-packages (3.2.1)\n",
            "Requirement already satisfied: py4j==0.10.9.3 in /usr/local/lib/python3.7/dist-packages (from pyspark) (0.10.9.3)\n"
          ]
        }
      ]
    },
    {
      "cell_type": "code",
      "metadata": {
        "colab": {
          "base_uri": "https://localhost:8080/"
        },
        "id": "eAqMbSa7FA6b",
        "outputId": "75f19849-6c78-4333-c6f5-7ad330a7cda0"
      },
      "source": [
        "# if restart of runtime is successful, the execution of this cell should\n",
        "# prints True\n",
        "\n",
        "import pandas as pd\n",
        "print(pd.__version__ == '1.0.5')"
      ],
      "execution_count": 11,
      "outputs": [
        {
          "output_type": "stream",
          "name": "stdout",
          "text": [
            "True\n"
          ]
        }
      ]
    },
    {
      "cell_type": "code",
      "metadata": {
        "id": "NodzYeBAGpnr"
      },
      "source": [
        "import numpy as np \n",
        "import json\n",
        "import matplotlib\n",
        "import matplotlib.pyplot as plt\n",
        "from matplotlib import cm\n",
        "from datetime import datetime\n",
        "import glob\n",
        "import seaborn as sns\n",
        "import re\n",
        "import os\n",
        "from matplotlib import pyplot\n",
        "import seaborn\n",
        "import random\n",
        "pd.options.mode.chained_assignment = None"
      ],
      "execution_count": 12,
      "outputs": []
    },
    {
      "cell_type": "markdown",
      "metadata": {
        "id": "1LUqDAYCa_kN"
      },
      "source": [
        "Import your dataset using the following cells for the Youtube videos"
      ]
    },
    {
      "cell_type": "code",
      "metadata": {
        "id": "bUWkvS3kHHve",
        "colab": {
          "resources": {
            "http://localhost:8080/nbextensions/google.colab/files.js": {
              "data": "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",
              "ok": true,
              "headers": [
                [
                  "content-type",
                  "application/javascript"
                ]
              ],
              "status": 200,
              "status_text": ""
            }
          },
          "base_uri": "https://localhost:8080/",
          "height": 107
        },
        "outputId": "97f34144-e878-4c6f-a193-5195d28bec92"
      },
      "source": [
        "from google.colab import files\n",
        "uploaded = files.upload()\n",
        "\n",
        "!unzip /content/youtube_data.zip\n"
      ],
      "execution_count": 16,
      "outputs": [
        {
          "output_type": "display_data",
          "data": {
            "text/html": [
              "\n",
              "     <input type=\"file\" id=\"files-6211e63e-9d6e-44b6-9268-4f9402a73417\" name=\"files[]\" multiple disabled\n",
              "        style=\"border:none\" />\n",
              "     <output id=\"result-6211e63e-9d6e-44b6-9268-4f9402a73417\">\n",
              "      Upload widget is only available when the cell has been executed in the\n",
              "      current browser session. Please rerun this cell to enable.\n",
              "      </output>\n",
              "      <script src=\"/nbextensions/google.colab/files.js\"></script> "
            ],
            "text/plain": [
              "<IPython.core.display.HTML object>"
            ]
          },
          "metadata": {}
        },
        {
          "output_type": "stream",
          "name": "stdout",
          "text": [
            "Saving youtube_data.zip to youtube_data (2).zip\n",
            "Archive:  /content/youtube_data.zip\n",
            "replace youtube_data/IN_category_id.json? [y]es, [n]o, [A]ll, [N]one, [r]ename: "
          ]
        }
      ]
    },
    {
      "cell_type": "code",
      "source": [
        "#!unzip /content/youtube_data.zip"
      ],
      "metadata": {
        "id": "BFGtMMhrfYKk"
      },
      "execution_count": 17,
      "outputs": []
    },
    {
      "cell_type": "code",
      "metadata": {
        "id": "tTX57Lb5fbfQ"
      },
      "source": [
        "# from google.colab import drive\n",
        "\n",
        "# drive.mount('/content/gdrive')"
      ],
      "execution_count": null,
      "outputs": []
    },
    {
      "cell_type": "code",
      "source": [
        "#!unzip /content/gdrive/MyDrive/youtube-data/youtube_data.zip"
      ],
      "metadata": {
        "id": "QEdcTdSrK4i9"
      },
      "execution_count": null,
      "outputs": []
    },
    {
      "cell_type": "markdown",
      "metadata": {
        "id": "lzax5Hp70oGW"
      },
      "source": [
        "# Section 5.1. : Machine Learning with Sklearn (45 points)"
      ]
    },
    {
      "cell_type": "markdown",
      "metadata": {
        "id": "Ecg1d6dwais8"
      },
      "source": [
        "## 5.1.1 Data loading and Preprocessing (5 pts)\n",
        "\n",
        "The dataset consists of a daily record of the top trending YouTube videos.\n",
        "\n",
        "To determine the year’s top-trending videos, YouTube uses a combination of factors including measuring users interactions, e.g., number of views, shares, comments and likes. \"Note that they’re not the most-viewed videos overall for the calendar year”. Top performers on the YouTube trending list are music videos (such as the famously viral “[Gangnam Style](https://www.youtube.com/watch?v=9bZkp7q19f0)”), celebrity and/or reality TV performances, and the random dude-with-a-camera viral videos that YouTube is well-known for.\n",
        "\n",
        "This dataset includes several months (and counting) of data on daily trending YouTube videos. Data is included for numerous countries, with up to 200 listed trending videos per day.\n",
        "\n",
        "Each region’s data is in a separate file. Data includes:\n",
        "\n",
        "*   Video Title\n",
        "*   Channel title\n",
        "*   Publish time\n",
        "*   Tags\n",
        "*   Views\n",
        "*   Likes\n",
        "*   Dislikes\n",
        "*   Description\n",
        "*   Comment count\n",
        "\n",
        "The data also includes a category\\_id field, which varies between regions. To retrieve the categories for a specific video, find it in the associated JSON. One such file is included for each of the five regions in the dataset.\n",
        "\n",
        "For more information on specific columns in the dataset refer to the column metadata.\n",
        "\n"
      ]
    },
    {
      "cell_type": "markdown",
      "metadata": {
        "id": "XCNsu176IR5x"
      },
      "source": [
        "#### 5.1.1.1: Combining Multiple CSV's. (2 pts.)\n",
        "\n",
        "There are multiple csv files in the dataset, each corresponding to a specific country. As a first step you need to read them and combine these csv files into a single dataframe. Use 'video_id' as your index.\n",
        "\n",
        "While combining them, you also need to create a column for \"country\" and fill it in the final dataframe. The country name can be extracted using the filename itself.\n",
        "\n",
        "Name your dataframe \"combined_data\"."
      ]
    },
    {
      "cell_type": "code",
      "metadata": {
        "colab": {
          "base_uri": "https://localhost:8080/",
          "height": 517
        },
        "id": "V_tuqP5Wahf_",
        "outputId": "6918ae50-8f96-4bf4-b33b-fbab73e5c87c"
      },
      "source": [
        "# Import all the csv files\n",
        "#files = [i for i in glob.glob('/content/youtube_data/*.csv'.format('csv'))]\n",
        "files = [i for i in glob.glob('/content/youtube_data/*.csv'.format('csv'))]\n",
        "sorted(files)\n",
        "\n",
        "# Task: Merge all dataframes to single dataframe \"combined_data\" and add a 'country' column. \n",
        "all_dataframes = list()\n",
        "for csv in files:\n",
        "  #all_dataframes.append(pd.read_csv(csv))\n",
        "  frame = pd.read_csv(csv,index_col=0)\n",
        "  frame['country'] = os.path.basename(csv)\n",
        "  all_dataframes.append(frame)\n",
        "\n",
        "combined_data = pd.concat(all_dataframes)\n",
        "combined_data['country']=combined_data['country'].map(lambda x: x.lstrip('+-').rstrip('videos.csv'))\n",
        "combined_data.head(3)"
      ],
      "execution_count": 18,
      "outputs": [
        {
          "output_type": "execute_result",
          "data": {
            "text/html": [
              "\n",
              "  <div id=\"df-f7d90e3c-0a08-4849-9371-7e9d5678c70e\">\n",
              "    <div class=\"colab-df-container\">\n",
              "      <div>\n",
              "<style scoped>\n",
              "    .dataframe tbody tr th:only-of-type {\n",
              "        vertical-align: middle;\n",
              "    }\n",
              "\n",
              "    .dataframe tbody tr th {\n",
              "        vertical-align: top;\n",
              "    }\n",
              "\n",
              "    .dataframe thead th {\n",
              "        text-align: right;\n",
              "    }\n",
              "</style>\n",
              "<table border=\"1\" class=\"dataframe\">\n",
              "  <thead>\n",
              "    <tr style=\"text-align: right;\">\n",
              "      <th></th>\n",
              "      <th>trending_date</th>\n",
              "      <th>title</th>\n",
              "      <th>channel_title</th>\n",
              "      <th>category_id</th>\n",
              "      <th>publish_time</th>\n",
              "      <th>tags</th>\n",
              "      <th>views</th>\n",
              "      <th>likes</th>\n",
              "      <th>dislikes</th>\n",
              "      <th>comment_count</th>\n",
              "      <th>thumbnail_link</th>\n",
              "      <th>comments_disabled</th>\n",
              "      <th>ratings_disabled</th>\n",
              "      <th>video_error_or_removed</th>\n",
              "      <th>description</th>\n",
              "      <th>country</th>\n",
              "    </tr>\n",
              "    <tr>\n",
              "      <th>video_id</th>\n",
              "      <th></th>\n",
              "      <th></th>\n",
              "      <th></th>\n",
              "      <th></th>\n",
              "      <th></th>\n",
              "      <th></th>\n",
              "      <th></th>\n",
              "      <th></th>\n",
              "      <th></th>\n",
              "      <th></th>\n",
              "      <th></th>\n",
              "      <th></th>\n",
              "      <th></th>\n",
              "      <th></th>\n",
              "      <th></th>\n",
              "      <th></th>\n",
              "    </tr>\n",
              "  </thead>\n",
              "  <tbody>\n",
              "    <tr>\n",
              "      <th>kzwfHumJyYc</th>\n",
              "      <td>17.14.11</td>\n",
              "      <td>Sharry Mann: Cute Munda ( Song Teaser) | Parmi...</td>\n",
              "      <td>Lokdhun Punjabi</td>\n",
              "      <td>1</td>\n",
              "      <td>2017-11-12T12:20:39.000Z</td>\n",
              "      <td>sharry mann|\"sharry mann new song\"|\"sharry man...</td>\n",
              "      <td>1096327</td>\n",
              "      <td>33966</td>\n",
              "      <td>798</td>\n",
              "      <td>882</td>\n",
              "      <td>https://i.ytimg.com/vi/kzwfHumJyYc/default.jpg</td>\n",
              "      <td>False</td>\n",
              "      <td>False</td>\n",
              "      <td>False</td>\n",
              "      <td>Presenting Sharry Mann latest Punjabi Song  Cu...</td>\n",
              "      <td>IN</td>\n",
              "    </tr>\n",
              "    <tr>\n",
              "      <th>zUZ1z7FwLc8</th>\n",
              "      <td>17.14.11</td>\n",
              "      <td>पीरियड्स के समय, पेट पर पति करता ऐसा, देखकर दं...</td>\n",
              "      <td>HJ NEWS</td>\n",
              "      <td>25</td>\n",
              "      <td>2017-11-13T05:43:56.000Z</td>\n",
              "      <td>पीरियड्स के समय|\"पेट पर पति करता ऐसा\"|\"देखकर द...</td>\n",
              "      <td>590101</td>\n",
              "      <td>735</td>\n",
              "      <td>904</td>\n",
              "      <td>0</td>\n",
              "      <td>https://i.ytimg.com/vi/zUZ1z7FwLc8/default.jpg</td>\n",
              "      <td>True</td>\n",
              "      <td>False</td>\n",
              "      <td>False</td>\n",
              "      <td>पीरियड्स के समय, पेट पर पति करता ऐसा, देखकर दं...</td>\n",
              "      <td>IN</td>\n",
              "    </tr>\n",
              "    <tr>\n",
              "      <th>10L1hZ9qa58</th>\n",
              "      <td>17.14.11</td>\n",
              "      <td>Stylish Star Allu Arjun @ ChaySam Wedding Rece...</td>\n",
              "      <td>TFPC</td>\n",
              "      <td>24</td>\n",
              "      <td>2017-11-12T15:48:08.000Z</td>\n",
              "      <td>Stylish Star Allu Arjun @ ChaySam Wedding Rece...</td>\n",
              "      <td>473988</td>\n",
              "      <td>2011</td>\n",
              "      <td>243</td>\n",
              "      <td>149</td>\n",
              "      <td>https://i.ytimg.com/vi/10L1hZ9qa58/default.jpg</td>\n",
              "      <td>False</td>\n",
              "      <td>False</td>\n",
              "      <td>False</td>\n",
              "      <td>Watch Stylish Star Allu Arjun @ ChaySam Weddin...</td>\n",
              "      <td>IN</td>\n",
              "    </tr>\n",
              "  </tbody>\n",
              "</table>\n",
              "</div>\n",
              "      <button class=\"colab-df-convert\" onclick=\"convertToInteractive('df-f7d90e3c-0a08-4849-9371-7e9d5678c70e')\"\n",
              "              title=\"Convert this dataframe to an interactive table.\"\n",
              "              style=\"display:none;\">\n",
              "        \n",
              "  <svg xmlns=\"http://www.w3.org/2000/svg\" height=\"24px\"viewBox=\"0 0 24 24\"\n",
              "       width=\"24px\">\n",
              "    <path d=\"M0 0h24v24H0V0z\" fill=\"none\"/>\n",
              "    <path d=\"M18.56 5.44l.94 2.06.94-2.06 2.06-.94-2.06-.94-.94-2.06-.94 2.06-2.06.94zm-11 1L8.5 8.5l.94-2.06 2.06-.94-2.06-.94L8.5 2.5l-.94 2.06-2.06.94zm10 10l.94 2.06.94-2.06 2.06-.94-2.06-.94-.94-2.06-.94 2.06-2.06.94z\"/><path d=\"M17.41 7.96l-1.37-1.37c-.4-.4-.92-.59-1.43-.59-.52 0-1.04.2-1.43.59L10.3 9.45l-7.72 7.72c-.78.78-.78 2.05 0 2.83L4 21.41c.39.39.9.59 1.41.59.51 0 1.02-.2 1.41-.59l7.78-7.78 2.81-2.81c.8-.78.8-2.07 0-2.86zM5.41 20L4 18.59l7.72-7.72 1.47 1.35L5.41 20z\"/>\n",
              "  </svg>\n",
              "      </button>\n",
              "      \n",
              "  <style>\n",
              "    .colab-df-container {\n",
              "      display:flex;\n",
              "      flex-wrap:wrap;\n",
              "      gap: 12px;\n",
              "    }\n",
              "\n",
              "    .colab-df-convert {\n",
              "      background-color: #E8F0FE;\n",
              "      border: none;\n",
              "      border-radius: 50%;\n",
              "      cursor: pointer;\n",
              "      display: none;\n",
              "      fill: #1967D2;\n",
              "      height: 32px;\n",
              "      padding: 0 0 0 0;\n",
              "      width: 32px;\n",
              "    }\n",
              "\n",
              "    .colab-df-convert:hover {\n",
              "      background-color: #E2EBFA;\n",
              "      box-shadow: 0px 1px 2px rgba(60, 64, 67, 0.3), 0px 1px 3px 1px rgba(60, 64, 67, 0.15);\n",
              "      fill: #174EA6;\n",
              "    }\n",
              "\n",
              "    [theme=dark] .colab-df-convert {\n",
              "      background-color: #3B4455;\n",
              "      fill: #D2E3FC;\n",
              "    }\n",
              "\n",
              "    [theme=dark] .colab-df-convert:hover {\n",
              "      background-color: #434B5C;\n",
              "      box-shadow: 0px 1px 3px 1px rgba(0, 0, 0, 0.15);\n",
              "      filter: drop-shadow(0px 1px 2px rgba(0, 0, 0, 0.3));\n",
              "      fill: #FFFFFF;\n",
              "    }\n",
              "  </style>\n",
              "\n",
              "      <script>\n",
              "        const buttonEl =\n",
              "          document.querySelector('#df-f7d90e3c-0a08-4849-9371-7e9d5678c70e button.colab-df-convert');\n",
              "        buttonEl.style.display =\n",
              "          google.colab.kernel.accessAllowed ? 'block' : 'none';\n",
              "\n",
              "        async function convertToInteractive(key) {\n",
              "          const element = document.querySelector('#df-f7d90e3c-0a08-4849-9371-7e9d5678c70e');\n",
              "          const dataTable =\n",
              "            await google.colab.kernel.invokeFunction('convertToInteractive',\n",
              "                                                     [key], {});\n",
              "          if (!dataTable) return;\n",
              "\n",
              "          const docLinkHtml = 'Like what you see? Visit the ' +\n",
              "            '<a target=\"_blank\" href=https://colab.research.google.com/notebooks/data_table.ipynb>data table notebook</a>'\n",
              "            + ' to learn more about interactive tables.';\n",
              "          element.innerHTML = '';\n",
              "          dataTable['output_type'] = 'display_data';\n",
              "          await google.colab.output.renderOutput(dataTable, element);\n",
              "          const docLink = document.createElement('div');\n",
              "          docLink.innerHTML = docLinkHtml;\n",
              "          element.appendChild(docLink);\n",
              "        }\n",
              "      </script>\n",
              "    </div>\n",
              "  </div>\n",
              "  "
            ],
            "text/plain": [
              "            trending_date  ... country\n",
              "video_id                   ...        \n",
              "kzwfHumJyYc      17.14.11  ...      IN\n",
              "zUZ1z7FwLc8      17.14.11  ...      IN\n",
              "10L1hZ9qa58      17.14.11  ...      IN\n",
              "\n",
              "[3 rows x 16 columns]"
            ]
          },
          "metadata": {},
          "execution_count": 18
        }
      ]
    },
    {
      "cell_type": "markdown",
      "metadata": {
        "id": "PdfKNvDqILsh"
      },
      "source": [
        "#### 5.1.1.2: Map category Id's to categories (2 pts)\n",
        "\n",
        "Read the category_id.json file and map the category_id's in the dataframe to the category name.\n",
        "\n",
        "Use json.load to read in the data in the json file as a python dictionary and then map the category id given in the dataframe to category name from the json file. (Hint: the US json is likely the most comprehensive reference)\n",
        "\n",
        "\n"
      ]
    },
    {
      "cell_type": "code",
      "metadata": {
        "colab": {
          "base_uri": "https://localhost:8080/",
          "height": 1000
        },
        "id": "xDyMBIoRGdi0",
        "outputId": "1ef5a389-97b7-498b-afe9-f84e8ee32385"
      },
      "source": [
        "combined_data['category_id'] = combined_data['category_id'].astype(str)\n",
        "js_files = [i for i in glob.glob('/content/youtube_data/*.json')]\n",
        "sorted(js_files)\n",
        "\n",
        "id_to_category = {}\n",
        "for x in js_files:\n",
        "  js = pd.read_json(x)\n",
        "  for category in js [\"items\"]:\n",
        "        id_to_category[category[\"id\"]] = category[\"snippet\"][\"title\"]\n",
        "combined_data[\"category\"] = combined_data[\"category_id\"].map(id_to_category)\n",
        "# Add code here\n",
        "\n",
        "#combined_data.insert(4, 'category', # Add code here)\n",
        "\n",
        "combined_data.head(10)"
      ],
      "execution_count": 19,
      "outputs": [
        {
          "output_type": "execute_result",
          "data": {
            "text/html": [
              "\n",
              "  <div id=\"df-6ec8eafe-c864-4d7e-94ae-e9974e320c45\">\n",
              "    <div class=\"colab-df-container\">\n",
              "      <div>\n",
              "<style scoped>\n",
              "    .dataframe tbody tr th:only-of-type {\n",
              "        vertical-align: middle;\n",
              "    }\n",
              "\n",
              "    .dataframe tbody tr th {\n",
              "        vertical-align: top;\n",
              "    }\n",
              "\n",
              "    .dataframe thead th {\n",
              "        text-align: right;\n",
              "    }\n",
              "</style>\n",
              "<table border=\"1\" class=\"dataframe\">\n",
              "  <thead>\n",
              "    <tr style=\"text-align: right;\">\n",
              "      <th></th>\n",
              "      <th>trending_date</th>\n",
              "      <th>title</th>\n",
              "      <th>channel_title</th>\n",
              "      <th>category_id</th>\n",
              "      <th>publish_time</th>\n",
              "      <th>tags</th>\n",
              "      <th>views</th>\n",
              "      <th>likes</th>\n",
              "      <th>dislikes</th>\n",
              "      <th>comment_count</th>\n",
              "      <th>thumbnail_link</th>\n",
              "      <th>comments_disabled</th>\n",
              "      <th>ratings_disabled</th>\n",
              "      <th>video_error_or_removed</th>\n",
              "      <th>description</th>\n",
              "      <th>country</th>\n",
              "      <th>category</th>\n",
              "    </tr>\n",
              "    <tr>\n",
              "      <th>video_id</th>\n",
              "      <th></th>\n",
              "      <th></th>\n",
              "      <th></th>\n",
              "      <th></th>\n",
              "      <th></th>\n",
              "      <th></th>\n",
              "      <th></th>\n",
              "      <th></th>\n",
              "      <th></th>\n",
              "      <th></th>\n",
              "      <th></th>\n",
              "      <th></th>\n",
              "      <th></th>\n",
              "      <th></th>\n",
              "      <th></th>\n",
              "      <th></th>\n",
              "      <th></th>\n",
              "    </tr>\n",
              "  </thead>\n",
              "  <tbody>\n",
              "    <tr>\n",
              "      <th>kzwfHumJyYc</th>\n",
              "      <td>17.14.11</td>\n",
              "      <td>Sharry Mann: Cute Munda ( Song Teaser) | Parmi...</td>\n",
              "      <td>Lokdhun Punjabi</td>\n",
              "      <td>1</td>\n",
              "      <td>2017-11-12T12:20:39.000Z</td>\n",
              "      <td>sharry mann|\"sharry mann new song\"|\"sharry man...</td>\n",
              "      <td>1096327</td>\n",
              "      <td>33966</td>\n",
              "      <td>798</td>\n",
              "      <td>882</td>\n",
              "      <td>https://i.ytimg.com/vi/kzwfHumJyYc/default.jpg</td>\n",
              "      <td>False</td>\n",
              "      <td>False</td>\n",
              "      <td>False</td>\n",
              "      <td>Presenting Sharry Mann latest Punjabi Song  Cu...</td>\n",
              "      <td>IN</td>\n",
              "      <td>Film &amp; Animation</td>\n",
              "    </tr>\n",
              "    <tr>\n",
              "      <th>zUZ1z7FwLc8</th>\n",
              "      <td>17.14.11</td>\n",
              "      <td>पीरियड्स के समय, पेट पर पति करता ऐसा, देखकर दं...</td>\n",
              "      <td>HJ NEWS</td>\n",
              "      <td>25</td>\n",
              "      <td>2017-11-13T05:43:56.000Z</td>\n",
              "      <td>पीरियड्स के समय|\"पेट पर पति करता ऐसा\"|\"देखकर द...</td>\n",
              "      <td>590101</td>\n",
              "      <td>735</td>\n",
              "      <td>904</td>\n",
              "      <td>0</td>\n",
              "      <td>https://i.ytimg.com/vi/zUZ1z7FwLc8/default.jpg</td>\n",
              "      <td>True</td>\n",
              "      <td>False</td>\n",
              "      <td>False</td>\n",
              "      <td>पीरियड्स के समय, पेट पर पति करता ऐसा, देखकर दं...</td>\n",
              "      <td>IN</td>\n",
              "      <td>News &amp; Politics</td>\n",
              "    </tr>\n",
              "    <tr>\n",
              "      <th>10L1hZ9qa58</th>\n",
              "      <td>17.14.11</td>\n",
              "      <td>Stylish Star Allu Arjun @ ChaySam Wedding Rece...</td>\n",
              "      <td>TFPC</td>\n",
              "      <td>24</td>\n",
              "      <td>2017-11-12T15:48:08.000Z</td>\n",
              "      <td>Stylish Star Allu Arjun @ ChaySam Wedding Rece...</td>\n",
              "      <td>473988</td>\n",
              "      <td>2011</td>\n",
              "      <td>243</td>\n",
              "      <td>149</td>\n",
              "      <td>https://i.ytimg.com/vi/10L1hZ9qa58/default.jpg</td>\n",
              "      <td>False</td>\n",
              "      <td>False</td>\n",
              "      <td>False</td>\n",
              "      <td>Watch Stylish Star Allu Arjun @ ChaySam Weddin...</td>\n",
              "      <td>IN</td>\n",
              "      <td>Entertainment</td>\n",
              "    </tr>\n",
              "    <tr>\n",
              "      <th>N1vE8iiEg64</th>\n",
              "      <td>17.14.11</td>\n",
              "      <td>Eruma Saani | Tamil vs English</td>\n",
              "      <td>Eruma Saani</td>\n",
              "      <td>23</td>\n",
              "      <td>2017-11-12T07:08:48.000Z</td>\n",
              "      <td>Eruma Saani|\"Tamil Comedy Videos\"|\"Films\"|\"Mov...</td>\n",
              "      <td>1242680</td>\n",
              "      <td>70353</td>\n",
              "      <td>1624</td>\n",
              "      <td>2684</td>\n",
              "      <td>https://i.ytimg.com/vi/N1vE8iiEg64/default.jpg</td>\n",
              "      <td>False</td>\n",
              "      <td>False</td>\n",
              "      <td>False</td>\n",
              "      <td>This video showcases the difference between pe...</td>\n",
              "      <td>IN</td>\n",
              "      <td>Comedy</td>\n",
              "    </tr>\n",
              "    <tr>\n",
              "      <th>kJzGH0PVQHQ</th>\n",
              "      <td>17.14.11</td>\n",
              "      <td>why Samantha became EMOTIONAL @ Samantha naga ...</td>\n",
              "      <td>Filmylooks</td>\n",
              "      <td>24</td>\n",
              "      <td>2017-11-13T01:14:16.000Z</td>\n",
              "      <td>Filmylooks|\"latest news\"|\"telugu movies\"|\"telu...</td>\n",
              "      <td>464015</td>\n",
              "      <td>492</td>\n",
              "      <td>293</td>\n",
              "      <td>66</td>\n",
              "      <td>https://i.ytimg.com/vi/kJzGH0PVQHQ/default.jpg</td>\n",
              "      <td>False</td>\n",
              "      <td>False</td>\n",
              "      <td>False</td>\n",
              "      <td>why Samantha became EMOTIONAL @ Samantha naga ...</td>\n",
              "      <td>IN</td>\n",
              "      <td>Entertainment</td>\n",
              "    </tr>\n",
              "    <tr>\n",
              "      <th>il_pSa5l98w</th>\n",
              "      <td>17.14.11</td>\n",
              "      <td>MCA (Middle Class Abbayi) TEASER - Nani,Sai Pa...</td>\n",
              "      <td>Dil Raju</td>\n",
              "      <td>24</td>\n",
              "      <td>2017-11-10T04:29:50.000Z</td>\n",
              "      <td>Nenu Local|\"Nenu Local Telugu Movie\"|\"Nani\"|\"S...</td>\n",
              "      <td>6106669</td>\n",
              "      <td>98612</td>\n",
              "      <td>4185</td>\n",
              "      <td>4763</td>\n",
              "      <td>https://i.ytimg.com/vi/il_pSa5l98w/default.jpg</td>\n",
              "      <td>False</td>\n",
              "      <td>False</td>\n",
              "      <td>False</td>\n",
              "      <td>Watch MCA- Middle Class Abbayi First Look Teas...</td>\n",
              "      <td>IN</td>\n",
              "      <td>Entertainment</td>\n",
              "    </tr>\n",
              "    <tr>\n",
              "      <th>7MxiQ4v0EnE</th>\n",
              "      <td>17.14.11</td>\n",
              "      <td>Daang ( Full Video ) | Mankirt Aulakh | Sukh S...</td>\n",
              "      <td>Speed Records</td>\n",
              "      <td>10</td>\n",
              "      <td>2017-11-11T16:41:15.000Z</td>\n",
              "      <td>punjabi songs|\"punjabi bhangra\"|\"punjabi music...</td>\n",
              "      <td>5718766</td>\n",
              "      <td>127477</td>\n",
              "      <td>7134</td>\n",
              "      <td>8063</td>\n",
              "      <td>https://i.ytimg.com/vi/7MxiQ4v0EnE/default.jpg</td>\n",
              "      <td>False</td>\n",
              "      <td>False</td>\n",
              "      <td>False</td>\n",
              "      <td>Song - Daang\\nSinger - Mankirt Aulakh\\nFaceboo...</td>\n",
              "      <td>IN</td>\n",
              "      <td>Music</td>\n",
              "    </tr>\n",
              "    <tr>\n",
              "      <th>c64I9HNpiOY</th>\n",
              "      <td>17.14.11</td>\n",
              "      <td>Padmavati : Ek Dil Ek Jaan Video Song | Deepik...</td>\n",
              "      <td>T-Series</td>\n",
              "      <td>10</td>\n",
              "      <td>2017-11-11T06:14:19.000Z</td>\n",
              "      <td>Ek Dil Ek Jaan Video Song|\"'Ek Dil Ek Jaan'\"|\"...</td>\n",
              "      <td>10588371</td>\n",
              "      <td>132738</td>\n",
              "      <td>8812</td>\n",
              "      <td>10847</td>\n",
              "      <td>https://i.ytimg.com/vi/c64I9HNpiOY/default.jpg</td>\n",
              "      <td>False</td>\n",
              "      <td>False</td>\n",
              "      <td>False</td>\n",
              "      <td>Presenting the song 'Ek Dil Ek Jaan' from Padm...</td>\n",
              "      <td>IN</td>\n",
              "      <td>Music</td>\n",
              "    </tr>\n",
              "    <tr>\n",
              "      <th>KObFEYCaRx8</th>\n",
              "      <td>17.14.11</td>\n",
              "      <td>Chiranjeevi in Naga Chaitanya - Samantha Recep...</td>\n",
              "      <td>Top Telugu Media</td>\n",
              "      <td>24</td>\n",
              "      <td>2017-11-13T04:42:26.000Z</td>\n",
              "      <td>Chiranjeevi in Naga Chaitanya - Samantha Recep...</td>\n",
              "      <td>118223</td>\n",
              "      <td>520</td>\n",
              "      <td>53</td>\n",
              "      <td>23</td>\n",
              "      <td>https://i.ytimg.com/vi/KObFEYCaRx8/default.jpg</td>\n",
              "      <td>False</td>\n",
              "      <td>False</td>\n",
              "      <td>False</td>\n",
              "      <td>Chiranjeevi in Naga Chaitanya - Samantha Recep...</td>\n",
              "      <td>IN</td>\n",
              "      <td>Entertainment</td>\n",
              "    </tr>\n",
              "    <tr>\n",
              "      <th>g8QsfJhFpjY</th>\n",
              "      <td>17.14.11</td>\n",
              "      <td>New bike vs Old bike - the reality</td>\n",
              "      <td>Jump Cuts</td>\n",
              "      <td>24</td>\n",
              "      <td>2017-11-12T04:30:01.000Z</td>\n",
              "      <td>Jump cuts|\"Jumpcuts\"|\"Tamil comedy\"|\"Tamil Com...</td>\n",
              "      <td>969030</td>\n",
              "      <td>59798</td>\n",
              "      <td>1545</td>\n",
              "      <td>2404</td>\n",
              "      <td>https://i.ytimg.com/vi/g8QsfJhFpjY/default.jpg</td>\n",
              "      <td>False</td>\n",
              "      <td>False</td>\n",
              "      <td>False</td>\n",
              "      <td>Jump Cuts is a Tamil entertaining group by Har...</td>\n",
              "      <td>IN</td>\n",
              "      <td>Entertainment</td>\n",
              "    </tr>\n",
              "  </tbody>\n",
              "</table>\n",
              "</div>\n",
              "      <button class=\"colab-df-convert\" onclick=\"convertToInteractive('df-6ec8eafe-c864-4d7e-94ae-e9974e320c45')\"\n",
              "              title=\"Convert this dataframe to an interactive table.\"\n",
              "              style=\"display:none;\">\n",
              "        \n",
              "  <svg xmlns=\"http://www.w3.org/2000/svg\" height=\"24px\"viewBox=\"0 0 24 24\"\n",
              "       width=\"24px\">\n",
              "    <path d=\"M0 0h24v24H0V0z\" fill=\"none\"/>\n",
              "    <path d=\"M18.56 5.44l.94 2.06.94-2.06 2.06-.94-2.06-.94-.94-2.06-.94 2.06-2.06.94zm-11 1L8.5 8.5l.94-2.06 2.06-.94-2.06-.94L8.5 2.5l-.94 2.06-2.06.94zm10 10l.94 2.06.94-2.06 2.06-.94-2.06-.94-.94-2.06-.94 2.06-2.06.94z\"/><path d=\"M17.41 7.96l-1.37-1.37c-.4-.4-.92-.59-1.43-.59-.52 0-1.04.2-1.43.59L10.3 9.45l-7.72 7.72c-.78.78-.78 2.05 0 2.83L4 21.41c.39.39.9.59 1.41.59.51 0 1.02-.2 1.41-.59l7.78-7.78 2.81-2.81c.8-.78.8-2.07 0-2.86zM5.41 20L4 18.59l7.72-7.72 1.47 1.35L5.41 20z\"/>\n",
              "  </svg>\n",
              "      </button>\n",
              "      \n",
              "  <style>\n",
              "    .colab-df-container {\n",
              "      display:flex;\n",
              "      flex-wrap:wrap;\n",
              "      gap: 12px;\n",
              "    }\n",
              "\n",
              "    .colab-df-convert {\n",
              "      background-color: #E8F0FE;\n",
              "      border: none;\n",
              "      border-radius: 50%;\n",
              "      cursor: pointer;\n",
              "      display: none;\n",
              "      fill: #1967D2;\n",
              "      height: 32px;\n",
              "      padding: 0 0 0 0;\n",
              "      width: 32px;\n",
              "    }\n",
              "\n",
              "    .colab-df-convert:hover {\n",
              "      background-color: #E2EBFA;\n",
              "      box-shadow: 0px 1px 2px rgba(60, 64, 67, 0.3), 0px 1px 3px 1px rgba(60, 64, 67, 0.15);\n",
              "      fill: #174EA6;\n",
              "    }\n",
              "\n",
              "    [theme=dark] .colab-df-convert {\n",
              "      background-color: #3B4455;\n",
              "      fill: #D2E3FC;\n",
              "    }\n",
              "\n",
              "    [theme=dark] .colab-df-convert:hover {\n",
              "      background-color: #434B5C;\n",
              "      box-shadow: 0px 1px 3px 1px rgba(0, 0, 0, 0.15);\n",
              "      filter: drop-shadow(0px 1px 2px rgba(0, 0, 0, 0.3));\n",
              "      fill: #FFFFFF;\n",
              "    }\n",
              "  </style>\n",
              "\n",
              "      <script>\n",
              "        const buttonEl =\n",
              "          document.querySelector('#df-6ec8eafe-c864-4d7e-94ae-e9974e320c45 button.colab-df-convert');\n",
              "        buttonEl.style.display =\n",
              "          google.colab.kernel.accessAllowed ? 'block' : 'none';\n",
              "\n",
              "        async function convertToInteractive(key) {\n",
              "          const element = document.querySelector('#df-6ec8eafe-c864-4d7e-94ae-e9974e320c45');\n",
              "          const dataTable =\n",
              "            await google.colab.kernel.invokeFunction('convertToInteractive',\n",
              "                                                     [key], {});\n",
              "          if (!dataTable) return;\n",
              "\n",
              "          const docLinkHtml = 'Like what you see? Visit the ' +\n",
              "            '<a target=\"_blank\" href=https://colab.research.google.com/notebooks/data_table.ipynb>data table notebook</a>'\n",
              "            + ' to learn more about interactive tables.';\n",
              "          element.innerHTML = '';\n",
              "          dataTable['output_type'] = 'display_data';\n",
              "          await google.colab.output.renderOutput(dataTable, element);\n",
              "          const docLink = document.createElement('div');\n",
              "          docLink.innerHTML = docLinkHtml;\n",
              "          element.appendChild(docLink);\n",
              "        }\n",
              "      </script>\n",
              "    </div>\n",
              "  </div>\n",
              "  "
            ],
            "text/plain": [
              "            trending_date  ...          category\n",
              "video_id                   ...                  \n",
              "kzwfHumJyYc      17.14.11  ...  Film & Animation\n",
              "zUZ1z7FwLc8      17.14.11  ...   News & Politics\n",
              "10L1hZ9qa58      17.14.11  ...     Entertainment\n",
              "N1vE8iiEg64      17.14.11  ...            Comedy\n",
              "kJzGH0PVQHQ      17.14.11  ...     Entertainment\n",
              "il_pSa5l98w      17.14.11  ...     Entertainment\n",
              "7MxiQ4v0EnE      17.14.11  ...             Music\n",
              "c64I9HNpiOY      17.14.11  ...             Music\n",
              "KObFEYCaRx8      17.14.11  ...     Entertainment\n",
              "g8QsfJhFpjY      17.14.11  ...     Entertainment\n",
              "\n",
              "[10 rows x 17 columns]"
            ]
          },
          "metadata": {},
          "execution_count": 19
        }
      ]
    },
    {
      "cell_type": "markdown",
      "metadata": {
        "id": "LEfiMpUULmT4"
      },
      "source": [
        "#### 5.1.1.3: Fix datetime format and remove rows with NA's (1 pt)\n",
        "\n",
        "The 'publish_time' and 'trending_date' features are not in a unix datetime format, so use pandas to_datetime() to convert it into the right format.\n",
        "\n",
        "After that is done remove all the rows which have NA's in them."
      ]
    },
    {
      "cell_type": "code",
      "metadata": {
        "colab": {
          "base_uri": "https://localhost:8080/"
        },
        "id": "EMqgqJv5MYWG",
        "outputId": "8033682a-56b9-49cb-aace-24e771dc7eb3"
      },
      "source": [
        "# Add code here\n",
        "combined_data.info()\n",
        "combined_data['trending_date'] = pd.to_datetime(combined_data[\"trending_date\"],format =\"%y.%d.%m\")\n",
        "combined_data['publish_time'] = pd.to_datetime(combined_data[\"publish_time\"],format = \"%Y-%m-%dT%H:%M:%S.%fZ\")\n",
        "\n",
        "# Add your Code here to remove NA's\n",
        "combined_data = combined_data.dropna()\n",
        "combined_data.info()\n"
      ],
      "execution_count": 20,
      "outputs": [
        {
          "output_type": "stream",
          "name": "stdout",
          "text": [
            "<class 'pandas.core.frame.DataFrame'>\n",
            "Index: 159906 entries, kzwfHumJyYc to ooyjaVdt-jA\n",
            "Data columns (total 17 columns):\n",
            " #   Column                  Non-Null Count   Dtype \n",
            "---  ------                  --------------   ----- \n",
            " 0   trending_date           159906 non-null  object\n",
            " 1   title                   159906 non-null  object\n",
            " 2   channel_title           159906 non-null  object\n",
            " 3   category_id             159906 non-null  object\n",
            " 4   publish_time            159906 non-null  object\n",
            " 5   tags                    159906 non-null  object\n",
            " 6   views                   159906 non-null  int64 \n",
            " 7   likes                   159906 non-null  int64 \n",
            " 8   dislikes                159906 non-null  int64 \n",
            " 9   comment_count           159906 non-null  int64 \n",
            " 10  thumbnail_link          159906 non-null  object\n",
            " 11  comments_disabled       159906 non-null  bool  \n",
            " 12  ratings_disabled        159906 non-null  bool  \n",
            " 13  video_error_or_removed  159906 non-null  bool  \n",
            " 14  description             154567 non-null  object\n",
            " 15  country                 159906 non-null  object\n",
            " 16  category                159906 non-null  object\n",
            "dtypes: bool(3), int64(4), object(10)\n",
            "memory usage: 18.8+ MB\n",
            "<class 'pandas.core.frame.DataFrame'>\n",
            "Index: 154567 entries, kzwfHumJyYc to ooyjaVdt-jA\n",
            "Data columns (total 17 columns):\n",
            " #   Column                  Non-Null Count   Dtype         \n",
            "---  ------                  --------------   -----         \n",
            " 0   trending_date           154567 non-null  datetime64[ns]\n",
            " 1   title                   154567 non-null  object        \n",
            " 2   channel_title           154567 non-null  object        \n",
            " 3   category_id             154567 non-null  object        \n",
            " 4   publish_time            154567 non-null  datetime64[ns]\n",
            " 5   tags                    154567 non-null  object        \n",
            " 6   views                   154567 non-null  int64         \n",
            " 7   likes                   154567 non-null  int64         \n",
            " 8   dislikes                154567 non-null  int64         \n",
            " 9   comment_count           154567 non-null  int64         \n",
            " 10  thumbnail_link          154567 non-null  object        \n",
            " 11  comments_disabled       154567 non-null  bool          \n",
            " 12  ratings_disabled        154567 non-null  bool          \n",
            " 13  video_error_or_removed  154567 non-null  bool          \n",
            " 14  description             154567 non-null  object        \n",
            " 15  country                 154567 non-null  object        \n",
            " 16  category                154567 non-null  object        \n",
            "dtypes: bool(3), datetime64[ns](2), int64(4), object(8)\n",
            "memory usage: 18.1+ MB\n"
          ]
        }
      ]
    },
    {
      "cell_type": "code",
      "metadata": {
        "colab": {
          "base_uri": "https://localhost:8080/"
        },
        "id": "P7B9nlL1SwgT",
        "outputId": "60651e93-82f6-431e-e743-52ab833356a4"
      },
      "source": [
        "# print\n",
        "print('validate_na',(combined_data.shape))"
      ],
      "execution_count": 21,
      "outputs": [
        {
          "output_type": "stream",
          "name": "stdout",
          "text": [
            "validate_na (154567, 17)\n"
          ]
        }
      ]
    },
    {
      "cell_type": "markdown",
      "metadata": {
        "id": "gT2l5ttZan_J"
      },
      "source": [
        "## 5.2 Exploratory Data Analysis & Feature Engineering (20pt)\n",
        "\n",
        "\n",
        "**Exploratory Data Analysis:** \n",
        "EDA aims to analyze data sets by summarizing its key characteristics assisted by visualizations. EDA communicates insights beyond formal modeling/hypothesis testing with or without statistical model.\n",
        "\n",
        "**Feature Engineering:** \n",
        "The primary object of feature engineering is to extract features using domain knowledge. It aims to extract features from raw data using various data mining approaches.\n",
        "\n",
        "These features are fed to various machine learning classifiers. These features are also called as covariates, predicators, or simply a new column in data frame."
      ]
    },
    {
      "cell_type": "markdown",
      "metadata": {
        "id": "bL0aSQcFAxxz"
      },
      "source": [
        "#### 5.2.1: Calculating Mean, standard deviation, min and max. (1 pt)\n",
        "\n",
        "In this section, we will focus to compute various satistics, i.e., mean, standard deviation, min and max for numerical features in the dataset and then store them into lists, i.e.,  [views, likes, dislikes, comment_count].\n",
        "\n",
        "means = [views_mean, likes_mean, dislikes_mean, comment_count_mean] and similarly for mins, maxs and stds."
      ]
    },
    {
      "cell_type": "code",
      "metadata": {
        "colab": {
          "base_uri": "https://localhost:8080/",
          "height": 300
        },
        "id": "P8w8Jv-NM7h8",
        "outputId": "c718b2d1-8700-4106-8760-57fc667bc692"
      },
      "source": [
        "combined_data.describe()"
      ],
      "execution_count": 22,
      "outputs": [
        {
          "output_type": "execute_result",
          "data": {
            "text/html": [
              "\n",
              "  <div id=\"df-8589a1ef-cf5c-4743-b973-d891b8e11da4\">\n",
              "    <div class=\"colab-df-container\">\n",
              "      <div>\n",
              "<style scoped>\n",
              "    .dataframe tbody tr th:only-of-type {\n",
              "        vertical-align: middle;\n",
              "    }\n",
              "\n",
              "    .dataframe tbody tr th {\n",
              "        vertical-align: top;\n",
              "    }\n",
              "\n",
              "    .dataframe thead th {\n",
              "        text-align: right;\n",
              "    }\n",
              "</style>\n",
              "<table border=\"1\" class=\"dataframe\">\n",
              "  <thead>\n",
              "    <tr style=\"text-align: right;\">\n",
              "      <th></th>\n",
              "      <th>views</th>\n",
              "      <th>likes</th>\n",
              "      <th>dislikes</th>\n",
              "      <th>comment_count</th>\n",
              "    </tr>\n",
              "  </thead>\n",
              "  <tbody>\n",
              "    <tr>\n",
              "      <th>count</th>\n",
              "      <td>1.545670e+05</td>\n",
              "      <td>1.545670e+05</td>\n",
              "      <td>1.545670e+05</td>\n",
              "      <td>1.545670e+05</td>\n",
              "    </tr>\n",
              "    <tr>\n",
              "      <th>mean</th>\n",
              "      <td>1.281578e+06</td>\n",
              "      <td>4.096105e+04</td>\n",
              "      <td>2.056138e+03</td>\n",
              "      <td>4.606594e+03</td>\n",
              "    </tr>\n",
              "    <tr>\n",
              "      <th>std</th>\n",
              "      <td>4.605292e+06</td>\n",
              "      <td>1.521490e+05</td>\n",
              "      <td>1.825854e+04</td>\n",
              "      <td>2.327823e+04</td>\n",
              "    </tr>\n",
              "    <tr>\n",
              "      <th>min</th>\n",
              "      <td>2.230000e+02</td>\n",
              "      <td>0.000000e+00</td>\n",
              "      <td>0.000000e+00</td>\n",
              "      <td>0.000000e+00</td>\n",
              "    </tr>\n",
              "    <tr>\n",
              "      <th>25%</th>\n",
              "      <td>9.574900e+04</td>\n",
              "      <td>1.321000e+03</td>\n",
              "      <td>8.100000e+01</td>\n",
              "      <td>1.720000e+02</td>\n",
              "    </tr>\n",
              "    <tr>\n",
              "      <th>50%</th>\n",
              "      <td>3.134280e+05</td>\n",
              "      <td>6.336000e+03</td>\n",
              "      <td>2.980000e+02</td>\n",
              "      <td>7.650000e+02</td>\n",
              "    </tr>\n",
              "    <tr>\n",
              "      <th>75%</th>\n",
              "      <td>9.473390e+05</td>\n",
              "      <td>2.594050e+04</td>\n",
              "      <td>1.024000e+03</td>\n",
              "      <td>2.726000e+03</td>\n",
              "    </tr>\n",
              "    <tr>\n",
              "      <th>max</th>\n",
              "      <td>2.252119e+08</td>\n",
              "      <td>5.613827e+06</td>\n",
              "      <td>1.643059e+06</td>\n",
              "      <td>1.228655e+06</td>\n",
              "    </tr>\n",
              "  </tbody>\n",
              "</table>\n",
              "</div>\n",
              "      <button class=\"colab-df-convert\" onclick=\"convertToInteractive('df-8589a1ef-cf5c-4743-b973-d891b8e11da4')\"\n",
              "              title=\"Convert this dataframe to an interactive table.\"\n",
              "              style=\"display:none;\">\n",
              "        \n",
              "  <svg xmlns=\"http://www.w3.org/2000/svg\" height=\"24px\"viewBox=\"0 0 24 24\"\n",
              "       width=\"24px\">\n",
              "    <path d=\"M0 0h24v24H0V0z\" fill=\"none\"/>\n",
              "    <path d=\"M18.56 5.44l.94 2.06.94-2.06 2.06-.94-2.06-.94-.94-2.06-.94 2.06-2.06.94zm-11 1L8.5 8.5l.94-2.06 2.06-.94-2.06-.94L8.5 2.5l-.94 2.06-2.06.94zm10 10l.94 2.06.94-2.06 2.06-.94-2.06-.94-.94-2.06-.94 2.06-2.06.94z\"/><path d=\"M17.41 7.96l-1.37-1.37c-.4-.4-.92-.59-1.43-.59-.52 0-1.04.2-1.43.59L10.3 9.45l-7.72 7.72c-.78.78-.78 2.05 0 2.83L4 21.41c.39.39.9.59 1.41.59.51 0 1.02-.2 1.41-.59l7.78-7.78 2.81-2.81c.8-.78.8-2.07 0-2.86zM5.41 20L4 18.59l7.72-7.72 1.47 1.35L5.41 20z\"/>\n",
              "  </svg>\n",
              "      </button>\n",
              "      \n",
              "  <style>\n",
              "    .colab-df-container {\n",
              "      display:flex;\n",
              "      flex-wrap:wrap;\n",
              "      gap: 12px;\n",
              "    }\n",
              "\n",
              "    .colab-df-convert {\n",
              "      background-color: #E8F0FE;\n",
              "      border: none;\n",
              "      border-radius: 50%;\n",
              "      cursor: pointer;\n",
              "      display: none;\n",
              "      fill: #1967D2;\n",
              "      height: 32px;\n",
              "      padding: 0 0 0 0;\n",
              "      width: 32px;\n",
              "    }\n",
              "\n",
              "    .colab-df-convert:hover {\n",
              "      background-color: #E2EBFA;\n",
              "      box-shadow: 0px 1px 2px rgba(60, 64, 67, 0.3), 0px 1px 3px 1px rgba(60, 64, 67, 0.15);\n",
              "      fill: #174EA6;\n",
              "    }\n",
              "\n",
              "    [theme=dark] .colab-df-convert {\n",
              "      background-color: #3B4455;\n",
              "      fill: #D2E3FC;\n",
              "    }\n",
              "\n",
              "    [theme=dark] .colab-df-convert:hover {\n",
              "      background-color: #434B5C;\n",
              "      box-shadow: 0px 1px 3px 1px rgba(0, 0, 0, 0.15);\n",
              "      filter: drop-shadow(0px 1px 2px rgba(0, 0, 0, 0.3));\n",
              "      fill: #FFFFFF;\n",
              "    }\n",
              "  </style>\n",
              "\n",
              "      <script>\n",
              "        const buttonEl =\n",
              "          document.querySelector('#df-8589a1ef-cf5c-4743-b973-d891b8e11da4 button.colab-df-convert');\n",
              "        buttonEl.style.display =\n",
              "          google.colab.kernel.accessAllowed ? 'block' : 'none';\n",
              "\n",
              "        async function convertToInteractive(key) {\n",
              "          const element = document.querySelector('#df-8589a1ef-cf5c-4743-b973-d891b8e11da4');\n",
              "          const dataTable =\n",
              "            await google.colab.kernel.invokeFunction('convertToInteractive',\n",
              "                                                     [key], {});\n",
              "          if (!dataTable) return;\n",
              "\n",
              "          const docLinkHtml = 'Like what you see? Visit the ' +\n",
              "            '<a target=\"_blank\" href=https://colab.research.google.com/notebooks/data_table.ipynb>data table notebook</a>'\n",
              "            + ' to learn more about interactive tables.';\n",
              "          element.innerHTML = '';\n",
              "          dataTable['output_type'] = 'display_data';\n",
              "          await google.colab.output.renderOutput(dataTable, element);\n",
              "          const docLink = document.createElement('div');\n",
              "          docLink.innerHTML = docLinkHtml;\n",
              "          element.appendChild(docLink);\n",
              "        }\n",
              "      </script>\n",
              "    </div>\n",
              "  </div>\n",
              "  "
            ],
            "text/plain": [
              "              views         likes      dislikes  comment_count\n",
              "count  1.545670e+05  1.545670e+05  1.545670e+05   1.545670e+05\n",
              "mean   1.281578e+06  4.096105e+04  2.056138e+03   4.606594e+03\n",
              "std    4.605292e+06  1.521490e+05  1.825854e+04   2.327823e+04\n",
              "min    2.230000e+02  0.000000e+00  0.000000e+00   0.000000e+00\n",
              "25%    9.574900e+04  1.321000e+03  8.100000e+01   1.720000e+02\n",
              "50%    3.134280e+05  6.336000e+03  2.980000e+02   7.650000e+02\n",
              "75%    9.473390e+05  2.594050e+04  1.024000e+03   2.726000e+03\n",
              "max    2.252119e+08  5.613827e+06  1.643059e+06   1.228655e+06"
            ]
          },
          "metadata": {},
          "execution_count": 22
        }
      ]
    },
    {
      "cell_type": "code",
      "metadata": {
        "id": "sUvoJyv4OwK6"
      },
      "source": [
        "\n",
        "# Add your code here\n",
        "maxs = combined_data.describe().iloc[7].values.tolist()\n",
        "mins = combined_data.describe().iloc[3].values.tolist()\n",
        "stds = combined_data.describe().iloc[2].values.tolist()\n",
        "means = combined_data.describe().iloc[1].values.tolist()\n",
        "\n"
      ],
      "execution_count": 23,
      "outputs": []
    },
    {
      "cell_type": "code",
      "metadata": {
        "colab": {
          "base_uri": "https://localhost:8080/"
        },
        "id": "G0186aPaSzA_",
        "outputId": "aac9ec10-440e-4400-b075-6395d984b698"
      },
      "source": [
        "# print here\n",
        "print('check_min_max_mean_std',([maxs, mins, stds, means]))\n"
      ],
      "execution_count": 24,
      "outputs": [
        {
          "output_type": "stream",
          "name": "stdout",
          "text": [
            "check_min_max_mean_std [[225211923.0, 5613827.0, 1643059.0, 1228655.0], [223.0, 0.0, 0.0, 0.0], [4605292.478385801, 152148.95485475037, 18258.54137966117, 23278.22562061912], [1281578.03423758, 40961.05191276275, 2056.138490104615, 4606.593742519425]]\n"
          ]
        }
      ]
    },
    {
      "cell_type": "markdown",
      "metadata": {
        "id": "jwMkARfAFE-U"
      },
      "source": [
        "#### 5.2.2: Rescaling the features (1 pt)\n",
        "\n",
        "From the above section, it is clear that the numerical values range is really high.  we can use rescaling to avoid numerical instability problems. We can rescale likes, views, dislikes, and comment_count using log scale (base e). Let us store rescaled features in dataframe as likes_log, views_log, dislikes_log and comment_log.\n",
        "\n",
        "NOTE- log 0 is not defined, therefore, you should add 1 to each value prior to taking the log."
      ]
    },
    {
      "cell_type": "code",
      "metadata": {
        "id": "-0wGMFGdFUBK"
      },
      "source": [
        "# Add your code here\n",
        "combined_data['likes_log'] = np.log(1 + combined_data['likes']) \n",
        "combined_data['views_log'] = np.log(1 + combined_data['views']) \n",
        "combined_data['dislikes_log'] = np.log(1 + combined_data['dislikes']) \n",
        "combined_data['comment_log'] = np.log(1 + combined_data['comment_count']) "
      ],
      "execution_count": 25,
      "outputs": []
    },
    {
      "cell_type": "code",
      "metadata": {
        "colab": {
          "base_uri": "https://localhost:8080/"
        },
        "id": "ZrJSqeZaS1_0",
        "outputId": "868c21fb-06d3-45fc-9416-255110fa4838"
      },
      "source": [
        "# Print results\n",
        "print('check_feature_rescaling',([np.mean(combined_data['likes_log']),np.mean(combined_data['views_log']),np.mean(combined_data['dislikes_log']),\n",
        "                                         np.mean(combined_data['comment_log'])]))"
      ],
      "execution_count": 26,
      "outputs": [
        {
          "output_type": "stream",
          "name": "stdout",
          "text": [
            "check_feature_rescaling [8.571590187188683, 12.55267980501314, 5.614484952081131, 6.424543615108467]\n"
          ]
        }
      ]
    },
    {
      "cell_type": "markdown",
      "metadata": {
        "id": "Kqt6-d6NGA9F"
      },
      "source": [
        "#### 5.2.3: Plotting the distribution (2 pt)\n",
        "\n",
        "Plot the distribution for the newly created log features. They should look like normal distribution curves."
      ]
    },
    {
      "cell_type": "code",
      "metadata": {
        "colab": {
          "base_uri": "https://localhost:8080/",
          "height": 609
        },
        "id": "gM-HSdnGE5Cf",
        "outputId": "ad0e1530-8d71-4e9d-f41c-c141af477823"
      },
      "source": [
        "# Add your code here for plotting the distribution\n",
        "log_df=combined_data[['likes_log','views_log','dislikes_log','comment_log']]\n",
        "log_df.plot.kde(figsize=(20,10))\n",
        "# plot data"
      ],
      "execution_count": 27,
      "outputs": [
        {
          "output_type": "execute_result",
          "data": {
            "text/plain": [
              "<matplotlib.axes._subplots.AxesSubplot at 0x7f1ddbaa27d0>"
            ]
          },
          "metadata": {},
          "execution_count": 27
        },
        {
          "output_type": "display_data",
          "data": {
            "image/png": "[encoded data removed]",
            "text/plain": [
              "<Figure size 1440x720 with 1 Axes>"
            ]
          },
          "metadata": {
            "needs_background": "light"
          }
        }
      ]
    },
    {
      "cell_type": "markdown",
      "metadata": {
        "id": "AuCVICPLBV1l"
      },
      "source": [
        "#### 5.2.4: Comparing views, likes, dislikes against categories (3 pt)\n",
        "\n",
        "Let us gain isights into data using various catergories, views, likes and dislikes.\n",
        "\n",
        "Draw three plots for the following:\n",
        "\n",
        "1.) How many videos are there for each category?\n",
        "\n",
        "2.) What is the distribution of views against categories? (Use boxplot and views on log scale)\n",
        "\n",
        "3.) What is the distribution of dislikes against categories? (Use boxplot and dislikes on log scale)\n",
        "\n",
        "For extra credit:\n",
        "You can try to gain more insights into the dataset by drawing interesting plots. Some ideas include:\n",
        "\n",
        "* How long does a video trend in a country? \n",
        "* What are some videos which got popular because they were disliked? \n",
        "\n",
        "Think of such interesting things and add here. We will award points based on creativity of the insights that you get."
      ]
    },
    {
      "cell_type": "code",
      "metadata": {
        "colab": {
          "base_uri": "https://localhost:8080/"
        },
        "id": "Vl_bgpXbB6kt",
        "outputId": "2697610a-3358-4c51-b50f-8a0ee399fe05"
      },
      "source": [
        "# Your code goes here\n",
        "# Plots will be manually graded\n",
        "##1-Total videos for each category:\n",
        "by_category = combined_data.groupby([\"category\"]).size().sort_values(ascending = False)\n",
        "print('Total videos for each category: \\n', by_category)"
      ],
      "execution_count": 28,
      "outputs": [
        {
          "output_type": "stream",
          "name": "stdout",
          "text": [
            "Total videos for each category: \n",
            " category\n",
            "Entertainment            48964\n",
            "Music                    17818\n",
            "Comedy                   14790\n",
            "News & Politics          14713\n",
            "People & Blogs           13954\n",
            "Sports                    9488\n",
            "Howto & Style             9309\n",
            "Film & Animation          7874\n",
            "Science & Technology      4846\n",
            "Education                 4544\n",
            "Gaming                    3592\n",
            "Pets & Animals            1522\n",
            "Autos & Vehicles          1406\n",
            "Travel & Events            889\n",
            "Shows                      485\n",
            "Nonprofits & Activism      338\n",
            "Movies                      33\n",
            "Trailers                     2\n",
            "dtype: int64\n"
          ]
        }
      ]
    },
    {
      "cell_type": "code",
      "metadata": {
        "colab": {
          "base_uri": "https://localhost:8080/",
          "height": 417
        },
        "id": "3KfCrSatT31C",
        "outputId": "baab7086-dd3f-436a-901a-0bf239f91fcd"
      },
      "source": [
        "import plotly.express as px\n",
        "df_cat=pd.DataFrame(by_category)\n",
        "df_cat['category'] = df_cat.index\n",
        "df_cat.columns=['a','b']\n",
        "fig4 = px.bar(df_cat, x=\"b\", y=\"a\",color='a',labels={'b':'Category','a':'Videos/Category'}, height=400)\n",
        "fig4.update_layout({'plot_bgcolor': 'rgba(0, 0, 0, 0)','paper_bgcolor': 'rgba(0, 0, 0, 0)',})"
      ],
      "execution_count": 29,
      "outputs": [
        {
          "output_type": "display_data",
          "data": {
            "text/html": [
              "<html>\n",
              "<head><meta charset=\"utf-8\" /></head>\n",
              "<body>\n",
              "    <div>            <script src=\"https://cdnjs.cloudflare.com/ajax/libs/mathjax/2.7.5/MathJax.js?config=TeX-AMS-MML_SVG\"></script><script type=\"text/javascript\">if (window.MathJax) {MathJax.Hub.Config({SVG: {font: \"STIX-Web\"}});}</script>                <script type=\"text/javascript\">window.PlotlyConfig = {MathJaxConfig: 'local'};</script>\n",
              "        <script src=\"https://cdn.plot.ly/plotly-2.8.3.min.js\"></script>                <div id=\"7430f098-1841-4cb1-ace0-a6fcd59f406d\" class=\"plotly-graph-div\" style=\"height:400px; width:100%;\"></div>            <script type=\"text/javascript\">                                    window.PLOTLYENV=window.PLOTLYENV || {};                                    if (document.getElementById(\"7430f098-1841-4cb1-ace0-a6fcd59f406d\")) {                    Plotly.newPlot(                        \"7430f098-1841-4cb1-ace0-a6fcd59f406d\",                        [{\"alignmentgroup\":\"True\",\"hovertemplate\":\"Category=%{x}<br>Videos/Category=%{marker.color}<extra></extra>\",\"legendgroup\":\"\",\"marker\":{\"color\":[48964,17818,14790,14713,13954,9488,9309,7874,4846,4544,3592,1522,1406,889,485,338,33,2],\"coloraxis\":\"coloraxis\",\"pattern\":{\"shape\":\"\"}},\"name\":\"\",\"offsetgroup\":\"\",\"orientation\":\"v\",\"showlegend\":false,\"textposition\":\"auto\",\"x\":[\"Entertainment\",\"Music\",\"Comedy\",\"News & Politics\",\"People & Blogs\",\"Sports\",\"Howto & Style\",\"Film & Animation\",\"Science & Technology\",\"Education\",\"Gaming\",\"Pets & Animals\",\"Autos & Vehicles\",\"Travel & Events\",\"Shows\",\"Nonprofits & Activism\",\"Movies\",\"Trailers\"],\"xaxis\":\"x\",\"y\":[48964,17818,14790,14713,13954,9488,9309,7874,4846,4544,3592,1522,1406,889,485,338,33,2],\"yaxis\":\"y\",\"type\":\"bar\"}],                        {\"template\":{\"data\":{\"bar\":[{\"error_x\":{\"color\":\"#2a3f5f\"},\"error_y\":{\"color\":\"#2a3f5f\"},\"marker\":{\"line\":{\"color\":\"#E5ECF6\",\"width\":0.5},\"pattern\":{\"fillmode\":\"overlay\",\"size\":10,\"solidity\":0.2}},\"type\":\"bar\"}],\"barpolar\":[{\"marker\":{\"line\":{\"color\":\"#E5ECF6\",\"width\":0.5},\"pattern\":{\"fillmode\":\"overlay\",\"size\":10,\"solidity\":0.2}},\"type\":\"barpolar\"}],\"carpet\":[{\"aaxis\":{\"endlinecolor\":\"#2a3f5f\",\"gridcolor\":\"white\",\"linecolor\":\"white\",\"minorgridcolor\":\"white\",\"startlinecolor\":\"#2a3f5f\"},\"baxis\":{\"endlinecolor\":\"#2a3f5f\",\"gridcolor\":\"white\",\"linecolor\":\"white\",\"minorgridcolor\":\"white\",\"startlinecolor\":\"#2a3f5f\"},\"type\":\"carpet\"}],\"choropleth\":[{\"colorbar\":{\"outlinewidth\":0,\"ticks\":\"\"},\"type\":\"choropleth\"}],\"contour\":[{\"colorbar\":{\"outlinewidth\":0,\"ticks\":\"\"},\"colorscale\":[[0.0,\"#0d0887\"],[0.1111111111111111,\"#46039f\"],[0.2222222222222222,\"#7201a8\"],[0.3333333333333333,\"#9c179e\"],[0.4444444444444444,\"#bd3786\"],[0.5555555555555556,\"#d8576b\"],[0.6666666666666666,\"#ed7953\"],[0.7777777777777778,\"#fb9f3a\"],[0.8888888888888888,\"#fdca26\"],[1.0,\"#f0f921\"]],\"type\":\"contour\"}],\"contourcarpet\":[{\"colorbar\":{\"outlinewidth\":0,\"ticks\":\"\"},\"type\":\"contourcarpet\"}],\"heatmap\":[{\"colorbar\":{\"outlinewidth\":0,\"ticks\":\"\"},\"colorscale\":[[0.0,\"#0d0887\"],[0.1111111111111111,\"#46039f\"],[0.2222222222222222,\"#7201a8\"],[0.3333333333333333,\"#9c179e\"],[0.4444444444444444,\"#bd3786\"],[0.5555555555555556,\"#d8576b\"],[0.6666666666666666,\"#ed7953\"],[0.7777777777777778,\"#fb9f3a\"],[0.8888888888888888,\"#fdca26\"],[1.0,\"#f0f921\"]],\"type\":\"heatmap\"}],\"heatmapgl\":[{\"colorbar\":{\"outlinewidth\":0,\"ticks\":\"\"},\"colorscale\":[[0.0,\"#0d0887\"],[0.1111111111111111,\"#46039f\"],[0.2222222222222222,\"#7201a8\"],[0.3333333333333333,\"#9c179e\"],[0.4444444444444444,\"#bd3786\"],[0.5555555555555556,\"#d8576b\"],[0.6666666666666666,\"#ed7953\"],[0.7777777777777778,\"#fb9f3a\"],[0.8888888888888888,\"#fdca26\"],[1.0,\"#f0f921\"]],\"type\":\"heatmapgl\"}],\"histogram\":[{\"marker\":{\"pattern\":{\"fillmode\":\"overlay\",\"size\":10,\"solidity\":0.2}},\"type\":\"histogram\"}],\"histogram2d\":[{\"colorbar\":{\"outlinewidth\":0,\"ticks\":\"\"},\"colorscale\":[[0.0,\"#0d0887\"],[0.1111111111111111,\"#46039f\"],[0.2222222222222222,\"#7201a8\"],[0.3333333333333333,\"#9c179e\"],[0.4444444444444444,\"#bd3786\"],[0.5555555555555556,\"#d8576b\"],[0.6666666666666666,\"#ed7953\"],[0.7777777777777778,\"#fb9f3a\"],[0.8888888888888888,\"#fdca26\"],[1.0,\"#f0f921\"]],\"type\":\"histogram2d\"}],\"histogram2dcontour\":[{\"colorbar\":{\"outlinewidth\":0,\"ticks\":\"\"},\"colorscale\":[[0.0,\"#0d0887\"],[0.1111111111111111,\"#46039f\"],[0.2222222222222222,\"#7201a8\"],[0.3333333333333333,\"#9c179e\"],[0.4444444444444444,\"#bd3786\"],[0.5555555555555556,\"#d8576b\"],[0.6666666666666666,\"#ed7953\"],[0.7777777777777778,\"#fb9f3a\"],[0.8888888888888888,\"#fdca26\"],[1.0,\"#f0f921\"]],\"type\":\"histogram2dcontour\"}],\"mesh3d\":[{\"colorbar\":{\"outlinewidth\":0,\"ticks\":\"\"},\"type\":\"mesh3d\"}],\"parcoords\":[{\"line\":{\"colorbar\":{\"outlinewidth\":0,\"ticks\":\"\"}},\"type\":\"parcoords\"}],\"pie\":[{\"automargin\":true,\"type\":\"pie\"}],\"scatter\":[{\"marker\":{\"colorbar\":{\"outlinewidth\":0,\"ticks\":\"\"}},\"type\":\"scatter\"}],\"scatter3d\":[{\"line\":{\"colorbar\":{\"outlinewidth\":0,\"ticks\":\"\"}},\"marker\":{\"colorbar\":{\"outlinewidth\":0,\"ticks\":\"\"}},\"type\":\"scatter3d\"}],\"scattercarpet\":[{\"marker\":{\"colorbar\":{\"outlinewidth\":0,\"ticks\":\"\"}},\"type\":\"scattercarpet\"}],\"scattergeo\":[{\"marker\":{\"colorbar\":{\"outlinewidth\":0,\"ticks\":\"\"}},\"type\":\"scattergeo\"}],\"scattergl\":[{\"marker\":{\"colorbar\":{\"outlinewidth\":0,\"ticks\":\"\"}},\"type\":\"scattergl\"}],\"scattermapbox\":[{\"marker\":{\"colorbar\":{\"outlinewidth\":0,\"ticks\":\"\"}},\"type\":\"scattermapbox\"}],\"scatterpolar\":[{\"marker\":{\"colorbar\":{\"outlinewidth\":0,\"ticks\":\"\"}},\"type\":\"scatterpolar\"}],\"scatterpolargl\":[{\"marker\":{\"colorbar\":{\"outlinewidth\":0,\"ticks\":\"\"}},\"type\":\"scatterpolargl\"}],\"scatterternary\":[{\"marker\":{\"colorbar\":{\"outlinewidth\":0,\"ticks\":\"\"}},\"type\":\"scatterternary\"}],\"surface\":[{\"colorbar\":{\"outlinewidth\":0,\"ticks\":\"\"},\"colorscale\":[[0.0,\"#0d0887\"],[0.1111111111111111,\"#46039f\"],[0.2222222222222222,\"#7201a8\"],[0.3333333333333333,\"#9c179e\"],[0.4444444444444444,\"#bd3786\"],[0.5555555555555556,\"#d8576b\"],[0.6666666666666666,\"#ed7953\"],[0.7777777777777778,\"#fb9f3a\"],[0.8888888888888888,\"#fdca26\"],[1.0,\"#f0f921\"]],\"type\":\"surface\"}],\"table\":[{\"cells\":{\"fill\":{\"color\":\"#EBF0F8\"},\"line\":{\"color\":\"white\"}},\"header\":{\"fill\":{\"color\":\"#C8D4E3\"},\"line\":{\"color\":\"white\"}},\"type\":\"table\"}]},\"layout\":{\"annotationdefaults\":{\"arrowcolor\":\"#2a3f5f\",\"arrowhead\":0,\"arrowwidth\":1},\"autotypenumbers\":\"strict\",\"coloraxis\":{\"colorbar\":{\"outlinewidth\":0,\"ticks\":\"\"}},\"colorscale\":{\"diverging\":[[0,\"#8e0152\"],[0.1,\"#c51b7d\"],[0.2,\"#de77ae\"],[0.3,\"#f1b6da\"],[0.4,\"#fde0ef\"],[0.5,\"#f7f7f7\"],[0.6,\"#e6f5d0\"],[0.7,\"#b8e186\"],[0.8,\"#7fbc41\"],[0.9,\"#4d9221\"],[1,\"#276419\"]],\"sequential\":[[0.0,\"#0d0887\"],[0.1111111111111111,\"#46039f\"],[0.2222222222222222,\"#7201a8\"],[0.3333333333333333,\"#9c179e\"],[0.4444444444444444,\"#bd3786\"],[0.5555555555555556,\"#d8576b\"],[0.6666666666666666,\"#ed7953\"],[0.7777777777777778,\"#fb9f3a\"],[0.8888888888888888,\"#fdca26\"],[1.0,\"#f0f921\"]],\"sequentialminus\":[[0.0,\"#0d0887\"],[0.1111111111111111,\"#46039f\"],[0.2222222222222222,\"#7201a8\"],[0.3333333333333333,\"#9c179e\"],[0.4444444444444444,\"#bd3786\"],[0.5555555555555556,\"#d8576b\"],[0.6666666666666666,\"#ed7953\"],[0.7777777777777778,\"#fb9f3a\"],[0.8888888888888888,\"#fdca26\"],[1.0,\"#f0f921\"]]},\"colorway\":[\"#636efa\",\"#EF553B\",\"#00cc96\",\"#ab63fa\",\"#FFA15A\",\"#19d3f3\",\"#FF6692\",\"#B6E880\",\"#FF97FF\",\"#FECB52\"],\"font\":{\"color\":\"#2a3f5f\"},\"geo\":{\"bgcolor\":\"white\",\"lakecolor\":\"white\",\"landcolor\":\"#E5ECF6\",\"showlakes\":true,\"showland\":true,\"subunitcolor\":\"white\"},\"hoverlabel\":{\"align\":\"left\"},\"hovermode\":\"closest\",\"mapbox\":{\"style\":\"light\"},\"paper_bgcolor\":\"white\",\"plot_bgcolor\":\"#E5ECF6\",\"polar\":{\"angularaxis\":{\"gridcolor\":\"white\",\"linecolor\":\"white\",\"ticks\":\"\"},\"bgcolor\":\"#E5ECF6\",\"radialaxis\":{\"gridcolor\":\"white\",\"linecolor\":\"white\",\"ticks\":\"\"}},\"scene\":{\"xaxis\":{\"backgroundcolor\":\"#E5ECF6\",\"gridcolor\":\"white\",\"gridwidth\":2,\"linecolor\":\"white\",\"showbackground\":true,\"ticks\":\"\",\"zerolinecolor\":\"white\"},\"yaxis\":{\"backgroundcolor\":\"#E5ECF6\",\"gridcolor\":\"white\",\"gridwidth\":2,\"linecolor\":\"white\",\"showbackground\":true,\"ticks\":\"\",\"zerolinecolor\":\"white\"},\"zaxis\":{\"backgroundcolor\":\"#E5ECF6\",\"gridcolor\":\"white\",\"gridwidth\":2,\"linecolor\":\"white\",\"showbackground\":true,\"ticks\":\"\",\"zerolinecolor\":\"white\"}},\"shapedefaults\":{\"line\":{\"color\":\"#2a3f5f\"}},\"ternary\":{\"aaxis\":{\"gridcolor\":\"white\",\"linecolor\":\"white\",\"ticks\":\"\"},\"baxis\":{\"gridcolor\":\"white\",\"linecolor\":\"white\",\"ticks\":\"\"},\"bgcolor\":\"#E5ECF6\",\"caxis\":{\"gridcolor\":\"white\",\"linecolor\":\"white\",\"ticks\":\"\"}},\"title\":{\"x\":0.05},\"xaxis\":{\"automargin\":true,\"gridcolor\":\"white\",\"linecolor\":\"white\",\"ticks\":\"\",\"title\":{\"standoff\":15},\"zerolinecolor\":\"white\",\"zerolinewidth\":2},\"yaxis\":{\"automargin\":true,\"gridcolor\":\"white\",\"linecolor\":\"white\",\"ticks\":\"\",\"title\":{\"standoff\":15},\"zerolinecolor\":\"white\",\"zerolinewidth\":2}}},\"xaxis\":{\"anchor\":\"y\",\"domain\":[0.0,1.0],\"title\":{\"text\":\"Category\"}},\"yaxis\":{\"anchor\":\"x\",\"domain\":[0.0,1.0],\"title\":{\"text\":\"Videos/Category\"}},\"coloraxis\":{\"colorbar\":{\"title\":{\"text\":\"Videos/Category\"}},\"colorscale\":[[0.0,\"#0d0887\"],[0.1111111111111111,\"#46039f\"],[0.2222222222222222,\"#7201a8\"],[0.3333333333333333,\"#9c179e\"],[0.4444444444444444,\"#bd3786\"],[0.5555555555555556,\"#d8576b\"],[0.6666666666666666,\"#ed7953\"],[0.7777777777777778,\"#fb9f3a\"],[0.8888888888888888,\"#fdca26\"],[1.0,\"#f0f921\"]]},\"legend\":{\"tracegroupgap\":0},\"margin\":{\"t\":60},\"barmode\":\"relative\",\"height\":400,\"plot_bgcolor\":\"rgba(0, 0, 0, 0)\",\"paper_bgcolor\":\"rgba(0, 0, 0, 0)\"},                        {\"responsive\": true}                    ).then(function(){\n",
              "                            \n",
              "var gd = document.getElementById('7430f098-1841-4cb1-ace0-a6fcd59f406d');\n",
              "var x = new MutationObserver(function (mutations, observer) {{\n",
              "        var display = window.getComputedStyle(gd).display;\n",
              "        if (!display || display === 'none') {{\n",
              "            console.log([gd, 'removed!']);\n",
              "            Plotly.purge(gd);\n",
              "            observer.disconnect();\n",
              "        }}\n",
              "}});\n",
              "\n",
              "// Listen for the removal of the full notebook cells\n",
              "var notebookContainer = gd.closest('#notebook-container');\n",
              "if (notebookContainer) {{\n",
              "    x.observe(notebookContainer, {childList: true});\n",
              "}}\n",
              "\n",
              "// Listen for the clearing of the current output cell\n",
              "var outputEl = gd.closest('.output');\n",
              "if (outputEl) {{\n",
              "    x.observe(outputEl, {childList: true});\n",
              "}}\n",
              "\n",
              "                        })                };                            </script>        </div>\n",
              "</body>\n",
              "</html>"
            ]
          },
          "metadata": {}
        }
      ]
    },
    {
      "cell_type": "code",
      "metadata": {
        "colab": {
          "base_uri": "https://localhost:8080/",
          "height": 757
        },
        "id": "pHjiLd2a-Jgu",
        "outputId": "1adf29d0-b9dd-4234-ce28-f2f350deb875"
      },
      "source": [
        "##2-Distribution of views against categories, using boxplot and views on log scale\n",
        "fig, ax = pyplot.subplots(figsize=(15,10))\n",
        "sns.boxplot(x=\"category\", y=\"views_log\", data=combined_data[['category','views_log']]),plt.xticks(rotation = 45)\n",
        "ax.set_title(\"Distribution of Views against Categories\",fontsize=20),ax.set_xlabel('Video Category',fontsize=15),ax.set_ylabel(ylabel='View Logs',fontsize=15)          \n",
        "# #To close the warning\n",
        "# fill with colors"
      ],
      "execution_count": 30,
      "outputs": [
        {
          "output_type": "execute_result",
          "data": {
            "text/plain": [
              "(Text(0.5, 1.0, 'Distribution of Views against Categories'),\n",
              " Text(0.5, 0, 'Video Category'),\n",
              " Text(0, 0.5, 'View Logs'))"
            ]
          },
          "metadata": {},
          "execution_count": 30
        },
        {
          "output_type": "display_data",
          "data": {
            "image/png": "[encoded data removed]",
            "text/plain": [
              "<Figure size 1080x720 with 1 Axes>"
            ]
          },
          "metadata": {
            "needs_background": "light"
          }
        }
      ]
    },
    {
      "cell_type": "code",
      "metadata": {
        "colab": {
          "base_uri": "https://localhost:8080/",
          "height": 757
        },
        "id": "IZ4RDFye-PrR",
        "outputId": "f6f6dbec-345f-4cb4-8745-abc0641905ae"
      },
      "source": [
        "##3-Distribution of dislikes against categories, Using boxplot and dislikes on log scale\n",
        "fig, ax = pyplot.subplots(figsize=(15,10))\n",
        "sns.boxplot(x=\"category\", y=\"dislikes_log\", data=combined_data[['category','dislikes_log']]),plt.xticks(rotation = 45)\n",
        "ax.set_title(\"Distribution of Dislikes against Categories\",fontsize=20),ax.set_xlabel('Video Category',fontsize=15),ax.set_ylabel(ylabel='Dislike Logs',fontsize=15)  \n"
      ],
      "execution_count": 31,
      "outputs": [
        {
          "output_type": "execute_result",
          "data": {
            "text/plain": [
              "(Text(0.5, 1.0, 'Distribution of Dislikes against Categories'),\n",
              " Text(0.5, 0, 'Video Category'),\n",
              " Text(0, 0.5, 'Dislike Logs'))"
            ]
          },
          "metadata": {},
          "execution_count": 31
        },
        {
          "output_type": "display_data",
          "data": {
            "image/png": "[encoded data removed]",
            "text/plain": [
              "<Figure size 1080x720 with 1 Axes>"
            ]
          },
          "metadata": {
            "needs_background": "light"
          }
        }
      ]
    },
    {
      "cell_type": "code",
      "metadata": {
        "id": "y8PhjR_duC_L"
      },
      "source": [
        "#How long does a video trend in a country?\n",
        "#What are some videos which got popular because they were disliked?"
      ],
      "execution_count": null,
      "outputs": []
    },
    {
      "cell_type": "markdown",
      "metadata": {
        "id": "6QXEF6oTA2t1"
      },
      "source": [
        "**How long does a video trend in a country?**"
      ]
    },
    {
      "cell_type": "code",
      "metadata": {
        "colab": {
          "base_uri": "https://localhost:8080/",
          "height": 497
        },
        "id": "CEsFWhHGuCsP",
        "outputId": "5fc5b5fd-82f0-4167-b2e3-b8dffe441c3d"
      },
      "source": [
        "df=combined_data.drop_duplicates()\n",
        "df1=df.groupby(['title','country']).size().reset_index(name='count')\n",
        "trending=df1.groupby('country')['count'].mean().to_frame().reset_index().rename(columns={\"country\": \"Country\", \"count\": \"Mean Trinding days\"})\n",
        "\n",
        "fig, ax = pyplot.subplots(figsize=(10, 7)),sns.set(font_scale=1.5)\n",
        "sns.barplot(x=\"Country\", y=\"Mean Trinding days\", data=trending,ax=ax),plt.title('Number of Mean Video Trending in Each Country ',color='Blue')"
      ],
      "execution_count": 32,
      "outputs": [
        {
          "output_type": "execute_result",
          "data": {
            "text/plain": [
              "(<matplotlib.axes._subplots.AxesSubplot at 0x7f1dd32f7590>,\n",
              " Text(0.5, 1.0, 'Number of Mean Video Trending in Each Country '))"
            ]
          },
          "metadata": {},
          "execution_count": 32
        },
        {
          "output_type": "display_data",
          "data": {
            "image/png": "[encoded data removed]",
            "text/plain": [
              "<Figure size 720x504 with 1 Axes>"
            ]
          },
          "metadata": {
            "needs_background": "light"
          }
        }
      ]
    },
    {
      "cell_type": "markdown",
      "metadata": {
        "id": "tkDLuxGaBFGv"
      },
      "source": [
        "**What are some videos which got popular because they were disliked?**"
      ]
    },
    {
      "cell_type": "code",
      "metadata": {
        "colab": {
          "base_uri": "https://localhost:8080/"
        },
        "id": "RoHi1dx2BEoT",
        "outputId": "9de12c1e-50b1-4dfb-f6b4-33b2115e4c84"
      },
      "source": [
        "df2=df.groupby(['title','dislikes','likes']).size().reset_index(name='Trend_Days')\n",
        "trending_dislikes=df2.loc[(df2['dislikes'] > df2['likes']) & (df2['Trend_Days'] >= 3)] #Videos which got trends and have dislikes more than likes#\n",
        "trending_dislikes=trending_dislikes.sort_values(['Trend_Days'],ascending=[ False])\n",
        "print('Videos which got popular because they were disliked: \\n \\n',trending_dislikes.title.to_string(index=False))"
      ],
      "execution_count": 33,
      "outputs": [
        {
          "output_type": "stream",
          "name": "stdout",
          "text": [
            "Videos which got popular because they were disliked: \n",
            " \n",
            "  Jeffrey Tambor Fired From 'Transparent' Follow...\n",
            " 5 Things You Missed at the 2018 SAG Awards | E...\n",
            " Fergie Performs The U.S. National Anthem / 201...\n",
            "                        Staudt on Sports I 1-22-18\n",
            "         WATCH: Sen. Mitch McConnell on tax reform\n",
            "                               二贵摔跤 - tienghoa.net\n"
          ]
        }
      ]
    },
    {
      "cell_type": "markdown",
      "metadata": {
        "id": "a9l7UZPoGBcB"
      },
      "source": [
        "#### 5.2.5: Feature Engineering (8 pts)\n"
      ]
    },
    {
      "cell_type": "markdown",
      "metadata": {
        "id": "bUSsAlnaI4Ep"
      },
      "source": [
        "\n",
        "##### a. Processing tags (1 pt)\n",
        "\n",
        "The feature tags in the dataset has a delimiter, use that delimiter to count the number of tags, create a feature called num_tags and add that to the dataset."
      ]
    },
    {
      "cell_type": "code",
      "metadata": {
        "colab": {
          "base_uri": "https://localhost:8080/",
          "height": 1000
        },
        "id": "4L_6WcapHPDl",
        "outputId": "8e7c9fee-cf5b-465b-c2f8-6cb42b47b1f0"
      },
      "source": [
        "# Add your code here\n",
        "num_tags=[]\n",
        "xdf=combined_data.reset_index(drop=True)\n",
        "for i in range(len(combined_data)):\n",
        "  if xdf.at[i,'tags']=='[none]': #some videos has no tags but instead [none], so we are going to consider it as Zero tags.\n",
        "    count=0\n",
        "  else:\n",
        "    count=(xdf.at[i,'tags']).count(\"|\") + 1 \n",
        "  num_tags.append(count)\n",
        "combined_data['num_tags']=num_tags\n",
        "combined_data\n"
      ],
      "execution_count": 34,
      "outputs": [
        {
          "output_type": "execute_result",
          "data": {
            "text/html": [
              "\n",
              "  <div id=\"df-2c6faa5a-2977-4fc4-bb98-8cb741e9123d\">\n",
              "    <div class=\"colab-df-container\">\n",
              "      <div>\n",
              "<style scoped>\n",
              "    .dataframe tbody tr th:only-of-type {\n",
              "        vertical-align: middle;\n",
              "    }\n",
              "\n",
              "    .dataframe tbody tr th {\n",
              "        vertical-align: top;\n",
              "    }\n",
              "\n",
              "    .dataframe thead th {\n",
              "        text-align: right;\n",
              "    }\n",
              "</style>\n",
              "<table border=\"1\" class=\"dataframe\">\n",
              "  <thead>\n",
              "    <tr style=\"text-align: right;\">\n",
              "      <th></th>\n",
              "      <th>trending_date</th>\n",
              "      <th>title</th>\n",
              "      <th>channel_title</th>\n",
              "      <th>category_id</th>\n",
              "      <th>publish_time</th>\n",
              "      <th>tags</th>\n",
              "      <th>views</th>\n",
              "      <th>likes</th>\n",
              "      <th>dislikes</th>\n",
              "      <th>comment_count</th>\n",
              "      <th>thumbnail_link</th>\n",
              "      <th>comments_disabled</th>\n",
              "      <th>ratings_disabled</th>\n",
              "      <th>video_error_or_removed</th>\n",
              "      <th>description</th>\n",
              "      <th>country</th>\n",
              "      <th>category</th>\n",
              "      <th>likes_log</th>\n",
              "      <th>views_log</th>\n",
              "      <th>dislikes_log</th>\n",
              "      <th>comment_log</th>\n",
              "      <th>num_tags</th>\n",
              "    </tr>\n",
              "    <tr>\n",
              "      <th>video_id</th>\n",
              "      <th></th>\n",
              "      <th></th>\n",
              "      <th></th>\n",
              "      <th></th>\n",
              "      <th></th>\n",
              "      <th></th>\n",
              "      <th></th>\n",
              "      <th></th>\n",
              "      <th></th>\n",
              "      <th></th>\n",
              "      <th></th>\n",
              "      <th></th>\n",
              "      <th></th>\n",
              "      <th></th>\n",
              "      <th></th>\n",
              "      <th></th>\n",
              "      <th></th>\n",
              "      <th></th>\n",
              "      <th></th>\n",
              "      <th></th>\n",
              "      <th></th>\n",
              "      <th></th>\n",
              "    </tr>\n",
              "  </thead>\n",
              "  <tbody>\n",
              "    <tr>\n",
              "      <th>kzwfHumJyYc</th>\n",
              "      <td>2017-11-14</td>\n",
              "      <td>Sharry Mann: Cute Munda ( Song Teaser) | Parmi...</td>\n",
              "      <td>Lokdhun Punjabi</td>\n",
              "      <td>1</td>\n",
              "      <td>2017-11-12 12:20:39</td>\n",
              "      <td>sharry mann|\"sharry mann new song\"|\"sharry man...</td>\n",
              "      <td>1096327</td>\n",
              "      <td>33966</td>\n",
              "      <td>798</td>\n",
              "      <td>882</td>\n",
              "      <td>https://i.ytimg.com/vi/kzwfHumJyYc/default.jpg</td>\n",
              "      <td>False</td>\n",
              "      <td>False</td>\n",
              "      <td>False</td>\n",
              "      <td>Presenting Sharry Mann latest Punjabi Song  Cu...</td>\n",
              "      <td>IN</td>\n",
              "      <td>Film &amp; Animation</td>\n",
              "      <td>10.433145</td>\n",
              "      <td>13.907477</td>\n",
              "      <td>6.683361</td>\n",
              "      <td>6.783325</td>\n",
              "      <td>15</td>\n",
              "    </tr>\n",
              "    <tr>\n",
              "      <th>zUZ1z7FwLc8</th>\n",
              "      <td>2017-11-14</td>\n",
              "      <td>पीरियड्स के समय, पेट पर पति करता ऐसा, देखकर दं...</td>\n",
              "      <td>HJ NEWS</td>\n",
              "      <td>25</td>\n",
              "      <td>2017-11-13 05:43:56</td>\n",
              "      <td>पीरियड्स के समय|\"पेट पर पति करता ऐसा\"|\"देखकर द...</td>\n",
              "      <td>590101</td>\n",
              "      <td>735</td>\n",
              "      <td>904</td>\n",
              "      <td>0</td>\n",
              "      <td>https://i.ytimg.com/vi/zUZ1z7FwLc8/default.jpg</td>\n",
              "      <td>True</td>\n",
              "      <td>False</td>\n",
              "      <td>False</td>\n",
              "      <td>पीरियड्स के समय, पेट पर पति करता ऐसा, देखकर दं...</td>\n",
              "      <td>IN</td>\n",
              "      <td>News &amp; Politics</td>\n",
              "      <td>6.601230</td>\n",
              "      <td>13.288051</td>\n",
              "      <td>6.807935</td>\n",
              "      <td>0.000000</td>\n",
              "      <td>19</td>\n",
              "    </tr>\n",
              "    <tr>\n",
              "      <th>10L1hZ9qa58</th>\n",
              "      <td>2017-11-14</td>\n",
              "      <td>Stylish Star Allu Arjun @ ChaySam Wedding Rece...</td>\n",
              "      <td>TFPC</td>\n",
              "      <td>24</td>\n",
              "      <td>2017-11-12 15:48:08</td>\n",
              "      <td>Stylish Star Allu Arjun @ ChaySam Wedding Rece...</td>\n",
              "      <td>473988</td>\n",
              "      <td>2011</td>\n",
              "      <td>243</td>\n",
              "      <td>149</td>\n",
              "      <td>https://i.ytimg.com/vi/10L1hZ9qa58/default.jpg</td>\n",
              "      <td>False</td>\n",
              "      <td>False</td>\n",
              "      <td>False</td>\n",
              "      <td>Watch Stylish Star Allu Arjun @ ChaySam Weddin...</td>\n",
              "      <td>IN</td>\n",
              "      <td>Entertainment</td>\n",
              "      <td>7.606885</td>\n",
              "      <td>13.068939</td>\n",
              "      <td>5.497168</td>\n",
              "      <td>5.010635</td>\n",
              "      <td>14</td>\n",
              "    </tr>\n",
              "    <tr>\n",
              "      <th>N1vE8iiEg64</th>\n",
              "      <td>2017-11-14</td>\n",
              "      <td>Eruma Saani | Tamil vs English</td>\n",
              "      <td>Eruma Saani</td>\n",
              "      <td>23</td>\n",
              "      <td>2017-11-12 07:08:48</td>\n",
              "      <td>Eruma Saani|\"Tamil Comedy Videos\"|\"Films\"|\"Mov...</td>\n",
              "      <td>1242680</td>\n",
              "      <td>70353</td>\n",
              "      <td>1624</td>\n",
              "      <td>2684</td>\n",
              "      <td>https://i.ytimg.com/vi/N1vE8iiEg64/default.jpg</td>\n",
              "      <td>False</td>\n",
              "      <td>False</td>\n",
              "      <td>False</td>\n",
              "      <td>This video showcases the difference between pe...</td>\n",
              "      <td>IN</td>\n",
              "      <td>Comedy</td>\n",
              "      <td>11.161295</td>\n",
              "      <td>14.032782</td>\n",
              "      <td>7.393263</td>\n",
              "      <td>7.895436</td>\n",
              "      <td>20</td>\n",
              "    </tr>\n",
              "    <tr>\n",
              "      <th>kJzGH0PVQHQ</th>\n",
              "      <td>2017-11-14</td>\n",
              "      <td>why Samantha became EMOTIONAL @ Samantha naga ...</td>\n",
              "      <td>Filmylooks</td>\n",
              "      <td>24</td>\n",
              "      <td>2017-11-13 01:14:16</td>\n",
              "      <td>Filmylooks|\"latest news\"|\"telugu movies\"|\"telu...</td>\n",
              "      <td>464015</td>\n",
              "      <td>492</td>\n",
              "      <td>293</td>\n",
              "      <td>66</td>\n",
              "      <td>https://i.ytimg.com/vi/kJzGH0PVQHQ/default.jpg</td>\n",
              "      <td>False</td>\n",
              "      <td>False</td>\n",
              "      <td>False</td>\n",
              "      <td>why Samantha became EMOTIONAL @ Samantha naga ...</td>\n",
              "      <td>IN</td>\n",
              "      <td>Entertainment</td>\n",
              "      <td>6.200509</td>\n",
              "      <td>13.047674</td>\n",
              "      <td>5.683580</td>\n",
              "      <td>4.204693</td>\n",
              "      <td>11</td>\n",
              "    </tr>\n",
              "    <tr>\n",
              "      <th>...</th>\n",
              "      <td>...</td>\n",
              "      <td>...</td>\n",
              "      <td>...</td>\n",
              "      <td>...</td>\n",
              "      <td>...</td>\n",
              "      <td>...</td>\n",
              "      <td>...</td>\n",
              "      <td>...</td>\n",
              "      <td>...</td>\n",
              "      <td>...</td>\n",
              "      <td>...</td>\n",
              "      <td>...</td>\n",
              "      <td>...</td>\n",
              "      <td>...</td>\n",
              "      <td>...</td>\n",
              "      <td>...</td>\n",
              "      <td>...</td>\n",
              "      <td>...</td>\n",
              "      <td>...</td>\n",
              "      <td>...</td>\n",
              "      <td>...</td>\n",
              "      <td>...</td>\n",
              "    </tr>\n",
              "    <tr>\n",
              "      <th>1PhPYr_9zRY</th>\n",
              "      <td>2018-06-14</td>\n",
              "      <td>BTS Plays With Puppies While Answering Fan Que...</td>\n",
              "      <td>BuzzFeed Celeb</td>\n",
              "      <td>22</td>\n",
              "      <td>2018-05-18 16:39:29</td>\n",
              "      <td>BuzzFeed|\"BuzzFeedVideo\"|\"Puppy Interview\"|\"pu...</td>\n",
              "      <td>8259128</td>\n",
              "      <td>645888</td>\n",
              "      <td>4052</td>\n",
              "      <td>62610</td>\n",
              "      <td>https://i.ytimg.com/vi/1PhPYr_9zRY/default.jpg</td>\n",
              "      <td>False</td>\n",
              "      <td>False</td>\n",
              "      <td>False</td>\n",
              "      <td>BTS with the PPS, the puppies. These adorable ...</td>\n",
              "      <td>US</td>\n",
              "      <td>People &amp; Blogs</td>\n",
              "      <td>13.378383</td>\n",
              "      <td>15.926830</td>\n",
              "      <td>8.307213</td>\n",
              "      <td>11.044696</td>\n",
              "      <td>27</td>\n",
              "    </tr>\n",
              "    <tr>\n",
              "      <th>BZt0qjTWNhw</th>\n",
              "      <td>2018-06-14</td>\n",
              "      <td>The Cat Who Caught the Laser</td>\n",
              "      <td>AaronsAnimals</td>\n",
              "      <td>15</td>\n",
              "      <td>2018-05-18 13:00:04</td>\n",
              "      <td>aarons animals|\"aarons\"|\"animals\"|\"cat\"|\"cats\"...</td>\n",
              "      <td>1685609</td>\n",
              "      <td>38160</td>\n",
              "      <td>1385</td>\n",
              "      <td>2657</td>\n",
              "      <td>https://i.ytimg.com/vi/BZt0qjTWNhw/default.jpg</td>\n",
              "      <td>False</td>\n",
              "      <td>False</td>\n",
              "      <td>False</td>\n",
              "      <td>The Cat Who Caught the Laser - Aaron's Animals</td>\n",
              "      <td>US</td>\n",
              "      <td>Pets &amp; Animals</td>\n",
              "      <td>10.549569</td>\n",
              "      <td>14.337638</td>\n",
              "      <td>7.234177</td>\n",
              "      <td>7.885329</td>\n",
              "      <td>14</td>\n",
              "    </tr>\n",
              "    <tr>\n",
              "      <th>D6Oy4LfoqsU</th>\n",
              "      <td>2018-06-14</td>\n",
              "      <td>I GAVE SAFIYA NYGAARD A PERFECT HAIR MAKEOVER ...</td>\n",
              "      <td>Brad Mondo</td>\n",
              "      <td>24</td>\n",
              "      <td>2018-05-18 17:34:22</td>\n",
              "      <td>I gave safiya nygaard a perfect hair makeover ...</td>\n",
              "      <td>1066451</td>\n",
              "      <td>48068</td>\n",
              "      <td>1032</td>\n",
              "      <td>3992</td>\n",
              "      <td>https://i.ytimg.com/vi/D6Oy4LfoqsU/default.jpg</td>\n",
              "      <td>False</td>\n",
              "      <td>False</td>\n",
              "      <td>False</td>\n",
              "      <td>I had so much fun transforming Safiyas hair in...</td>\n",
              "      <td>US</td>\n",
              "      <td>Entertainment</td>\n",
              "      <td>10.780393</td>\n",
              "      <td>13.879848</td>\n",
              "      <td>6.940222</td>\n",
              "      <td>8.292298</td>\n",
              "      <td>24</td>\n",
              "    </tr>\n",
              "    <tr>\n",
              "      <th>oV0zkMe1K8s</th>\n",
              "      <td>2018-06-14</td>\n",
              "      <td>How Black Panther Should Have Ended</td>\n",
              "      <td>How It Should Have Ended</td>\n",
              "      <td>1</td>\n",
              "      <td>2018-05-17 17:00:04</td>\n",
              "      <td>Black Panther|\"HISHE\"|\"Marvel\"|\"Infinity War\"|...</td>\n",
              "      <td>5660813</td>\n",
              "      <td>192957</td>\n",
              "      <td>2846</td>\n",
              "      <td>13088</td>\n",
              "      <td>https://i.ytimg.com/vi/oV0zkMe1K8s/default.jpg</td>\n",
              "      <td>False</td>\n",
              "      <td>False</td>\n",
              "      <td>False</td>\n",
              "      <td>How Black Panther Should Have EndedWatch More ...</td>\n",
              "      <td>US</td>\n",
              "      <td>Film &amp; Animation</td>\n",
              "      <td>12.170228</td>\n",
              "      <td>15.549078</td>\n",
              "      <td>7.954021</td>\n",
              "      <td>9.479527</td>\n",
              "      <td>22</td>\n",
              "    </tr>\n",
              "    <tr>\n",
              "      <th>ooyjaVdt-jA</th>\n",
              "      <td>2018-06-14</td>\n",
              "      <td>Official Call of Duty®: Black Ops 4 — Multipla...</td>\n",
              "      <td>Call of Duty</td>\n",
              "      <td>20</td>\n",
              "      <td>2018-05-17 17:09:38</td>\n",
              "      <td>call of duty|\"cod\"|\"activision\"|\"Black Ops 4\"</td>\n",
              "      <td>10306119</td>\n",
              "      <td>357079</td>\n",
              "      <td>212976</td>\n",
              "      <td>144795</td>\n",
              "      <td>https://i.ytimg.com/vi/ooyjaVdt-jA/default.jpg</td>\n",
              "      <td>False</td>\n",
              "      <td>False</td>\n",
              "      <td>False</td>\n",
              "      <td>Call of Duty: Black Ops 4 Multiplayer raises t...</td>\n",
              "      <td>US</td>\n",
              "      <td>Gaming</td>\n",
              "      <td>12.785715</td>\n",
              "      <td>16.148248</td>\n",
              "      <td>12.268939</td>\n",
              "      <td>11.883081</td>\n",
              "      <td>4</td>\n",
              "    </tr>\n",
              "  </tbody>\n",
              "</table>\n",
              "<p>154567 rows × 22 columns</p>\n",
              "</div>\n",
              "      <button class=\"colab-df-convert\" onclick=\"convertToInteractive('df-2c6faa5a-2977-4fc4-bb98-8cb741e9123d')\"\n",
              "              title=\"Convert this dataframe to an interactive table.\"\n",
              "              style=\"display:none;\">\n",
              "        \n",
              "  <svg xmlns=\"http://www.w3.org/2000/svg\" height=\"24px\"viewBox=\"0 0 24 24\"\n",
              "       width=\"24px\">\n",
              "    <path d=\"M0 0h24v24H0V0z\" fill=\"none\"/>\n",
              "    <path d=\"M18.56 5.44l.94 2.06.94-2.06 2.06-.94-2.06-.94-.94-2.06-.94 2.06-2.06.94zm-11 1L8.5 8.5l.94-2.06 2.06-.94-2.06-.94L8.5 2.5l-.94 2.06-2.06.94zm10 10l.94 2.06.94-2.06 2.06-.94-2.06-.94-.94-2.06-.94 2.06-2.06.94z\"/><path d=\"M17.41 7.96l-1.37-1.37c-.4-.4-.92-.59-1.43-.59-.52 0-1.04.2-1.43.59L10.3 9.45l-7.72 7.72c-.78.78-.78 2.05 0 2.83L4 21.41c.39.39.9.59 1.41.59.51 0 1.02-.2 1.41-.59l7.78-7.78 2.81-2.81c.8-.78.8-2.07 0-2.86zM5.41 20L4 18.59l7.72-7.72 1.47 1.35L5.41 20z\"/>\n",
              "  </svg>\n",
              "      </button>\n",
              "      \n",
              "  <style>\n",
              "    .colab-df-container {\n",
              "      display:flex;\n",
              "      flex-wrap:wrap;\n",
              "      gap: 12px;\n",
              "    }\n",
              "\n",
              "    .colab-df-convert {\n",
              "      background-color: #E8F0FE;\n",
              "      border: none;\n",
              "      border-radius: 50%;\n",
              "      cursor: pointer;\n",
              "      display: none;\n",
              "      fill: #1967D2;\n",
              "      height: 32px;\n",
              "      padding: 0 0 0 0;\n",
              "      width: 32px;\n",
              "    }\n",
              "\n",
              "    .colab-df-convert:hover {\n",
              "      background-color: #E2EBFA;\n",
              "      box-shadow: 0px 1px 2px rgba(60, 64, 67, 0.3), 0px 1px 3px 1px rgba(60, 64, 67, 0.15);\n",
              "      fill: #174EA6;\n",
              "    }\n",
              "\n",
              "    [theme=dark] .colab-df-convert {\n",
              "      background-color: #3B4455;\n",
              "      fill: #D2E3FC;\n",
              "    }\n",
              "\n",
              "    [theme=dark] .colab-df-convert:hover {\n",
              "      background-color: #434B5C;\n",
              "      box-shadow: 0px 1px 3px 1px rgba(0, 0, 0, 0.15);\n",
              "      filter: drop-shadow(0px 1px 2px rgba(0, 0, 0, 0.3));\n",
              "      fill: #FFFFFF;\n",
              "    }\n",
              "  </style>\n",
              "\n",
              "      <script>\n",
              "        const buttonEl =\n",
              "          document.querySelector('#df-2c6faa5a-2977-4fc4-bb98-8cb741e9123d button.colab-df-convert');\n",
              "        buttonEl.style.display =\n",
              "          google.colab.kernel.accessAllowed ? 'block' : 'none';\n",
              "\n",
              "        async function convertToInteractive(key) {\n",
              "          const element = document.querySelector('#df-2c6faa5a-2977-4fc4-bb98-8cb741e9123d');\n",
              "          const dataTable =\n",
              "            await google.colab.kernel.invokeFunction('convertToInteractive',\n",
              "                                                     [key], {});\n",
              "          if (!dataTable) return;\n",
              "\n",
              "          const docLinkHtml = 'Like what you see? Visit the ' +\n",
              "            '<a target=\"_blank\" href=https://colab.research.google.com/notebooks/data_table.ipynb>data table notebook</a>'\n",
              "            + ' to learn more about interactive tables.';\n",
              "          element.innerHTML = '';\n",
              "          dataTable['output_type'] = 'display_data';\n",
              "          await google.colab.output.renderOutput(dataTable, element);\n",
              "          const docLink = document.createElement('div');\n",
              "          docLink.innerHTML = docLinkHtml;\n",
              "          element.appendChild(docLink);\n",
              "        }\n",
              "      </script>\n",
              "    </div>\n",
              "  </div>\n",
              "  "
            ],
            "text/plain": [
              "            trending_date  ... num_tags\n",
              "video_id                   ...         \n",
              "kzwfHumJyYc    2017-11-14  ...       15\n",
              "zUZ1z7FwLc8    2017-11-14  ...       19\n",
              "10L1hZ9qa58    2017-11-14  ...       14\n",
              "N1vE8iiEg64    2017-11-14  ...       20\n",
              "kJzGH0PVQHQ    2017-11-14  ...       11\n",
              "...                   ...  ...      ...\n",
              "1PhPYr_9zRY    2018-06-14  ...       27\n",
              "BZt0qjTWNhw    2018-06-14  ...       14\n",
              "D6Oy4LfoqsU    2018-06-14  ...       24\n",
              "oV0zkMe1K8s    2018-06-14  ...       22\n",
              "ooyjaVdt-jA    2018-06-14  ...        4\n",
              "\n",
              "[154567 rows x 22 columns]"
            ]
          },
          "metadata": {},
          "execution_count": 34
        }
      ]
    },
    {
      "cell_type": "markdown",
      "metadata": {
        "id": "8bnJqokpI1Mj"
      },
      "source": [
        "##### b. Processing description and title (2 pts.)\n",
        "\n",
        "Calculate the length of description and title and add them as features to the dataset"
      ]
    },
    {
      "cell_type": "code",
      "metadata": {
        "id": "NJyWb54zHes2"
      },
      "source": [
        "# Add your code here\n",
        "combined_data[\"desc_len\"]=combined_data[\"description\"].apply(lambda x: len(x))"
      ],
      "execution_count": 35,
      "outputs": []
    },
    {
      "cell_type": "code",
      "metadata": {
        "id": "ZPMnQhbJHgx0"
      },
      "source": [
        "# Add your code here\n",
        "\n",
        "combined_data[\"len_title\"]=combined_data[\"title\"].apply(lambda x: len(x))"
      ],
      "execution_count": 36,
      "outputs": []
    },
    {
      "cell_type": "code",
      "metadata": {
        "colab": {
          "base_uri": "https://localhost:8080/"
        },
        "id": "ksE7fNPQS_qr",
        "outputId": "414124d2-cc97-401f-be49-10c4c37937d5"
      },
      "source": [
        "# Print cell\n",
        "print('check_tags_title_description \\n',([combined_data['num_tags'].describe(),combined_data['desc_len'].describe(),combined_data['len_title'].describe()]))"
      ],
      "execution_count": 37,
      "outputs": [
        {
          "output_type": "stream",
          "name": "stdout",
          "text": [
            "check_tags_title_description \n",
            " [count    154567.000000\n",
            "mean         18.580551\n",
            "std          11.929906\n",
            "min           0.000000\n",
            "25%           9.000000\n",
            "50%          17.000000\n",
            "75%          26.000000\n",
            "max         124.000000\n",
            "Name: num_tags, dtype: float64, count    154567.000000\n",
            "mean        959.949426\n",
            "std         857.504028\n",
            "min           1.000000\n",
            "25%         363.000000\n",
            "50%         717.000000\n",
            "75%        1288.000000\n",
            "max        5260.000000\n",
            "Name: desc_len, dtype: float64, count    154567.000000\n",
            "mean         56.408541\n",
            "std          22.976198\n",
            "min           2.000000\n",
            "25%          38.000000\n",
            "50%          54.000000\n",
            "75%          74.000000\n",
            "max         100.000000\n",
            "Name: len_title, dtype: float64]\n"
          ]
        }
      ]
    },
    {
      "cell_type": "markdown",
      "metadata": {
        "id": "aOaB6ZbCJTBv"
      },
      "source": [
        "##### c. Processing publish_time. (4 pts.)\n",
        "\n",
        "\n",
        "Split 'publish_time' feature into three parts time, date, and weekday, where time will contain the time component of the original feature and date and weekday will store the corresponding date and weekday number respectively. Start with 1 for Monday and end with 7 for Sunday."
      ]
    },
    {
      "cell_type": "code",
      "metadata": {
        "id": "ZH_SGsb2rnF2",
        "colab": {
          "base_uri": "https://localhost:8080/"
        },
        "outputId": "03444cd1-bf18-4c0b-e480-eeabcb90d331"
      },
      "source": [
        "date_data=combined_data['publish_time']\n",
        "\n",
        "date_data"
      ],
      "execution_count": 38,
      "outputs": [
        {
          "output_type": "execute_result",
          "data": {
            "text/plain": [
              "video_id\n",
              "kzwfHumJyYc   2017-11-12 12:20:39\n",
              "zUZ1z7FwLc8   2017-11-13 05:43:56\n",
              "10L1hZ9qa58   2017-11-12 15:48:08\n",
              "N1vE8iiEg64   2017-11-12 07:08:48\n",
              "kJzGH0PVQHQ   2017-11-13 01:14:16\n",
              "                      ...        \n",
              "1PhPYr_9zRY   2018-05-18 16:39:29\n",
              "BZt0qjTWNhw   2018-05-18 13:00:04\n",
              "D6Oy4LfoqsU   2018-05-18 17:34:22\n",
              "oV0zkMe1K8s   2018-05-17 17:00:04\n",
              "ooyjaVdt-jA   2018-05-17 17:09:38\n",
              "Name: publish_time, Length: 154567, dtype: datetime64[ns]"
            ]
          },
          "metadata": {},
          "execution_count": 38
        }
      ]
    },
    {
      "cell_type": "code",
      "metadata": {
        "id": "HEZJI6lRy1v1"
      },
      "source": [
        "date_data=combined_data['publish_time']"
      ],
      "execution_count": 39,
      "outputs": []
    },
    {
      "cell_type": "code",
      "metadata": {
        "id": "0IR85D2My0kg"
      },
      "source": [
        "date_data=combined_data['publish_time']"
      ],
      "execution_count": 40,
      "outputs": []
    },
    {
      "cell_type": "code",
      "metadata": {
        "id": "ZVJTEJRFHrI5"
      },
      "source": [
        "# Add your code here\n",
        "#combined_data['publish_time'] =date_data.apply(lambda x: pd.to_datetime(x).time())\n",
        "combined_data['publish_date'] =date_data.apply(lambda x: pd.to_datetime(x).date())\n",
        "\n",
        "#day on which video was published\n",
        "combined_data['publish_weekday']=date_data.apply(lambda x: x.dayofweek)+1\n",
        "\n",
        "import random\n",
        "random_index = random.randint(0,combined_data.shape[0]-1)\n"
      ],
      "execution_count": 41,
      "outputs": []
    },
    {
      "cell_type": "code",
      "metadata": {
        "colab": {
          "base_uri": "https://localhost:8080/"
        },
        "id": "Ud5dPVljTDoQ",
        "outputId": "ce0be12e-0c82-4ab4-e9b4-ce750e4279a9"
      },
      "source": [
        "# Print cell\n",
        "print('check_date_time_processing',([combined_data['publish_time'].iloc[random_index],combined_data['publish_date'].iloc[random_index],sorted(list(combined_data[\"publish_weekday\"].value_counts()))]))"
      ],
      "execution_count": 42,
      "outputs": [
        {
          "output_type": "stream",
          "name": "stdout",
          "text": [
            "check_date_time_processing [Timestamp('2018-05-25 14:00:01'), datetime.date(2018, 5, 25), [18641, 18931, 22146, 22501, 22523, 23573, 26252]]\n"
          ]
        }
      ]
    },
    {
      "cell_type": "markdown",
      "metadata": {
        "id": "mx1JPowWKKE7"
      },
      "source": [
        "##### d. Number of videos per weekday (1 pt)\n",
        "\n",
        "Calculate the number of videos published per day of the week. Which day of the week do people publish most videos? Make a visualization demonstrating the result."
      ]
    },
    {
      "cell_type": "code",
      "metadata": {
        "colab": {
          "base_uri": "https://localhost:8080/",
          "height": 678
        },
        "id": "IYNXbH9AKhzy",
        "outputId": "e117af73-b6d9-4899-c77a-0c6f7366b608"
      },
      "source": [
        "# Add your code for plot here\n",
        "\n",
        "##Creating dataframe after deleting videos which stay trending for more than one day according to the Video ID\n",
        "dfx=combined_data.reset_index(level=0)[['video_id','publish_weekday']].drop_duplicates(subset = ['video_id'], keep = 'last')\n",
        "\n",
        "##Mapping the day number : day name\n",
        "dayOfWeek={1:'Monday', 2:'Tuesday', 3:'Wednesday', 4:'Thursday', 5:'Friday', 6:'Saturday', 7:'Sunday'}\n",
        "dfx['publish_weekday'] = dfx['publish_weekday'].map(dayOfWeek)\n",
        "\n",
        "##Calculating and plotting\n",
        "videos_weekday = dfx['publish_weekday'].value_counts().to_frame().reset_index().rename(columns={\"index\": \"Week_Days\", \"publish_weekday\": \"No_of_videos\"})\n",
        "fig, ax = pyplot.subplots(figsize=(15, 10)),sns.set(font_scale=1.5)\n",
        "sns.barplot(x=\"Week_Days\", y=\"No_of_videos\", data=videos_weekday,ax=ax),plt.title('Number of puplished videos per week days ',color='Green')\n",
        "# Plots will be manually graded"
      ],
      "execution_count": 43,
      "outputs": [
        {
          "output_type": "execute_result",
          "data": {
            "text/plain": [
              "(<matplotlib.axes._subplots.AxesSubplot at 0x7f1dd2c27fd0>,\n",
              " Text(0.5, 1.0, 'Number of puplished videos per week days '))"
            ]
          },
          "metadata": {},
          "execution_count": 43
        },
        {
          "output_type": "display_data",
          "data": {
            "image/png": "[encoded data removed]",
            "text/plain": [
              "<Figure size 1080x720 with 1 Axes>"
            ]
          },
          "metadata": {}
        }
      ]
    },
    {
      "cell_type": "markdown",
      "metadata": {
        "id": "qd7dG7GTKrVQ"
      },
      "source": [
        "#### 5.2.6: Dropping irrelevant non numeric columns (1 pt.)\n",
        "\n",
        "Drop all the columns that are non-numeric as we have processed them and stored the information captured in them in the dataset as numbers. \n",
        "\n",
        "Note that a few key columns are non-numeric but should be kept in the dataframe:\n",
        "\n",
        "comments_disabled, ratings_disabled, video_error_or_removed, country\n",
        "\n",
        "Also drop original views, like, comments and dislikes as you have processed them as logs and stored them as separate feature. "
      ]
    },
    {
      "cell_type": "code",
      "metadata": {
        "colab": {
          "base_uri": "https://localhost:8080/"
        },
        "id": "3xaCcVfhkSG_",
        "outputId": "a1dfa4f1-9220-4437-abd6-84cbc5bd1d63"
      },
      "source": [
        "combined_data.columns"
      ],
      "execution_count": 44,
      "outputs": [
        {
          "output_type": "execute_result",
          "data": {
            "text/plain": [
              "Index(['trending_date', 'title', 'channel_title', 'category_id',\n",
              "       'publish_time', 'tags', 'views', 'likes', 'dislikes', 'comment_count',\n",
              "       'thumbnail_link', 'comments_disabled', 'ratings_disabled',\n",
              "       'video_error_or_removed', 'description', 'country', 'category',\n",
              "       'likes_log', 'views_log', 'dislikes_log', 'comment_log', 'num_tags',\n",
              "       'desc_len', 'len_title', 'publish_date', 'publish_weekday'],\n",
              "      dtype='object')"
            ]
          },
          "metadata": {},
          "execution_count": 44
        }
      ]
    },
    {
      "cell_type": "code",
      "metadata": {
        "id": "UtSoKgf7IOrJ"
      },
      "source": [
        "# Add your code here\n",
        "combined_data.drop(['trending_date', 'title', 'channel_title', 'category_id',\n",
        "                    'publish_time', 'tags', 'views', 'likes', 'dislikes', 'comment_count',\n",
        "                    'thumbnail_link', 'description', 'publish_date'], axis = 1,inplace = True)"
      ],
      "execution_count": 45,
      "outputs": []
    },
    {
      "cell_type": "code",
      "metadata": {
        "colab": {
          "base_uri": "https://localhost:8080/",
          "height": 606
        },
        "id": "n4J6_aq9mAIa",
        "outputId": "e7ff9878-eb02-48f3-a756-d92eac483993"
      },
      "source": [
        "combined_data"
      ],
      "execution_count": 46,
      "outputs": [
        {
          "output_type": "execute_result",
          "data": {
            "text/html": [
              "\n",
              "  <div id=\"df-11da806a-cbec-48df-b532-4b1e660982fe\">\n",
              "    <div class=\"colab-df-container\">\n",
              "      <div>\n",
              "<style scoped>\n",
              "    .dataframe tbody tr th:only-of-type {\n",
              "        vertical-align: middle;\n",
              "    }\n",
              "\n",
              "    .dataframe tbody tr th {\n",
              "        vertical-align: top;\n",
              "    }\n",
              "\n",
              "    .dataframe thead th {\n",
              "        text-align: right;\n",
              "    }\n",
              "</style>\n",
              "<table border=\"1\" class=\"dataframe\">\n",
              "  <thead>\n",
              "    <tr style=\"text-align: right;\">\n",
              "      <th></th>\n",
              "      <th>comments_disabled</th>\n",
              "      <th>ratings_disabled</th>\n",
              "      <th>video_error_or_removed</th>\n",
              "      <th>country</th>\n",
              "      <th>category</th>\n",
              "      <th>likes_log</th>\n",
              "      <th>views_log</th>\n",
              "      <th>dislikes_log</th>\n",
              "      <th>comment_log</th>\n",
              "      <th>num_tags</th>\n",
              "      <th>desc_len</th>\n",
              "      <th>len_title</th>\n",
              "      <th>publish_weekday</th>\n",
              "    </tr>\n",
              "    <tr>\n",
              "      <th>video_id</th>\n",
              "      <th></th>\n",
              "      <th></th>\n",
              "      <th></th>\n",
              "      <th></th>\n",
              "      <th></th>\n",
              "      <th></th>\n",
              "      <th></th>\n",
              "      <th></th>\n",
              "      <th></th>\n",
              "      <th></th>\n",
              "      <th></th>\n",
              "      <th></th>\n",
              "      <th></th>\n",
              "    </tr>\n",
              "  </thead>\n",
              "  <tbody>\n",
              "    <tr>\n",
              "      <th>kzwfHumJyYc</th>\n",
              "      <td>False</td>\n",
              "      <td>False</td>\n",
              "      <td>False</td>\n",
              "      <td>IN</td>\n",
              "      <td>Film &amp; Animation</td>\n",
              "      <td>10.433145</td>\n",
              "      <td>13.907477</td>\n",
              "      <td>6.683361</td>\n",
              "      <td>6.783325</td>\n",
              "      <td>15</td>\n",
              "      <td>920</td>\n",
              "      <td>81</td>\n",
              "      <td>7</td>\n",
              "    </tr>\n",
              "    <tr>\n",
              "      <th>zUZ1z7FwLc8</th>\n",
              "      <td>True</td>\n",
              "      <td>False</td>\n",
              "      <td>False</td>\n",
              "      <td>IN</td>\n",
              "      <td>News &amp; Politics</td>\n",
              "      <td>6.601230</td>\n",
              "      <td>13.288051</td>\n",
              "      <td>6.807935</td>\n",
              "      <td>0.000000</td>\n",
              "      <td>19</td>\n",
              "      <td>2232</td>\n",
              "      <td>58</td>\n",
              "      <td>1</td>\n",
              "    </tr>\n",
              "    <tr>\n",
              "      <th>10L1hZ9qa58</th>\n",
              "      <td>False</td>\n",
              "      <td>False</td>\n",
              "      <td>False</td>\n",
              "      <td>IN</td>\n",
              "      <td>Entertainment</td>\n",
              "      <td>7.606885</td>\n",
              "      <td>13.068939</td>\n",
              "      <td>5.497168</td>\n",
              "      <td>5.010635</td>\n",
              "      <td>14</td>\n",
              "      <td>482</td>\n",
              "      <td>58</td>\n",
              "      <td>7</td>\n",
              "    </tr>\n",
              "    <tr>\n",
              "      <th>N1vE8iiEg64</th>\n",
              "      <td>False</td>\n",
              "      <td>False</td>\n",
              "      <td>False</td>\n",
              "      <td>IN</td>\n",
              "      <td>Comedy</td>\n",
              "      <td>11.161295</td>\n",
              "      <td>14.032782</td>\n",
              "      <td>7.393263</td>\n",
              "      <td>7.895436</td>\n",
              "      <td>20</td>\n",
              "      <td>263</td>\n",
              "      <td>30</td>\n",
              "      <td>7</td>\n",
              "    </tr>\n",
              "    <tr>\n",
              "      <th>kJzGH0PVQHQ</th>\n",
              "      <td>False</td>\n",
              "      <td>False</td>\n",
              "      <td>False</td>\n",
              "      <td>IN</td>\n",
              "      <td>Entertainment</td>\n",
              "      <td>6.200509</td>\n",
              "      <td>13.047674</td>\n",
              "      <td>5.683580</td>\n",
              "      <td>4.204693</td>\n",
              "      <td>11</td>\n",
              "      <td>753</td>\n",
              "      <td>88</td>\n",
              "      <td>1</td>\n",
              "    </tr>\n",
              "    <tr>\n",
              "      <th>...</th>\n",
              "      <td>...</td>\n",
              "      <td>...</td>\n",
              "      <td>...</td>\n",
              "      <td>...</td>\n",
              "      <td>...</td>\n",
              "      <td>...</td>\n",
              "      <td>...</td>\n",
              "      <td>...</td>\n",
              "      <td>...</td>\n",
              "      <td>...</td>\n",
              "      <td>...</td>\n",
              "      <td>...</td>\n",
              "      <td>...</td>\n",
              "    </tr>\n",
              "    <tr>\n",
              "      <th>1PhPYr_9zRY</th>\n",
              "      <td>False</td>\n",
              "      <td>False</td>\n",
              "      <td>False</td>\n",
              "      <td>US</td>\n",
              "      <td>People &amp; Blogs</td>\n",
              "      <td>13.378383</td>\n",
              "      <td>15.926830</td>\n",
              "      <td>8.307213</td>\n",
              "      <td>11.044696</td>\n",
              "      <td>27</td>\n",
              "      <td>926</td>\n",
              "      <td>52</td>\n",
              "      <td>5</td>\n",
              "    </tr>\n",
              "    <tr>\n",
              "      <th>BZt0qjTWNhw</th>\n",
              "      <td>False</td>\n",
              "      <td>False</td>\n",
              "      <td>False</td>\n",
              "      <td>US</td>\n",
              "      <td>Pets &amp; Animals</td>\n",
              "      <td>10.549569</td>\n",
              "      <td>14.337638</td>\n",
              "      <td>7.234177</td>\n",
              "      <td>7.885329</td>\n",
              "      <td>14</td>\n",
              "      <td>46</td>\n",
              "      <td>28</td>\n",
              "      <td>5</td>\n",
              "    </tr>\n",
              "    <tr>\n",
              "      <th>D6Oy4LfoqsU</th>\n",
              "      <td>False</td>\n",
              "      <td>False</td>\n",
              "      <td>False</td>\n",
              "      <td>US</td>\n",
              "      <td>Entertainment</td>\n",
              "      <td>10.780393</td>\n",
              "      <td>13.879848</td>\n",
              "      <td>6.940222</td>\n",
              "      <td>8.292298</td>\n",
              "      <td>24</td>\n",
              "      <td>775</td>\n",
              "      <td>84</td>\n",
              "      <td>5</td>\n",
              "    </tr>\n",
              "    <tr>\n",
              "      <th>oV0zkMe1K8s</th>\n",
              "      <td>False</td>\n",
              "      <td>False</td>\n",
              "      <td>False</td>\n",
              "      <td>US</td>\n",
              "      <td>Film &amp; Animation</td>\n",
              "      <td>12.170228</td>\n",
              "      <td>15.549078</td>\n",
              "      <td>7.954021</td>\n",
              "      <td>9.479527</td>\n",
              "      <td>22</td>\n",
              "      <td>3268</td>\n",
              "      <td>35</td>\n",
              "      <td>4</td>\n",
              "    </tr>\n",
              "    <tr>\n",
              "      <th>ooyjaVdt-jA</th>\n",
              "      <td>False</td>\n",
              "      <td>False</td>\n",
              "      <td>False</td>\n",
              "      <td>US</td>\n",
              "      <td>Gaming</td>\n",
              "      <td>12.785715</td>\n",
              "      <td>16.148248</td>\n",
              "      <td>12.268939</td>\n",
              "      <td>11.883081</td>\n",
              "      <td>4</td>\n",
              "      <td>709</td>\n",
              "      <td>64</td>\n",
              "      <td>4</td>\n",
              "    </tr>\n",
              "  </tbody>\n",
              "</table>\n",
              "<p>154567 rows × 13 columns</p>\n",
              "</div>\n",
              "      <button class=\"colab-df-convert\" onclick=\"convertToInteractive('df-11da806a-cbec-48df-b532-4b1e660982fe')\"\n",
              "              title=\"Convert this dataframe to an interactive table.\"\n",
              "              style=\"display:none;\">\n",
              "        \n",
              "  <svg xmlns=\"http://www.w3.org/2000/svg\" height=\"24px\"viewBox=\"0 0 24 24\"\n",
              "       width=\"24px\">\n",
              "    <path d=\"M0 0h24v24H0V0z\" fill=\"none\"/>\n",
              "    <path d=\"M18.56 5.44l.94 2.06.94-2.06 2.06-.94-2.06-.94-.94-2.06-.94 2.06-2.06.94zm-11 1L8.5 8.5l.94-2.06 2.06-.94-2.06-.94L8.5 2.5l-.94 2.06-2.06.94zm10 10l.94 2.06.94-2.06 2.06-.94-2.06-.94-.94-2.06-.94 2.06-2.06.94z\"/><path d=\"M17.41 7.96l-1.37-1.37c-.4-.4-.92-.59-1.43-.59-.52 0-1.04.2-1.43.59L10.3 9.45l-7.72 7.72c-.78.78-.78 2.05 0 2.83L4 21.41c.39.39.9.59 1.41.59.51 0 1.02-.2 1.41-.59l7.78-7.78 2.81-2.81c.8-.78.8-2.07 0-2.86zM5.41 20L4 18.59l7.72-7.72 1.47 1.35L5.41 20z\"/>\n",
              "  </svg>\n",
              "      </button>\n",
              "      \n",
              "  <style>\n",
              "    .colab-df-container {\n",
              "      display:flex;\n",
              "      flex-wrap:wrap;\n",
              "      gap: 12px;\n",
              "    }\n",
              "\n",
              "    .colab-df-convert {\n",
              "      background-color: #E8F0FE;\n",
              "      border: none;\n",
              "      border-radius: 50%;\n",
              "      cursor: pointer;\n",
              "      display: none;\n",
              "      fill: #1967D2;\n",
              "      height: 32px;\n",
              "      padding: 0 0 0 0;\n",
              "      width: 32px;\n",
              "    }\n",
              "\n",
              "    .colab-df-convert:hover {\n",
              "      background-color: #E2EBFA;\n",
              "      box-shadow: 0px 1px 2px rgba(60, 64, 67, 0.3), 0px 1px 3px 1px rgba(60, 64, 67, 0.15);\n",
              "      fill: #174EA6;\n",
              "    }\n",
              "\n",
              "    [theme=dark] .colab-df-convert {\n",
              "      background-color: #3B4455;\n",
              "      fill: #D2E3FC;\n",
              "    }\n",
              "\n",
              "    [theme=dark] .colab-df-convert:hover {\n",
              "      background-color: #434B5C;\n",
              "      box-shadow: 0px 1px 3px 1px rgba(0, 0, 0, 0.15);\n",
              "      filter: drop-shadow(0px 1px 2px rgba(0, 0, 0, 0.3));\n",
              "      fill: #FFFFFF;\n",
              "    }\n",
              "  </style>\n",
              "\n",
              "      <script>\n",
              "        const buttonEl =\n",
              "          document.querySelector('#df-11da806a-cbec-48df-b532-4b1e660982fe button.colab-df-convert');\n",
              "        buttonEl.style.display =\n",
              "          google.colab.kernel.accessAllowed ? 'block' : 'none';\n",
              "\n",
              "        async function convertToInteractive(key) {\n",
              "          const element = document.querySelector('#df-11da806a-cbec-48df-b532-4b1e660982fe');\n",
              "          const dataTable =\n",
              "            await google.colab.kernel.invokeFunction('convertToInteractive',\n",
              "                                                     [key], {});\n",
              "          if (!dataTable) return;\n",
              "\n",
              "          const docLinkHtml = 'Like what you see? Visit the ' +\n",
              "            '<a target=\"_blank\" href=https://colab.research.google.com/notebooks/data_table.ipynb>data table notebook</a>'\n",
              "            + ' to learn more about interactive tables.';\n",
              "          element.innerHTML = '';\n",
              "          dataTable['output_type'] = 'display_data';\n",
              "          await google.colab.output.renderOutput(dataTable, element);\n",
              "          const docLink = document.createElement('div');\n",
              "          docLink.innerHTML = docLinkHtml;\n",
              "          element.appendChild(docLink);\n",
              "        }\n",
              "      </script>\n",
              "    </div>\n",
              "  </div>\n",
              "  "
            ],
            "text/plain": [
              "             comments_disabled  ratings_disabled  ...  len_title publish_weekday\n",
              "video_id                                          ...                           \n",
              "kzwfHumJyYc              False             False  ...         81               7\n",
              "zUZ1z7FwLc8               True             False  ...         58               1\n",
              "10L1hZ9qa58              False             False  ...         58               7\n",
              "N1vE8iiEg64              False             False  ...         30               7\n",
              "kJzGH0PVQHQ              False             False  ...         88               1\n",
              "...                        ...               ...  ...        ...             ...\n",
              "1PhPYr_9zRY              False             False  ...         52               5\n",
              "BZt0qjTWNhw              False             False  ...         28               5\n",
              "D6Oy4LfoqsU              False             False  ...         84               5\n",
              "oV0zkMe1K8s              False             False  ...         35               4\n",
              "ooyjaVdt-jA              False             False  ...         64               4\n",
              "\n",
              "[154567 rows x 13 columns]"
            ]
          },
          "metadata": {},
          "execution_count": 46
        }
      ]
    },
    {
      "cell_type": "markdown",
      "metadata": {
        "id": "_HtmJiKYLlxx"
      },
      "source": [
        "#### 5.2.7: Convert categorical features in the dataset into one hot vectors. (3 pts)\n",
        "\n",
        "There are three categorical features remaining in the dataset, identify them and convert them into one hot vectors. Be sure that when you one hot encode, the original column is replaced."
      ]
    },
    {
      "cell_type": "code",
      "metadata": {
        "id": "63tJVBE0Kkju"
      },
      "source": [
        "combined_data.publish_weekday = combined_data.publish_weekday.astype('category')\n",
        "combined_data.country = combined_data.country.astype('category')\n",
        "combined_data.category = combined_data.category.astype('category')\n",
        "combined_data= pd.get_dummies(combined_data)\n",
        "# Hint: Use pd.get_dummies()range. "
      ],
      "execution_count": 47,
      "outputs": []
    },
    {
      "cell_type": "code",
      "metadata": {
        "colab": {
          "base_uri": "https://localhost:8080/",
          "height": 536
        },
        "id": "Ovbz1_K3hyfV",
        "outputId": "27519868-89d8-4e69-b8be-b9c6ee41ee77"
      },
      "source": [
        "combined_data"
      ],
      "execution_count": 48,
      "outputs": [
        {
          "output_type": "execute_result",
          "data": {
            "text/html": [
              "\n",
              "  <div id=\"df-85890fee-2c6f-4cae-87cb-89628eba2e72\">\n",
              "    <div class=\"colab-df-container\">\n",
              "      <div>\n",
              "<style scoped>\n",
              "    .dataframe tbody tr th:only-of-type {\n",
              "        vertical-align: middle;\n",
              "    }\n",
              "\n",
              "    .dataframe tbody tr th {\n",
              "        vertical-align: top;\n",
              "    }\n",
              "\n",
              "    .dataframe thead th {\n",
              "        text-align: right;\n",
              "    }\n",
              "</style>\n",
              "<table border=\"1\" class=\"dataframe\">\n",
              "  <thead>\n",
              "    <tr style=\"text-align: right;\">\n",
              "      <th></th>\n",
              "      <th>comments_disabled</th>\n",
              "      <th>ratings_disabled</th>\n",
              "      <th>video_error_or_removed</th>\n",
              "      <th>likes_log</th>\n",
              "      <th>views_log</th>\n",
              "      <th>dislikes_log</th>\n",
              "      <th>comment_log</th>\n",
              "      <th>num_tags</th>\n",
              "      <th>desc_len</th>\n",
              "      <th>len_title</th>\n",
              "      <th>country_CA</th>\n",
              "      <th>country_FR</th>\n",
              "      <th>country_IN</th>\n",
              "      <th>country_US</th>\n",
              "      <th>category_Autos &amp; Vehicles</th>\n",
              "      <th>category_Comedy</th>\n",
              "      <th>category_Education</th>\n",
              "      <th>category_Entertainment</th>\n",
              "      <th>category_Film &amp; Animation</th>\n",
              "      <th>category_Gaming</th>\n",
              "      <th>category_Howto &amp; Style</th>\n",
              "      <th>category_Movies</th>\n",
              "      <th>category_Music</th>\n",
              "      <th>category_News &amp; Politics</th>\n",
              "      <th>category_Nonprofits &amp; Activism</th>\n",
              "      <th>category_People &amp; Blogs</th>\n",
              "      <th>category_Pets &amp; Animals</th>\n",
              "      <th>category_Science &amp; Technology</th>\n",
              "      <th>category_Shows</th>\n",
              "      <th>category_Sports</th>\n",
              "      <th>category_Trailers</th>\n",
              "      <th>category_Travel &amp; Events</th>\n",
              "      <th>publish_weekday_1</th>\n",
              "      <th>publish_weekday_2</th>\n",
              "      <th>publish_weekday_3</th>\n",
              "      <th>publish_weekday_4</th>\n",
              "      <th>publish_weekday_5</th>\n",
              "      <th>publish_weekday_6</th>\n",
              "      <th>publish_weekday_7</th>\n",
              "    </tr>\n",
              "    <tr>\n",
              "      <th>video_id</th>\n",
              "      <th></th>\n",
              "      <th></th>\n",
              "      <th></th>\n",
              "      <th></th>\n",
              "      <th></th>\n",
              "      <th></th>\n",
              "      <th></th>\n",
              "      <th></th>\n",
              "      <th></th>\n",
              "      <th></th>\n",
              "      <th></th>\n",
              "      <th></th>\n",
              "      <th></th>\n",
              "      <th></th>\n",
              "      <th></th>\n",
              "      <th></th>\n",
              "      <th></th>\n",
              "      <th></th>\n",
              "      <th></th>\n",
              "      <th></th>\n",
              "      <th></th>\n",
              "      <th></th>\n",
              "      <th></th>\n",
              "      <th></th>\n",
              "      <th></th>\n",
              "      <th></th>\n",
              "      <th></th>\n",
              "      <th></th>\n",
              "      <th></th>\n",
              "      <th></th>\n",
              "      <th></th>\n",
              "      <th></th>\n",
              "      <th></th>\n",
              "      <th></th>\n",
              "      <th></th>\n",
              "      <th></th>\n",
              "      <th></th>\n",
              "      <th></th>\n",
              "      <th></th>\n",
              "    </tr>\n",
              "  </thead>\n",
              "  <tbody>\n",
              "    <tr>\n",
              "      <th>kzwfHumJyYc</th>\n",
              "      <td>False</td>\n",
              "      <td>False</td>\n",
              "      <td>False</td>\n",
              "      <td>10.433145</td>\n",
              "      <td>13.907477</td>\n",
              "      <td>6.683361</td>\n",
              "      <td>6.783325</td>\n",
              "      <td>15</td>\n",
              "      <td>920</td>\n",
              "      <td>81</td>\n",
              "      <td>0</td>\n",
              "      <td>0</td>\n",
              "      <td>1</td>\n",
              "      <td>0</td>\n",
              "      <td>0</td>\n",
              "      <td>0</td>\n",
              "      <td>0</td>\n",
              "      <td>0</td>\n",
              "      <td>1</td>\n",
              "      <td>0</td>\n",
              "      <td>0</td>\n",
              "      <td>0</td>\n",
              "      <td>0</td>\n",
              "      <td>0</td>\n",
              "      <td>0</td>\n",
              "      <td>0</td>\n",
              "      <td>0</td>\n",
              "      <td>0</td>\n",
              "      <td>0</td>\n",
              "      <td>0</td>\n",
              "      <td>0</td>\n",
              "      <td>0</td>\n",
              "      <td>0</td>\n",
              "      <td>0</td>\n",
              "      <td>0</td>\n",
              "      <td>0</td>\n",
              "      <td>0</td>\n",
              "      <td>0</td>\n",
              "      <td>1</td>\n",
              "    </tr>\n",
              "    <tr>\n",
              "      <th>zUZ1z7FwLc8</th>\n",
              "      <td>True</td>\n",
              "      <td>False</td>\n",
              "      <td>False</td>\n",
              "      <td>6.601230</td>\n",
              "      <td>13.288051</td>\n",
              "      <td>6.807935</td>\n",
              "      <td>0.000000</td>\n",
              "      <td>19</td>\n",
              "      <td>2232</td>\n",
              "      <td>58</td>\n",
              "      <td>0</td>\n",
              "      <td>0</td>\n",
              "      <td>1</td>\n",
              "      <td>0</td>\n",
              "      <td>0</td>\n",
              "      <td>0</td>\n",
              "      <td>0</td>\n",
              "      <td>0</td>\n",
              "      <td>0</td>\n",
              "      <td>0</td>\n",
              "      <td>0</td>\n",
              "      <td>0</td>\n",
              "      <td>0</td>\n",
              "      <td>1</td>\n",
              "      <td>0</td>\n",
              "      <td>0</td>\n",
              "      <td>0</td>\n",
              "      <td>0</td>\n",
              "      <td>0</td>\n",
              "      <td>0</td>\n",
              "      <td>0</td>\n",
              "      <td>0</td>\n",
              "      <td>1</td>\n",
              "      <td>0</td>\n",
              "      <td>0</td>\n",
              "      <td>0</td>\n",
              "      <td>0</td>\n",
              "      <td>0</td>\n",
              "      <td>0</td>\n",
              "    </tr>\n",
              "    <tr>\n",
              "      <th>10L1hZ9qa58</th>\n",
              "      <td>False</td>\n",
              "      <td>False</td>\n",
              "      <td>False</td>\n",
              "      <td>7.606885</td>\n",
              "      <td>13.068939</td>\n",
              "      <td>5.497168</td>\n",
              "      <td>5.010635</td>\n",
              "      <td>14</td>\n",
              "      <td>482</td>\n",
              "      <td>58</td>\n",
              "      <td>0</td>\n",
              "      <td>0</td>\n",
              "      <td>1</td>\n",
              "      <td>0</td>\n",
              "      <td>0</td>\n",
              "      <td>0</td>\n",
              "      <td>0</td>\n",
              "      <td>1</td>\n",
              "      <td>0</td>\n",
              "      <td>0</td>\n",
              "      <td>0</td>\n",
              "      <td>0</td>\n",
              "      <td>0</td>\n",
              "      <td>0</td>\n",
              "      <td>0</td>\n",
              "      <td>0</td>\n",
              "      <td>0</td>\n",
              "      <td>0</td>\n",
              "      <td>0</td>\n",
              "      <td>0</td>\n",
              "      <td>0</td>\n",
              "      <td>0</td>\n",
              "      <td>0</td>\n",
              "      <td>0</td>\n",
              "      <td>0</td>\n",
              "      <td>0</td>\n",
              "      <td>0</td>\n",
              "      <td>0</td>\n",
              "      <td>1</td>\n",
              "    </tr>\n",
              "    <tr>\n",
              "      <th>N1vE8iiEg64</th>\n",
              "      <td>False</td>\n",
              "      <td>False</td>\n",
              "      <td>False</td>\n",
              "      <td>11.161295</td>\n",
              "      <td>14.032782</td>\n",
              "      <td>7.393263</td>\n",
              "      <td>7.895436</td>\n",
              "      <td>20</td>\n",
              "      <td>263</td>\n",
              "      <td>30</td>\n",
              "      <td>0</td>\n",
              "      <td>0</td>\n",
              "      <td>1</td>\n",
              "      <td>0</td>\n",
              "      <td>0</td>\n",
              "      <td>1</td>\n",
              "      <td>0</td>\n",
              "      <td>0</td>\n",
              "      <td>0</td>\n",
              "      <td>0</td>\n",
              "      <td>0</td>\n",
              "      <td>0</td>\n",
              "      <td>0</td>\n",
              "      <td>0</td>\n",
              "      <td>0</td>\n",
              "      <td>0</td>\n",
              "      <td>0</td>\n",
              "      <td>0</td>\n",
              "      <td>0</td>\n",
              "      <td>0</td>\n",
              "      <td>0</td>\n",
              "      <td>0</td>\n",
              "      <td>0</td>\n",
              "      <td>0</td>\n",
              "      <td>0</td>\n",
              "      <td>0</td>\n",
              "      <td>0</td>\n",
              "      <td>0</td>\n",
              "      <td>1</td>\n",
              "    </tr>\n",
              "    <tr>\n",
              "      <th>kJzGH0PVQHQ</th>\n",
              "      <td>False</td>\n",
              "      <td>False</td>\n",
              "      <td>False</td>\n",
              "      <td>6.200509</td>\n",
              "      <td>13.047674</td>\n",
              "      <td>5.683580</td>\n",
              "      <td>4.204693</td>\n",
              "      <td>11</td>\n",
              "      <td>753</td>\n",
              "      <td>88</td>\n",
              "      <td>0</td>\n",
              "      <td>0</td>\n",
              "      <td>1</td>\n",
              "      <td>0</td>\n",
              "      <td>0</td>\n",
              "      <td>0</td>\n",
              "      <td>0</td>\n",
              "      <td>1</td>\n",
              "      <td>0</td>\n",
              "      <td>0</td>\n",
              "      <td>0</td>\n",
              "      <td>0</td>\n",
              "      <td>0</td>\n",
              "      <td>0</td>\n",
              "      <td>0</td>\n",
              "      <td>0</td>\n",
              "      <td>0</td>\n",
              "      <td>0</td>\n",
              "      <td>0</td>\n",
              "      <td>0</td>\n",
              "      <td>0</td>\n",
              "      <td>0</td>\n",
              "      <td>1</td>\n",
              "      <td>0</td>\n",
              "      <td>0</td>\n",
              "      <td>0</td>\n",
              "      <td>0</td>\n",
              "      <td>0</td>\n",
              "      <td>0</td>\n",
              "    </tr>\n",
              "    <tr>\n",
              "      <th>...</th>\n",
              "      <td>...</td>\n",
              "      <td>...</td>\n",
              "      <td>...</td>\n",
              "      <td>...</td>\n",
              "      <td>...</td>\n",
              "      <td>...</td>\n",
              "      <td>...</td>\n",
              "      <td>...</td>\n",
              "      <td>...</td>\n",
              "      <td>...</td>\n",
              "      <td>...</td>\n",
              "      <td>...</td>\n",
              "      <td>...</td>\n",
              "      <td>...</td>\n",
              "      <td>...</td>\n",
              "      <td>...</td>\n",
              "      <td>...</td>\n",
              "      <td>...</td>\n",
              "      <td>...</td>\n",
              "      <td>...</td>\n",
              "      <td>...</td>\n",
              "      <td>...</td>\n",
              "      <td>...</td>\n",
              "      <td>...</td>\n",
              "      <td>...</td>\n",
              "      <td>...</td>\n",
              "      <td>...</td>\n",
              "      <td>...</td>\n",
              "      <td>...</td>\n",
              "      <td>...</td>\n",
              "      <td>...</td>\n",
              "      <td>...</td>\n",
              "      <td>...</td>\n",
              "      <td>...</td>\n",
              "      <td>...</td>\n",
              "      <td>...</td>\n",
              "      <td>...</td>\n",
              "      <td>...</td>\n",
              "      <td>...</td>\n",
              "    </tr>\n",
              "    <tr>\n",
              "      <th>1PhPYr_9zRY</th>\n",
              "      <td>False</td>\n",
              "      <td>False</td>\n",
              "      <td>False</td>\n",
              "      <td>13.378383</td>\n",
              "      <td>15.926830</td>\n",
              "      <td>8.307213</td>\n",
              "      <td>11.044696</td>\n",
              "      <td>27</td>\n",
              "      <td>926</td>\n",
              "      <td>52</td>\n",
              "      <td>0</td>\n",
              "      <td>0</td>\n",
              "      <td>0</td>\n",
              "      <td>1</td>\n",
              "      <td>0</td>\n",
              "      <td>0</td>\n",
              "      <td>0</td>\n",
              "      <td>0</td>\n",
              "      <td>0</td>\n",
              "      <td>0</td>\n",
              "      <td>0</td>\n",
              "      <td>0</td>\n",
              "      <td>0</td>\n",
              "      <td>0</td>\n",
              "      <td>0</td>\n",
              "      <td>1</td>\n",
              "      <td>0</td>\n",
              "      <td>0</td>\n",
              "      <td>0</td>\n",
              "      <td>0</td>\n",
              "      <td>0</td>\n",
              "      <td>0</td>\n",
              "      <td>0</td>\n",
              "      <td>0</td>\n",
              "      <td>0</td>\n",
              "      <td>0</td>\n",
              "      <td>1</td>\n",
              "      <td>0</td>\n",
              "      <td>0</td>\n",
              "    </tr>\n",
              "    <tr>\n",
              "      <th>BZt0qjTWNhw</th>\n",
              "      <td>False</td>\n",
              "      <td>False</td>\n",
              "      <td>False</td>\n",
              "      <td>10.549569</td>\n",
              "      <td>14.337638</td>\n",
              "      <td>7.234177</td>\n",
              "      <td>7.885329</td>\n",
              "      <td>14</td>\n",
              "      <td>46</td>\n",
              "      <td>28</td>\n",
              "      <td>0</td>\n",
              "      <td>0</td>\n",
              "      <td>0</td>\n",
              "      <td>1</td>\n",
              "      <td>0</td>\n",
              "      <td>0</td>\n",
              "      <td>0</td>\n",
              "      <td>0</td>\n",
              "      <td>0</td>\n",
              "      <td>0</td>\n",
              "      <td>0</td>\n",
              "      <td>0</td>\n",
              "      <td>0</td>\n",
              "      <td>0</td>\n",
              "      <td>0</td>\n",
              "      <td>0</td>\n",
              "      <td>1</td>\n",
              "      <td>0</td>\n",
              "      <td>0</td>\n",
              "      <td>0</td>\n",
              "      <td>0</td>\n",
              "      <td>0</td>\n",
              "      <td>0</td>\n",
              "      <td>0</td>\n",
              "      <td>0</td>\n",
              "      <td>0</td>\n",
              "      <td>1</td>\n",
              "      <td>0</td>\n",
              "      <td>0</td>\n",
              "    </tr>\n",
              "    <tr>\n",
              "      <th>D6Oy4LfoqsU</th>\n",
              "      <td>False</td>\n",
              "      <td>False</td>\n",
              "      <td>False</td>\n",
              "      <td>10.780393</td>\n",
              "      <td>13.879848</td>\n",
              "      <td>6.940222</td>\n",
              "      <td>8.292298</td>\n",
              "      <td>24</td>\n",
              "      <td>775</td>\n",
              "      <td>84</td>\n",
              "      <td>0</td>\n",
              "      <td>0</td>\n",
              "      <td>0</td>\n",
              "      <td>1</td>\n",
              "      <td>0</td>\n",
              "      <td>0</td>\n",
              "      <td>0</td>\n",
              "      <td>1</td>\n",
              "      <td>0</td>\n",
              "      <td>0</td>\n",
              "      <td>0</td>\n",
              "      <td>0</td>\n",
              "      <td>0</td>\n",
              "      <td>0</td>\n",
              "      <td>0</td>\n",
              "      <td>0</td>\n",
              "      <td>0</td>\n",
              "      <td>0</td>\n",
              "      <td>0</td>\n",
              "      <td>0</td>\n",
              "      <td>0</td>\n",
              "      <td>0</td>\n",
              "      <td>0</td>\n",
              "      <td>0</td>\n",
              "      <td>0</td>\n",
              "      <td>0</td>\n",
              "      <td>1</td>\n",
              "      <td>0</td>\n",
              "      <td>0</td>\n",
              "    </tr>\n",
              "    <tr>\n",
              "      <th>oV0zkMe1K8s</th>\n",
              "      <td>False</td>\n",
              "      <td>False</td>\n",
              "      <td>False</td>\n",
              "      <td>12.170228</td>\n",
              "      <td>15.549078</td>\n",
              "      <td>7.954021</td>\n",
              "      <td>9.479527</td>\n",
              "      <td>22</td>\n",
              "      <td>3268</td>\n",
              "      <td>35</td>\n",
              "      <td>0</td>\n",
              "      <td>0</td>\n",
              "      <td>0</td>\n",
              "      <td>1</td>\n",
              "      <td>0</td>\n",
              "      <td>0</td>\n",
              "      <td>0</td>\n",
              "      <td>0</td>\n",
              "      <td>1</td>\n",
              "      <td>0</td>\n",
              "      <td>0</td>\n",
              "      <td>0</td>\n",
              "      <td>0</td>\n",
              "      <td>0</td>\n",
              "      <td>0</td>\n",
              "      <td>0</td>\n",
              "      <td>0</td>\n",
              "      <td>0</td>\n",
              "      <td>0</td>\n",
              "      <td>0</td>\n",
              "      <td>0</td>\n",
              "      <td>0</td>\n",
              "      <td>0</td>\n",
              "      <td>0</td>\n",
              "      <td>0</td>\n",
              "      <td>1</td>\n",
              "      <td>0</td>\n",
              "      <td>0</td>\n",
              "      <td>0</td>\n",
              "    </tr>\n",
              "    <tr>\n",
              "      <th>ooyjaVdt-jA</th>\n",
              "      <td>False</td>\n",
              "      <td>False</td>\n",
              "      <td>False</td>\n",
              "      <td>12.785715</td>\n",
              "      <td>16.148248</td>\n",
              "      <td>12.268939</td>\n",
              "      <td>11.883081</td>\n",
              "      <td>4</td>\n",
              "      <td>709</td>\n",
              "      <td>64</td>\n",
              "      <td>0</td>\n",
              "      <td>0</td>\n",
              "      <td>0</td>\n",
              "      <td>1</td>\n",
              "      <td>0</td>\n",
              "      <td>0</td>\n",
              "      <td>0</td>\n",
              "      <td>0</td>\n",
              "      <td>0</td>\n",
              "      <td>1</td>\n",
              "      <td>0</td>\n",
              "      <td>0</td>\n",
              "      <td>0</td>\n",
              "      <td>0</td>\n",
              "      <td>0</td>\n",
              "      <td>0</td>\n",
              "      <td>0</td>\n",
              "      <td>0</td>\n",
              "      <td>0</td>\n",
              "      <td>0</td>\n",
              "      <td>0</td>\n",
              "      <td>0</td>\n",
              "      <td>0</td>\n",
              "      <td>0</td>\n",
              "      <td>0</td>\n",
              "      <td>1</td>\n",
              "      <td>0</td>\n",
              "      <td>0</td>\n",
              "      <td>0</td>\n",
              "    </tr>\n",
              "  </tbody>\n",
              "</table>\n",
              "<p>154567 rows × 39 columns</p>\n",
              "</div>\n",
              "      <button class=\"colab-df-convert\" onclick=\"convertToInteractive('df-85890fee-2c6f-4cae-87cb-89628eba2e72')\"\n",
              "              title=\"Convert this dataframe to an interactive table.\"\n",
              "              style=\"display:none;\">\n",
              "        \n",
              "  <svg xmlns=\"http://www.w3.org/2000/svg\" height=\"24px\"viewBox=\"0 0 24 24\"\n",
              "       width=\"24px\">\n",
              "    <path d=\"M0 0h24v24H0V0z\" fill=\"none\"/>\n",
              "    <path d=\"M18.56 5.44l.94 2.06.94-2.06 2.06-.94-2.06-.94-.94-2.06-.94 2.06-2.06.94zm-11 1L8.5 8.5l.94-2.06 2.06-.94-2.06-.94L8.5 2.5l-.94 2.06-2.06.94zm10 10l.94 2.06.94-2.06 2.06-.94-2.06-.94-.94-2.06-.94 2.06-2.06.94z\"/><path d=\"M17.41 7.96l-1.37-1.37c-.4-.4-.92-.59-1.43-.59-.52 0-1.04.2-1.43.59L10.3 9.45l-7.72 7.72c-.78.78-.78 2.05 0 2.83L4 21.41c.39.39.9.59 1.41.59.51 0 1.02-.2 1.41-.59l7.78-7.78 2.81-2.81c.8-.78.8-2.07 0-2.86zM5.41 20L4 18.59l7.72-7.72 1.47 1.35L5.41 20z\"/>\n",
              "  </svg>\n",
              "      </button>\n",
              "      \n",
              "  <style>\n",
              "    .colab-df-container {\n",
              "      display:flex;\n",
              "      flex-wrap:wrap;\n",
              "      gap: 12px;\n",
              "    }\n",
              "\n",
              "    .colab-df-convert {\n",
              "      background-color: #E8F0FE;\n",
              "      border: none;\n",
              "      border-radius: 50%;\n",
              "      cursor: pointer;\n",
              "      display: none;\n",
              "      fill: #1967D2;\n",
              "      height: 32px;\n",
              "      padding: 0 0 0 0;\n",
              "      width: 32px;\n",
              "    }\n",
              "\n",
              "    .colab-df-convert:hover {\n",
              "      background-color: #E2EBFA;\n",
              "      box-shadow: 0px 1px 2px rgba(60, 64, 67, 0.3), 0px 1px 3px 1px rgba(60, 64, 67, 0.15);\n",
              "      fill: #174EA6;\n",
              "    }\n",
              "\n",
              "    [theme=dark] .colab-df-convert {\n",
              "      background-color: #3B4455;\n",
              "      fill: #D2E3FC;\n",
              "    }\n",
              "\n",
              "    [theme=dark] .colab-df-convert:hover {\n",
              "      background-color: #434B5C;\n",
              "      box-shadow: 0px 1px 3px 1px rgba(0, 0, 0, 0.15);\n",
              "      filter: drop-shadow(0px 1px 2px rgba(0, 0, 0, 0.3));\n",
              "      fill: #FFFFFF;\n",
              "    }\n",
              "  </style>\n",
              "\n",
              "      <script>\n",
              "        const buttonEl =\n",
              "          document.querySelector('#df-85890fee-2c6f-4cae-87cb-89628eba2e72 button.colab-df-convert');\n",
              "        buttonEl.style.display =\n",
              "          google.colab.kernel.accessAllowed ? 'block' : 'none';\n",
              "\n",
              "        async function convertToInteractive(key) {\n",
              "          const element = document.querySelector('#df-85890fee-2c6f-4cae-87cb-89628eba2e72');\n",
              "          const dataTable =\n",
              "            await google.colab.kernel.invokeFunction('convertToInteractive',\n",
              "                                                     [key], {});\n",
              "          if (!dataTable) return;\n",
              "\n",
              "          const docLinkHtml = 'Like what you see? Visit the ' +\n",
              "            '<a target=\"_blank\" href=https://colab.research.google.com/notebooks/data_table.ipynb>data table notebook</a>'\n",
              "            + ' to learn more about interactive tables.';\n",
              "          element.innerHTML = '';\n",
              "          dataTable['output_type'] = 'display_data';\n",
              "          await google.colab.output.renderOutput(dataTable, element);\n",
              "          const docLink = document.createElement('div');\n",
              "          docLink.innerHTML = docLinkHtml;\n",
              "          element.appendChild(docLink);\n",
              "        }\n",
              "      </script>\n",
              "    </div>\n",
              "  </div>\n",
              "  "
            ],
            "text/plain": [
              "             comments_disabled  ...  publish_weekday_7\n",
              "video_id                        ...                   \n",
              "kzwfHumJyYc              False  ...                  1\n",
              "zUZ1z7FwLc8               True  ...                  0\n",
              "10L1hZ9qa58              False  ...                  1\n",
              "N1vE8iiEg64              False  ...                  1\n",
              "kJzGH0PVQHQ              False  ...                  0\n",
              "...                        ...  ...                ...\n",
              "1PhPYr_9zRY              False  ...                  0\n",
              "BZt0qjTWNhw              False  ...                  0\n",
              "D6Oy4LfoqsU              False  ...                  0\n",
              "oV0zkMe1K8s              False  ...                  0\n",
              "ooyjaVdt-jA              False  ...                  0\n",
              "\n",
              "[154567 rows x 39 columns]"
            ]
          },
          "metadata": {},
          "execution_count": 48
        }
      ]
    },
    {
      "cell_type": "code",
      "metadata": {
        "colab": {
          "base_uri": "https://localhost:8080/"
        },
        "id": "xoC5xvGGPw-X",
        "outputId": "edad2c27-4052-4d6c-867e-23605376199c"
      },
      "source": [
        "# Print cell.\n",
        "print('check_final_df',(combined_data.shape))"
      ],
      "execution_count": 49,
      "outputs": [
        {
          "output_type": "stream",
          "name": "stdout",
          "text": [
            "check_final_df (154567, 39)\n"
          ]
        }
      ]
    },
    {
      "cell_type": "markdown",
      "metadata": {
        "id": "kAsgbsEn6lzv"
      },
      "source": [
        "Let's write out the modified data we created to a file so that we can reuse it in Section 2."
      ]
    },
    {
      "cell_type": "code",
      "metadata": {
        "id": "-t8fKXq36k6P"
      },
      "source": [
        "combined_data_sec_2 = combined_data.copy()\n",
        "combined_data_sec_2.rename(columns = {'views_log':'label'}, inplace = True) \n",
        "combined_data_sec_2.to_csv('combined_data.csv')"
      ],
      "execution_count": 50,
      "outputs": []
    },
    {
      "cell_type": "markdown",
      "metadata": {
        "id": "FIcXjRtDMlFt"
      },
      "source": [
        "#### 5.2.8: Split into x and y (1 pt)\n",
        "\n",
        "Split the data into features and label, in this case the features are anything but views_log and the label is views_log."
      ]
    },
    {
      "cell_type": "code",
      "metadata": {
        "colab": {
          "base_uri": "https://localhost:8080/"
        },
        "id": "8OnpKl4JaSxi",
        "outputId": "c3df30fe-ef53-4706-c771-0df8dbfb0bd0"
      },
      "source": [
        "combined_data.columns"
      ],
      "execution_count": 51,
      "outputs": [
        {
          "output_type": "execute_result",
          "data": {
            "text/plain": [
              "Index(['comments_disabled', 'ratings_disabled', 'video_error_or_removed',\n",
              "       'likes_log', 'views_log', 'dislikes_log', 'comment_log', 'num_tags',\n",
              "       'desc_len', 'len_title', 'country_CA', 'country_FR', 'country_IN',\n",
              "       'country_US', 'category_Autos & Vehicles', 'category_Comedy',\n",
              "       'category_Education', 'category_Entertainment',\n",
              "       'category_Film & Animation', 'category_Gaming',\n",
              "       'category_Howto & Style', 'category_Movies', 'category_Music',\n",
              "       'category_News & Politics', 'category_Nonprofits & Activism',\n",
              "       'category_People & Blogs', 'category_Pets & Animals',\n",
              "       'category_Science & Technology', 'category_Shows', 'category_Sports',\n",
              "       'category_Trailers', 'category_Travel & Events', 'publish_weekday_1',\n",
              "       'publish_weekday_2', 'publish_weekday_3', 'publish_weekday_4',\n",
              "       'publish_weekday_5', 'publish_weekday_6', 'publish_weekday_7'],\n",
              "      dtype='object')"
            ]
          },
          "metadata": {},
          "execution_count": 51
        }
      ]
    },
    {
      "cell_type": "code",
      "metadata": {
        "id": "3nSwRvMSSFa3"
      },
      "source": [
        "# Add your code here\n",
        "combined_data=pd.read_csv('combined_data.csv').set_index('video_id')\n",
        "label = combined_data['label']\n",
        "features = combined_data.drop(['label'],axis=1)"
      ],
      "execution_count": 52,
      "outputs": []
    },
    {
      "cell_type": "code",
      "metadata": {
        "colab": {
          "base_uri": "https://localhost:8080/",
          "height": 536
        },
        "id": "PhRsyfRLPvyQ",
        "outputId": "4252031e-e2bb-452a-dfb6-f69760567528"
      },
      "source": [
        "combined_data"
      ],
      "execution_count": 53,
      "outputs": [
        {
          "output_type": "execute_result",
          "data": {
            "text/html": [
              "\n",
              "  <div id=\"df-1e4528b4-0f03-4faa-9439-3d9563427b43\">\n",
              "    <div class=\"colab-df-container\">\n",
              "      <div>\n",
              "<style scoped>\n",
              "    .dataframe tbody tr th:only-of-type {\n",
              "        vertical-align: middle;\n",
              "    }\n",
              "\n",
              "    .dataframe tbody tr th {\n",
              "        vertical-align: top;\n",
              "    }\n",
              "\n",
              "    .dataframe thead th {\n",
              "        text-align: right;\n",
              "    }\n",
              "</style>\n",
              "<table border=\"1\" class=\"dataframe\">\n",
              "  <thead>\n",
              "    <tr style=\"text-align: right;\">\n",
              "      <th></th>\n",
              "      <th>comments_disabled</th>\n",
              "      <th>ratings_disabled</th>\n",
              "      <th>video_error_or_removed</th>\n",
              "      <th>likes_log</th>\n",
              "      <th>label</th>\n",
              "      <th>dislikes_log</th>\n",
              "      <th>comment_log</th>\n",
              "      <th>num_tags</th>\n",
              "      <th>desc_len</th>\n",
              "      <th>len_title</th>\n",
              "      <th>country_CA</th>\n",
              "      <th>country_FR</th>\n",
              "      <th>country_IN</th>\n",
              "      <th>country_US</th>\n",
              "      <th>category_Autos &amp; Vehicles</th>\n",
              "      <th>category_Comedy</th>\n",
              "      <th>category_Education</th>\n",
              "      <th>category_Entertainment</th>\n",
              "      <th>category_Film &amp; Animation</th>\n",
              "      <th>category_Gaming</th>\n",
              "      <th>category_Howto &amp; Style</th>\n",
              "      <th>category_Movies</th>\n",
              "      <th>category_Music</th>\n",
              "      <th>category_News &amp; Politics</th>\n",
              "      <th>category_Nonprofits &amp; Activism</th>\n",
              "      <th>category_People &amp; Blogs</th>\n",
              "      <th>category_Pets &amp; Animals</th>\n",
              "      <th>category_Science &amp; Technology</th>\n",
              "      <th>category_Shows</th>\n",
              "      <th>category_Sports</th>\n",
              "      <th>category_Trailers</th>\n",
              "      <th>category_Travel &amp; Events</th>\n",
              "      <th>publish_weekday_1</th>\n",
              "      <th>publish_weekday_2</th>\n",
              "      <th>publish_weekday_3</th>\n",
              "      <th>publish_weekday_4</th>\n",
              "      <th>publish_weekday_5</th>\n",
              "      <th>publish_weekday_6</th>\n",
              "      <th>publish_weekday_7</th>\n",
              "    </tr>\n",
              "    <tr>\n",
              "      <th>video_id</th>\n",
              "      <th></th>\n",
              "      <th></th>\n",
              "      <th></th>\n",
              "      <th></th>\n",
              "      <th></th>\n",
              "      <th></th>\n",
              "      <th></th>\n",
              "      <th></th>\n",
              "      <th></th>\n",
              "      <th></th>\n",
              "      <th></th>\n",
              "      <th></th>\n",
              "      <th></th>\n",
              "      <th></th>\n",
              "      <th></th>\n",
              "      <th></th>\n",
              "      <th></th>\n",
              "      <th></th>\n",
              "      <th></th>\n",
              "      <th></th>\n",
              "      <th></th>\n",
              "      <th></th>\n",
              "      <th></th>\n",
              "      <th></th>\n",
              "      <th></th>\n",
              "      <th></th>\n",
              "      <th></th>\n",
              "      <th></th>\n",
              "      <th></th>\n",
              "      <th></th>\n",
              "      <th></th>\n",
              "      <th></th>\n",
              "      <th></th>\n",
              "      <th></th>\n",
              "      <th></th>\n",
              "      <th></th>\n",
              "      <th></th>\n",
              "      <th></th>\n",
              "      <th></th>\n",
              "    </tr>\n",
              "  </thead>\n",
              "  <tbody>\n",
              "    <tr>\n",
              "      <th>kzwfHumJyYc</th>\n",
              "      <td>False</td>\n",
              "      <td>False</td>\n",
              "      <td>False</td>\n",
              "      <td>10.433145</td>\n",
              "      <td>13.907477</td>\n",
              "      <td>6.683361</td>\n",
              "      <td>6.783325</td>\n",
              "      <td>15</td>\n",
              "      <td>920</td>\n",
              "      <td>81</td>\n",
              "      <td>0</td>\n",
              "      <td>0</td>\n",
              "      <td>1</td>\n",
              "      <td>0</td>\n",
              "      <td>0</td>\n",
              "      <td>0</td>\n",
              "      <td>0</td>\n",
              "      <td>0</td>\n",
              "      <td>1</td>\n",
              "      <td>0</td>\n",
              "      <td>0</td>\n",
              "      <td>0</td>\n",
              "      <td>0</td>\n",
              "      <td>0</td>\n",
              "      <td>0</td>\n",
              "      <td>0</td>\n",
              "      <td>0</td>\n",
              "      <td>0</td>\n",
              "      <td>0</td>\n",
              "      <td>0</td>\n",
              "      <td>0</td>\n",
              "      <td>0</td>\n",
              "      <td>0</td>\n",
              "      <td>0</td>\n",
              "      <td>0</td>\n",
              "      <td>0</td>\n",
              "      <td>0</td>\n",
              "      <td>0</td>\n",
              "      <td>1</td>\n",
              "    </tr>\n",
              "    <tr>\n",
              "      <th>zUZ1z7FwLc8</th>\n",
              "      <td>True</td>\n",
              "      <td>False</td>\n",
              "      <td>False</td>\n",
              "      <td>6.601230</td>\n",
              "      <td>13.288051</td>\n",
              "      <td>6.807935</td>\n",
              "      <td>0.000000</td>\n",
              "      <td>19</td>\n",
              "      <td>2232</td>\n",
              "      <td>58</td>\n",
              "      <td>0</td>\n",
              "      <td>0</td>\n",
              "      <td>1</td>\n",
              "      <td>0</td>\n",
              "      <td>0</td>\n",
              "      <td>0</td>\n",
              "      <td>0</td>\n",
              "      <td>0</td>\n",
              "      <td>0</td>\n",
              "      <td>0</td>\n",
              "      <td>0</td>\n",
              "      <td>0</td>\n",
              "      <td>0</td>\n",
              "      <td>1</td>\n",
              "      <td>0</td>\n",
              "      <td>0</td>\n",
              "      <td>0</td>\n",
              "      <td>0</td>\n",
              "      <td>0</td>\n",
              "      <td>0</td>\n",
              "      <td>0</td>\n",
              "      <td>0</td>\n",
              "      <td>1</td>\n",
              "      <td>0</td>\n",
              "      <td>0</td>\n",
              "      <td>0</td>\n",
              "      <td>0</td>\n",
              "      <td>0</td>\n",
              "      <td>0</td>\n",
              "    </tr>\n",
              "    <tr>\n",
              "      <th>10L1hZ9qa58</th>\n",
              "      <td>False</td>\n",
              "      <td>False</td>\n",
              "      <td>False</td>\n",
              "      <td>7.606885</td>\n",
              "      <td>13.068939</td>\n",
              "      <td>5.497168</td>\n",
              "      <td>5.010635</td>\n",
              "      <td>14</td>\n",
              "      <td>482</td>\n",
              "      <td>58</td>\n",
              "      <td>0</td>\n",
              "      <td>0</td>\n",
              "      <td>1</td>\n",
              "      <td>0</td>\n",
              "      <td>0</td>\n",
              "      <td>0</td>\n",
              "      <td>0</td>\n",
              "      <td>1</td>\n",
              "      <td>0</td>\n",
              "      <td>0</td>\n",
              "      <td>0</td>\n",
              "      <td>0</td>\n",
              "      <td>0</td>\n",
              "      <td>0</td>\n",
              "      <td>0</td>\n",
              "      <td>0</td>\n",
              "      <td>0</td>\n",
              "      <td>0</td>\n",
              "      <td>0</td>\n",
              "      <td>0</td>\n",
              "      <td>0</td>\n",
              "      <td>0</td>\n",
              "      <td>0</td>\n",
              "      <td>0</td>\n",
              "      <td>0</td>\n",
              "      <td>0</td>\n",
              "      <td>0</td>\n",
              "      <td>0</td>\n",
              "      <td>1</td>\n",
              "    </tr>\n",
              "    <tr>\n",
              "      <th>N1vE8iiEg64</th>\n",
              "      <td>False</td>\n",
              "      <td>False</td>\n",
              "      <td>False</td>\n",
              "      <td>11.161295</td>\n",
              "      <td>14.032782</td>\n",
              "      <td>7.393263</td>\n",
              "      <td>7.895436</td>\n",
              "      <td>20</td>\n",
              "      <td>263</td>\n",
              "      <td>30</td>\n",
              "      <td>0</td>\n",
              "      <td>0</td>\n",
              "      <td>1</td>\n",
              "      <td>0</td>\n",
              "      <td>0</td>\n",
              "      <td>1</td>\n",
              "      <td>0</td>\n",
              "      <td>0</td>\n",
              "      <td>0</td>\n",
              "      <td>0</td>\n",
              "      <td>0</td>\n",
              "      <td>0</td>\n",
              "      <td>0</td>\n",
              "      <td>0</td>\n",
              "      <td>0</td>\n",
              "      <td>0</td>\n",
              "      <td>0</td>\n",
              "      <td>0</td>\n",
              "      <td>0</td>\n",
              "      <td>0</td>\n",
              "      <td>0</td>\n",
              "      <td>0</td>\n",
              "      <td>0</td>\n",
              "      <td>0</td>\n",
              "      <td>0</td>\n",
              "      <td>0</td>\n",
              "      <td>0</td>\n",
              "      <td>0</td>\n",
              "      <td>1</td>\n",
              "    </tr>\n",
              "    <tr>\n",
              "      <th>kJzGH0PVQHQ</th>\n",
              "      <td>False</td>\n",
              "      <td>False</td>\n",
              "      <td>False</td>\n",
              "      <td>6.200509</td>\n",
              "      <td>13.047674</td>\n",
              "      <td>5.683580</td>\n",
              "      <td>4.204693</td>\n",
              "      <td>11</td>\n",
              "      <td>753</td>\n",
              "      <td>88</td>\n",
              "      <td>0</td>\n",
              "      <td>0</td>\n",
              "      <td>1</td>\n",
              "      <td>0</td>\n",
              "      <td>0</td>\n",
              "      <td>0</td>\n",
              "      <td>0</td>\n",
              "      <td>1</td>\n",
              "      <td>0</td>\n",
              "      <td>0</td>\n",
              "      <td>0</td>\n",
              "      <td>0</td>\n",
              "      <td>0</td>\n",
              "      <td>0</td>\n",
              "      <td>0</td>\n",
              "      <td>0</td>\n",
              "      <td>0</td>\n",
              "      <td>0</td>\n",
              "      <td>0</td>\n",
              "      <td>0</td>\n",
              "      <td>0</td>\n",
              "      <td>0</td>\n",
              "      <td>1</td>\n",
              "      <td>0</td>\n",
              "      <td>0</td>\n",
              "      <td>0</td>\n",
              "      <td>0</td>\n",
              "      <td>0</td>\n",
              "      <td>0</td>\n",
              "    </tr>\n",
              "    <tr>\n",
              "      <th>...</th>\n",
              "      <td>...</td>\n",
              "      <td>...</td>\n",
              "      <td>...</td>\n",
              "      <td>...</td>\n",
              "      <td>...</td>\n",
              "      <td>...</td>\n",
              "      <td>...</td>\n",
              "      <td>...</td>\n",
              "      <td>...</td>\n",
              "      <td>...</td>\n",
              "      <td>...</td>\n",
              "      <td>...</td>\n",
              "      <td>...</td>\n",
              "      <td>...</td>\n",
              "      <td>...</td>\n",
              "      <td>...</td>\n",
              "      <td>...</td>\n",
              "      <td>...</td>\n",
              "      <td>...</td>\n",
              "      <td>...</td>\n",
              "      <td>...</td>\n",
              "      <td>...</td>\n",
              "      <td>...</td>\n",
              "      <td>...</td>\n",
              "      <td>...</td>\n",
              "      <td>...</td>\n",
              "      <td>...</td>\n",
              "      <td>...</td>\n",
              "      <td>...</td>\n",
              "      <td>...</td>\n",
              "      <td>...</td>\n",
              "      <td>...</td>\n",
              "      <td>...</td>\n",
              "      <td>...</td>\n",
              "      <td>...</td>\n",
              "      <td>...</td>\n",
              "      <td>...</td>\n",
              "      <td>...</td>\n",
              "      <td>...</td>\n",
              "    </tr>\n",
              "    <tr>\n",
              "      <th>1PhPYr_9zRY</th>\n",
              "      <td>False</td>\n",
              "      <td>False</td>\n",
              "      <td>False</td>\n",
              "      <td>13.378383</td>\n",
              "      <td>15.926830</td>\n",
              "      <td>8.307213</td>\n",
              "      <td>11.044696</td>\n",
              "      <td>27</td>\n",
              "      <td>926</td>\n",
              "      <td>52</td>\n",
              "      <td>0</td>\n",
              "      <td>0</td>\n",
              "      <td>0</td>\n",
              "      <td>1</td>\n",
              "      <td>0</td>\n",
              "      <td>0</td>\n",
              "      <td>0</td>\n",
              "      <td>0</td>\n",
              "      <td>0</td>\n",
              "      <td>0</td>\n",
              "      <td>0</td>\n",
              "      <td>0</td>\n",
              "      <td>0</td>\n",
              "      <td>0</td>\n",
              "      <td>0</td>\n",
              "      <td>1</td>\n",
              "      <td>0</td>\n",
              "      <td>0</td>\n",
              "      <td>0</td>\n",
              "      <td>0</td>\n",
              "      <td>0</td>\n",
              "      <td>0</td>\n",
              "      <td>0</td>\n",
              "      <td>0</td>\n",
              "      <td>0</td>\n",
              "      <td>0</td>\n",
              "      <td>1</td>\n",
              "      <td>0</td>\n",
              "      <td>0</td>\n",
              "    </tr>\n",
              "    <tr>\n",
              "      <th>BZt0qjTWNhw</th>\n",
              "      <td>False</td>\n",
              "      <td>False</td>\n",
              "      <td>False</td>\n",
              "      <td>10.549569</td>\n",
              "      <td>14.337638</td>\n",
              "      <td>7.234177</td>\n",
              "      <td>7.885329</td>\n",
              "      <td>14</td>\n",
              "      <td>46</td>\n",
              "      <td>28</td>\n",
              "      <td>0</td>\n",
              "      <td>0</td>\n",
              "      <td>0</td>\n",
              "      <td>1</td>\n",
              "      <td>0</td>\n",
              "      <td>0</td>\n",
              "      <td>0</td>\n",
              "      <td>0</td>\n",
              "      <td>0</td>\n",
              "      <td>0</td>\n",
              "      <td>0</td>\n",
              "      <td>0</td>\n",
              "      <td>0</td>\n",
              "      <td>0</td>\n",
              "      <td>0</td>\n",
              "      <td>0</td>\n",
              "      <td>1</td>\n",
              "      <td>0</td>\n",
              "      <td>0</td>\n",
              "      <td>0</td>\n",
              "      <td>0</td>\n",
              "      <td>0</td>\n",
              "      <td>0</td>\n",
              "      <td>0</td>\n",
              "      <td>0</td>\n",
              "      <td>0</td>\n",
              "      <td>1</td>\n",
              "      <td>0</td>\n",
              "      <td>0</td>\n",
              "    </tr>\n",
              "    <tr>\n",
              "      <th>D6Oy4LfoqsU</th>\n",
              "      <td>False</td>\n",
              "      <td>False</td>\n",
              "      <td>False</td>\n",
              "      <td>10.780393</td>\n",
              "      <td>13.879848</td>\n",
              "      <td>6.940222</td>\n",
              "      <td>8.292298</td>\n",
              "      <td>24</td>\n",
              "      <td>775</td>\n",
              "      <td>84</td>\n",
              "      <td>0</td>\n",
              "      <td>0</td>\n",
              "      <td>0</td>\n",
              "      <td>1</td>\n",
              "      <td>0</td>\n",
              "      <td>0</td>\n",
              "      <td>0</td>\n",
              "      <td>1</td>\n",
              "      <td>0</td>\n",
              "      <td>0</td>\n",
              "      <td>0</td>\n",
              "      <td>0</td>\n",
              "      <td>0</td>\n",
              "      <td>0</td>\n",
              "      <td>0</td>\n",
              "      <td>0</td>\n",
              "      <td>0</td>\n",
              "      <td>0</td>\n",
              "      <td>0</td>\n",
              "      <td>0</td>\n",
              "      <td>0</td>\n",
              "      <td>0</td>\n",
              "      <td>0</td>\n",
              "      <td>0</td>\n",
              "      <td>0</td>\n",
              "      <td>0</td>\n",
              "      <td>1</td>\n",
              "      <td>0</td>\n",
              "      <td>0</td>\n",
              "    </tr>\n",
              "    <tr>\n",
              "      <th>oV0zkMe1K8s</th>\n",
              "      <td>False</td>\n",
              "      <td>False</td>\n",
              "      <td>False</td>\n",
              "      <td>12.170228</td>\n",
              "      <td>15.549078</td>\n",
              "      <td>7.954021</td>\n",
              "      <td>9.479527</td>\n",
              "      <td>22</td>\n",
              "      <td>3268</td>\n",
              "      <td>35</td>\n",
              "      <td>0</td>\n",
              "      <td>0</td>\n",
              "      <td>0</td>\n",
              "      <td>1</td>\n",
              "      <td>0</td>\n",
              "      <td>0</td>\n",
              "      <td>0</td>\n",
              "      <td>0</td>\n",
              "      <td>1</td>\n",
              "      <td>0</td>\n",
              "      <td>0</td>\n",
              "      <td>0</td>\n",
              "      <td>0</td>\n",
              "      <td>0</td>\n",
              "      <td>0</td>\n",
              "      <td>0</td>\n",
              "      <td>0</td>\n",
              "      <td>0</td>\n",
              "      <td>0</td>\n",
              "      <td>0</td>\n",
              "      <td>0</td>\n",
              "      <td>0</td>\n",
              "      <td>0</td>\n",
              "      <td>0</td>\n",
              "      <td>0</td>\n",
              "      <td>1</td>\n",
              "      <td>0</td>\n",
              "      <td>0</td>\n",
              "      <td>0</td>\n",
              "    </tr>\n",
              "    <tr>\n",
              "      <th>ooyjaVdt-jA</th>\n",
              "      <td>False</td>\n",
              "      <td>False</td>\n",
              "      <td>False</td>\n",
              "      <td>12.785715</td>\n",
              "      <td>16.148248</td>\n",
              "      <td>12.268939</td>\n",
              "      <td>11.883081</td>\n",
              "      <td>4</td>\n",
              "      <td>709</td>\n",
              "      <td>64</td>\n",
              "      <td>0</td>\n",
              "      <td>0</td>\n",
              "      <td>0</td>\n",
              "      <td>1</td>\n",
              "      <td>0</td>\n",
              "      <td>0</td>\n",
              "      <td>0</td>\n",
              "      <td>0</td>\n",
              "      <td>0</td>\n",
              "      <td>1</td>\n",
              "      <td>0</td>\n",
              "      <td>0</td>\n",
              "      <td>0</td>\n",
              "      <td>0</td>\n",
              "      <td>0</td>\n",
              "      <td>0</td>\n",
              "      <td>0</td>\n",
              "      <td>0</td>\n",
              "      <td>0</td>\n",
              "      <td>0</td>\n",
              "      <td>0</td>\n",
              "      <td>0</td>\n",
              "      <td>0</td>\n",
              "      <td>0</td>\n",
              "      <td>0</td>\n",
              "      <td>1</td>\n",
              "      <td>0</td>\n",
              "      <td>0</td>\n",
              "      <td>0</td>\n",
              "    </tr>\n",
              "  </tbody>\n",
              "</table>\n",
              "<p>154567 rows × 39 columns</p>\n",
              "</div>\n",
              "      <button class=\"colab-df-convert\" onclick=\"convertToInteractive('df-1e4528b4-0f03-4faa-9439-3d9563427b43')\"\n",
              "              title=\"Convert this dataframe to an interactive table.\"\n",
              "              style=\"display:none;\">\n",
              "        \n",
              "  <svg xmlns=\"http://www.w3.org/2000/svg\" height=\"24px\"viewBox=\"0 0 24 24\"\n",
              "       width=\"24px\">\n",
              "    <path d=\"M0 0h24v24H0V0z\" fill=\"none\"/>\n",
              "    <path d=\"M18.56 5.44l.94 2.06.94-2.06 2.06-.94-2.06-.94-.94-2.06-.94 2.06-2.06.94zm-11 1L8.5 8.5l.94-2.06 2.06-.94-2.06-.94L8.5 2.5l-.94 2.06-2.06.94zm10 10l.94 2.06.94-2.06 2.06-.94-2.06-.94-.94-2.06-.94 2.06-2.06.94z\"/><path d=\"M17.41 7.96l-1.37-1.37c-.4-.4-.92-.59-1.43-.59-.52 0-1.04.2-1.43.59L10.3 9.45l-7.72 7.72c-.78.78-.78 2.05 0 2.83L4 21.41c.39.39.9.59 1.41.59.51 0 1.02-.2 1.41-.59l7.78-7.78 2.81-2.81c.8-.78.8-2.07 0-2.86zM5.41 20L4 18.59l7.72-7.72 1.47 1.35L5.41 20z\"/>\n",
              "  </svg>\n",
              "      </button>\n",
              "      \n",
              "  <style>\n",
              "    .colab-df-container {\n",
              "      display:flex;\n",
              "      flex-wrap:wrap;\n",
              "      gap: 12px;\n",
              "    }\n",
              "\n",
              "    .colab-df-convert {\n",
              "      background-color: #E8F0FE;\n",
              "      border: none;\n",
              "      border-radius: 50%;\n",
              "      cursor: pointer;\n",
              "      display: none;\n",
              "      fill: #1967D2;\n",
              "      height: 32px;\n",
              "      padding: 0 0 0 0;\n",
              "      width: 32px;\n",
              "    }\n",
              "\n",
              "    .colab-df-convert:hover {\n",
              "      background-color: #E2EBFA;\n",
              "      box-shadow: 0px 1px 2px rgba(60, 64, 67, 0.3), 0px 1px 3px 1px rgba(60, 64, 67, 0.15);\n",
              "      fill: #174EA6;\n",
              "    }\n",
              "\n",
              "    [theme=dark] .colab-df-convert {\n",
              "      background-color: #3B4455;\n",
              "      fill: #D2E3FC;\n",
              "    }\n",
              "\n",
              "    [theme=dark] .colab-df-convert:hover {\n",
              "      background-color: #434B5C;\n",
              "      box-shadow: 0px 1px 3px 1px rgba(0, 0, 0, 0.15);\n",
              "      filter: drop-shadow(0px 1px 2px rgba(0, 0, 0, 0.3));\n",
              "      fill: #FFFFFF;\n",
              "    }\n",
              "  </style>\n",
              "\n",
              "      <script>\n",
              "        const buttonEl =\n",
              "          document.querySelector('#df-1e4528b4-0f03-4faa-9439-3d9563427b43 button.colab-df-convert');\n",
              "        buttonEl.style.display =\n",
              "          google.colab.kernel.accessAllowed ? 'block' : 'none';\n",
              "\n",
              "        async function convertToInteractive(key) {\n",
              "          const element = document.querySelector('#df-1e4528b4-0f03-4faa-9439-3d9563427b43');\n",
              "          const dataTable =\n",
              "            await google.colab.kernel.invokeFunction('convertToInteractive',\n",
              "                                                     [key], {});\n",
              "          if (!dataTable) return;\n",
              "\n",
              "          const docLinkHtml = 'Like what you see? Visit the ' +\n",
              "            '<a target=\"_blank\" href=https://colab.research.google.com/notebooks/data_table.ipynb>data table notebook</a>'\n",
              "            + ' to learn more about interactive tables.';\n",
              "          element.innerHTML = '';\n",
              "          dataTable['output_type'] = 'display_data';\n",
              "          await google.colab.output.renderOutput(dataTable, element);\n",
              "          const docLink = document.createElement('div');\n",
              "          docLink.innerHTML = docLinkHtml;\n",
              "          element.appendChild(docLink);\n",
              "        }\n",
              "      </script>\n",
              "    </div>\n",
              "  </div>\n",
              "  "
            ],
            "text/plain": [
              "             comments_disabled  ...  publish_weekday_7\n",
              "video_id                        ...                   \n",
              "kzwfHumJyYc              False  ...                  1\n",
              "zUZ1z7FwLc8               True  ...                  0\n",
              "10L1hZ9qa58              False  ...                  1\n",
              "N1vE8iiEg64              False  ...                  1\n",
              "kJzGH0PVQHQ              False  ...                  0\n",
              "...                        ...  ...                ...\n",
              "1PhPYr_9zRY              False  ...                  0\n",
              "BZt0qjTWNhw              False  ...                  0\n",
              "D6Oy4LfoqsU              False  ...                  0\n",
              "oV0zkMe1K8s              False  ...                  0\n",
              "ooyjaVdt-jA              False  ...                  0\n",
              "\n",
              "[154567 rows x 39 columns]"
            ]
          },
          "metadata": {},
          "execution_count": 53
        }
      ]
    },
    {
      "cell_type": "code",
      "metadata": {
        "colab": {
          "base_uri": "https://localhost:8080/"
        },
        "id": "r6opJ4LOPygd",
        "outputId": "7cb5db6f-445e-499b-95ab-d294b61cb6a8"
      },
      "source": [
        "# print cell\n",
        "print('check_x_y_split',([features.shape, label.describe()]))"
      ],
      "execution_count": 54,
      "outputs": [
        {
          "output_type": "stream",
          "name": "stdout",
          "text": [
            "check_x_y_split [(154567, 38), count    154567.000000\n",
            "mean         12.552680\n",
            "std           1.816821\n",
            "min           5.411646\n",
            "25%          11.469496\n",
            "50%          12.655328\n",
            "75%          13.761413\n",
            "max          19.232552\n",
            "Name: label, dtype: float64]\n"
          ]
        }
      ]
    },
    {
      "cell_type": "markdown",
      "metadata": {
        "id": "a9rwVcftQJwu"
      },
      "source": [
        "## 5.3 : Machine Learning using sklearn (15 pts)\n",
        "\n",
        "Scikit-learn (formerly scikits.learn and also known as sklearn) is a free software machine learning library for the Python programming language. It features various classification, regression and clustering algorithms including support vector machines, random forests, gradient boosting, k-means and DBSCAN, and is designed to interoperate with the Python numerical and scientific libraries NumPy and SciPy.\n",
        "\n",
        "You can find the documentation [here](https://scikit-learn.org/stable/modules/classes.html)\n",
        "\n",
        "Now we will train some machine learning models using sklearn to predict views, rather than predicting views directly we will predict views_log to avoid numerical instability issues"
      ]
    },
    {
      "cell_type": "markdown",
      "metadata": {
        "id": "5955JflOaxtP"
      },
      "source": [
        "### 5.3.1 : Split data into train and test (1 pt)\n",
        "\n",
        "Use sklearn's train_test_split library and split data into train and test sets, the split should be 80-20 meaning 80% for training and rest for testing.\n"
      ]
    },
    {
      "cell_type": "code",
      "metadata": {
        "id": "1b5bKkQkR9lT"
      },
      "source": [
        "from sklearn.model_selection import train_test_split\n",
        "# Add your code here\n",
        "x_train, x_test, y_train, y_test = train_test_split(features.values, label.values, test_size=0.2, random_state=0)\n",
        "from sklearn.preprocessing import StandardScaler\n",
        "sc = StandardScaler()\n",
        "x_train = sc.fit_transform(x_train)\n",
        "x_test = sc.transform(x_test)"
      ],
      "execution_count": 55,
      "outputs": []
    },
    {
      "cell_type": "code",
      "metadata": {
        "colab": {
          "base_uri": "https://localhost:8080/"
        },
        "id": "azYR-gZ1QKwK",
        "outputId": "9fb76349-9098-4c21-e1b5-c99451026111"
      },
      "source": [
        "# print cell.\n",
        "print('check_data_split',[x_train.shape,x_test.shape,y_train.shape,y_test.shape])"
      ],
      "execution_count": 56,
      "outputs": [
        {
          "output_type": "stream",
          "name": "stdout",
          "text": [
            "check_data_split [(123653, 38), (30914, 38), (123653,), (30914,)]\n"
          ]
        }
      ]
    },
    {
      "cell_type": "markdown",
      "metadata": {
        "id": "dbfiYK_8RGKI"
      },
      "source": [
        "### 5.3.2: Train Machine Learning Models."
      ]
    },
    {
      "cell_type": "markdown",
      "metadata": {
        "id": "7EPYfVVMRMDd"
      },
      "source": [
        "#### 5.3.2.1 Linear Regression (3 pts)\n",
        "\n",
        "In this step we will train a linear regression model using sklearn. Train using the training data and then make predictions of test, report the mean squared error obtained on both train and test sets."
      ]
    },
    {
      "cell_type": "code",
      "metadata": {
        "colab": {
          "base_uri": "https://localhost:8080/"
        },
        "id": "A6wS3Rc_TZGT",
        "outputId": "c2b38719-bc7f-4390-8555-ada51ad20781"
      },
      "source": [
        "from sklearn.linear_model import LinearRegression\n",
        "from sklearn.metrics import mean_squared_error\n",
        "# Add your code here\n",
        "from sklearn.metrics import accuracy_score, mean_absolute_error, mean_squared_error\n",
        "\n",
        "# Create linear regression object\n",
        "lin_R = LinearRegression()\n",
        "\n",
        "# Train the model using the training sets\n",
        "lin_R.fit(x_train, y_train)\n",
        "\n",
        "# Make predictions\n",
        "\n",
        "y_predict_test = lin_R.predict(x_test)\n",
        "y_predict_train= lin_R.predict(x_train)\n",
        "\n",
        "# The coefficients\n",
        "#print('Coefficients: \\n', lin_R.coef_)\n",
        "\n",
        "print('r Squared: %.2f'\n",
        "      % lin_R.score(x_test, y_test))\n",
        "\n",
        "print('mse_value of Test=',mean_squared_error(y_test, y_predict_test))\n",
        "print('mse_value of Train=',mean_squared_error(y_train, y_predict_train))\n",
        "mse_test= mean_squared_error(y_test, y_predict_test)"
      ],
      "execution_count": 57,
      "outputs": [
        {
          "output_type": "stream",
          "name": "stdout",
          "text": [
            "r Squared: 0.87\n",
            "mse_value of Test= 0.44613967916600783\n",
            "mse_value of Train= 0.445449726756597\n"
          ]
        }
      ]
    },
    {
      "cell_type": "code",
      "metadata": {
        "id": "YmSfKICYQLuh",
        "colab": {
          "base_uri": "https://localhost:8080/"
        },
        "outputId": "a6d51917-cf0c-44d4-ea1b-6870fdb88f7a"
      },
      "source": [
        "print('check_lr', (np.sqrt(mean_squared_error(y_test, y_predict_test))))"
      ],
      "execution_count": 58,
      "outputs": [
        {
          "output_type": "stream",
          "name": "stdout",
          "text": [
            "check_lr 0.6679368826214105\n"
          ]
        }
      ]
    },
    {
      "cell_type": "code",
      "source": [
        "from sklearn.linear_model import ElasticNet\n",
        "from sklearn.metrics import mean_squared_error\n",
        "# Add your code here\n",
        "from sklearn.metrics import accuracy_score, mean_absolute_error, mean_squared_error\n",
        "\n",
        "# Create linear regression object\n",
        "enet = ElasticNet()\n",
        "\n",
        "# Train the model using the training sets\n",
        "enet.fit(x_train, y_train)\n",
        "\n",
        "# Make predictions\n",
        "\n",
        "y_predict_test = enet.predict(x_test)\n",
        "y_predict_train= enet.predict(x_train)\n",
        "\n",
        "# The coefficients\n",
        "#print('Coefficients: \\n', lin_R.coef_)\n",
        "\n",
        "print('r Squared: %.2f'\n",
        "      % enet.score(x_test, y_test))\n",
        "\n",
        "print('mse_value of Test=',mean_squared_error(y_test, y_predict_test))\n",
        "print('mse_value of Train=',mean_squared_error(y_train, y_predict_train))\n",
        "mse_test= mean_squared_error(y_test, y_predict_test)"
      ],
      "metadata": {
        "colab": {
          "base_uri": "https://localhost:8080/"
        },
        "id": "q_X4c-SSYSnf",
        "outputId": "f3848955-9c32-47de-bce3-027a43c71e7e"
      },
      "execution_count": 59,
      "outputs": [
        {
          "output_type": "stream",
          "name": "stdout",
          "text": [
            "r Squared: 0.61\n",
            "mse_value of Test= 1.3011642534643864\n",
            "mse_value of Train= 1.2986992445255168\n"
          ]
        }
      ]
    },
    {
      "cell_type": "code",
      "source": [
        "print('check_enet', (np.sqrt(mean_squared_error(y_test, y_predict_test))))"
      ],
      "metadata": {
        "colab": {
          "base_uri": "https://localhost:8080/"
        },
        "id": "QDewur8Y2ZGC",
        "outputId": "2e3043de-292b-4e01-9d05-cd4f822cc362"
      },
      "execution_count": 60,
      "outputs": [
        {
          "output_type": "stream",
          "name": "stdout",
          "text": [
            "check_enet 1.1406858697574833\n"
          ]
        }
      ]
    },
    {
      "cell_type": "code",
      "source": [
        "# from sklearn.ensemble import AdaBoostRegressor\n",
        "# from sklearn import metrics\n",
        "\n",
        "# from sklearn import preprocessing\n",
        "# from sklearn import utils\n",
        "\n",
        "# adaboost = AdaBoostRegressor(n_estimators=50,\n",
        "#                          learning_rate=1)\n",
        "# abc_model = adaboost.fit(x_train, y_train)\n",
        "# y_pred = abc_model.predict(x_test)\n",
        "# print(\"Accuracy:\",metrics.accuracy_score(y_test, y_pred))"
      ],
      "metadata": {
        "id": "4YC5GaRdtb9o"
      },
      "execution_count": 61,
      "outputs": []
    },
    {
      "cell_type": "markdown",
      "metadata": {
        "id": "jpu9aiyYbAUS"
      },
      "source": [
        "#### 5.3.2.2  Dimensionality reduction with PCA (6 pts)\n",
        "\n"
      ]
    },
    {
      "cell_type": "markdown",
      "metadata": {
        "id": "aTqcy4x-TXv9"
      },
      "source": [
        "##### Step 1: Fitting PCA and explained_variance_ratiio\n",
        "Use Principal component analysis to reduce number of dimensions of the dataset, as a first step fit a pca model on your train set and then plot the explained_variance_ratio against the number of components to decide the number of components you should keep. (3 pts)"
      ]
    },
    {
      "cell_type": "code",
      "metadata": {
        "id": "NjpuExM0Vx8s",
        "colab": {
          "base_uri": "https://localhost:8080/",
          "height": 331
        },
        "outputId": "956105d3-22c6-477d-a581-459611c3a43f"
      },
      "source": [
        "import numpy as np\n",
        "from sklearn.decomposition import PCA\n",
        "from sklearn.preprocessing import StandardScaler\n",
        "# Add your code here\n",
        "\n",
        "pca = PCA()\n",
        "sc = StandardScaler()\n",
        "x_train_std=pca.fit_transform(x_train)\n",
        "np.set_printoptions(suppress=True)\n",
        "var_vs_pca = np.cumsum(pca.explained_variance_ratio_)\n",
        "print([(i,x) for i, x in enumerate(var_vs_pca)])\n",
        "# plotting the explained_variance_ratio against the number of components\n",
        "plt.plot(var_vs_pca)"
      ],
      "execution_count": 62,
      "outputs": [
        {
          "output_type": "stream",
          "name": "stdout",
          "text": [
            "[(0, 0.09115519280825649), (1, 0.13958318926248836), (2, 0.1782777178868607), (3, 0.21660452532355), (4, 0.25070003718148665), (5, 0.28413119458314445), (6, 0.3169550040134681), (7, 0.3484584471561596), (8, 0.3796155283820962), (9, 0.4106051332235178), (10, 0.44116855746369343), (11, 0.4710178167134483), (12, 0.5005390043481894), (13, 0.5293549532522641), (14, 0.5577740247266977), (15, 0.5857778381496183), (16, 0.6132548974589935), (17, 0.6402641211091161), (18, 0.6670780439509043), (19, 0.6937153946954872), (20, 0.7201882183468462), (21, 0.7465187895519568), (22, 0.7728352495925653), (23, 0.7990089702536448), (24, 0.8247501503676922), (25, 0.850300609999977), (26, 0.8752632491439946), (27, 0.8998882203209906), (28, 0.9225058175039438), (29, 0.9429891915042852), (30, 0.9621286810012459), (31, 0.9794212796033667), (32, 0.9948917602425855), (33, 0.9982954701179625), (34, 1.0), (35, 1.0), (36, 1.0), (37, 1.0)]\n"
          ]
        },
        {
          "output_type": "execute_result",
          "data": {
            "text/plain": [
              "[<matplotlib.lines.Line2D at 0x7f1dd1692390>]"
            ]
          },
          "metadata": {},
          "execution_count": 62
        },
        {
          "output_type": "display_data",
          "data": {
            "image/png": "[encoded data removed]",
            "text/plain": [
              "<Figure size 432x288 with 1 Axes>"
            ]
          },
          "metadata": {}
        }
      ]
    },
    {
      "cell_type": "code",
      "metadata": {
        "id": "tMkDsHu0MW81",
        "colab": {
          "base_uri": "https://localhost:8080/",
          "height": 331
        },
        "outputId": "07c16be0-c476-4565-b6b6-4c4aa48c06ba"
      },
      "source": [
        "#It is strating faltten with number of component = 34 (99% of variance)\n",
        "pca = PCA(34)\n",
        "x_train_std=pca.fit_transform(x_train)\n",
        "np.set_printoptions(suppress=True)\n",
        "var_vs_pca = np.cumsum(pca.explained_variance_ratio_)\n",
        "print([(i,x) for i, x in enumerate(var_vs_pca)])\n",
        "# plotting the explained_variance_ratio against the number of components\n",
        "plt.plot(var_vs_pca)\n",
        "plt.plot(pd.Series(pca.explained_variance_ratio_))"
      ],
      "execution_count": 63,
      "outputs": [
        {
          "output_type": "stream",
          "name": "stdout",
          "text": [
            "[(0, 0.09115519280825649), (1, 0.13958318926248836), (2, 0.1782777178868607), (3, 0.21660452532355), (4, 0.25070003718148665), (5, 0.28413119458314445), (6, 0.3169550040134681), (7, 0.3484584471561596), (8, 0.3796155283820962), (9, 0.4106051332235178), (10, 0.44116855746369343), (11, 0.4710178167134483), (12, 0.5005390043481894), (13, 0.5293549532522641), (14, 0.5577740247266977), (15, 0.5857778381496183), (16, 0.6132548974589935), (17, 0.6402641211091161), (18, 0.6670780439509043), (19, 0.6937153946954872), (20, 0.7201882183468462), (21, 0.7465187895519568), (22, 0.7728352495925653), (23, 0.7990089702536448), (24, 0.8247501503676922), (25, 0.850300609999977), (26, 0.8752632491439946), (27, 0.8998882203209906), (28, 0.9225058175039438), (29, 0.9429891915042852), (30, 0.9621286810012459), (31, 0.9794212796033667), (32, 0.9948917602425855), (33, 0.9982954701179625)]\n"
          ]
        },
        {
          "output_type": "execute_result",
          "data": {
            "text/plain": [
              "[<matplotlib.lines.Line2D at 0x7f1dd1884190>]"
            ]
          },
          "metadata": {},
          "execution_count": 63
        },
        {
          "output_type": "display_data",
          "data": {
            "image/png": "[encoded data removed]",
            "text/plain": [
              "<Figure size 432x288 with 1 Axes>"
            ]
          },
          "metadata": {}
        }
      ]
    },
    {
      "cell_type": "markdown",
      "metadata": {
        "id": "jPbEQwiRR2Ta"
      },
      "source": [
        "##### Step 2: Deciding number of components to keep\n",
        "Use the plot to decide the number of components to keep, choose a number that explains atleast 95% of variance in the dataset. Then fit and transform your pca on training set using the number of components you decided. (1 pts)\n",
        "\n",
        "**Remember that your pca should be trained on the training set (and transformed here) but only transformed on the test set.**"
      ]
    },
    {
      "cell_type": "code",
      "metadata": {
        "id": "5OfN7anNQNFy"
      },
      "source": [
        "# Add your code here\n",
        "pca = PCA(n_components=34)\n",
        "x_train_Trans=pca.fit_transform(x_train)\n",
        "x_test_Trans=pca.transform(x_test)"
      ],
      "execution_count": 64,
      "outputs": []
    },
    {
      "cell_type": "code",
      "metadata": {
        "id": "lPiFyPW2XmPr",
        "colab": {
          "base_uri": "https://localhost:8080/"
        },
        "outputId": "1e894677-400e-4e91-b7a1-90f476cc151c"
      },
      "source": [
        "# Print cell.\n",
        "print('check_pca', (x_train_Trans[:50,:]))"
      ],
      "execution_count": 65,
      "outputs": [
        {
          "output_type": "stream",
          "name": "stdout",
          "text": [
            "check_pca [[ 1.30957174 -1.49160918  1.27755133 ...  0.8880177  -0.5174053\n",
            "   0.35804414]\n",
            " [ 1.57292642 -1.34215966 -0.74480146 ... -0.24467492  0.73412419\n",
            "  -0.77592337]\n",
            " [ 1.47923611 -2.07921416  0.4958444  ...  0.20974823  0.155579\n",
            "  -0.25534992]\n",
            " ...\n",
            " [-0.47229094  1.06549725 -0.90243102 ...  1.62480956  1.1262418\n",
            "  -0.17709165]\n",
            " [ 1.34259387 -0.56208244 -0.67964645 ... -0.02482437 -0.91392081\n",
            "   0.66588963]\n",
            " [ 1.1132019   0.1754874  -0.90656239 ...  0.35778915 -0.36258812\n",
            "  -0.00645859]]\n"
          ]
        }
      ]
    },
    {
      "cell_type": "markdown",
      "metadata": {
        "id": "4sw_JKLLbMcc"
      },
      "source": [
        "### 5.3.2.3 Random Forest. (10 pts)\n",
        "\n"
      ]
    },
    {
      "cell_type": "markdown",
      "metadata": {
        "id": "UwTfPha2TUub"
      },
      "source": [
        "##### Step 1: Hyperparameter tuning. \n",
        "Use grid search and train a random forest model on the transformed train dataset. Take a look at the sklearn `RandomForestRegressor` documentation and tune the max_depth hyperparameter using grid search. We have already tested the number of estimators hyperparameter for you. Note this section may take a while to run depending on how large your grid is. \n",
        "\n",
        "(Hint: refer to the GridSearchCV documentation and do some reading on how the max_depth in a RF model affects the result - while theory may help guide a rough estimate of possible hyperparameters, we can cross validate values using tools like GridSearch.\n",
        "\n",
        "Our autograder has tiered points for this question depending on your final MSE value but is fairly generous; we are not requiring that you find the **most** optimal value for this hyperparameter but rather demonstrate understanding of grid search optimization. (4 pts)\n"
      ]
    },
    {
      "cell_type": "code",
      "source": [
        "from sklearn.linear_model import ElasticNetCV\n",
        "optimizer = ElasticNetCV(l1_ratio = [.1,.5,.7,.9,.99,1], n_alphas=400, cv=10)\n",
        "optimizer.fit(x_train_Trans, y_train)\n",
        "best = ElasticNet(alpha=optimizer.alpha_, l1_ratio=optimizer.l1_ratio_)\n",
        "best.fit(x_train_Trans,y_train)\n",
        "Y_pred_ECV = best.predict(x_test_Trans)\n",
        "print('Y_pred_ecv', (np.sqrt(mean_squared_error(y_test, Y_pred_ECV))))"
      ],
      "metadata": {
        "colab": {
          "base_uri": "https://localhost:8080/"
        },
        "id": "ZZlwDgClGByY",
        "outputId": "16064268-35a4-469f-9479-d618d76c66b5"
      },
      "execution_count": 68,
      "outputs": [
        {
          "output_type": "stream",
          "name": "stdout",
          "text": [
            "Y_pred_ecv 0.7099414252157616\n"
          ]
        }
      ]
    },
    {
      "cell_type": "code",
      "source": [
        "from sklearn.model_selection import GridSearchCV\n",
        "\n",
        "# Use grid search to tune the parameters:\n",
        "\n",
        "parametersGrid = {\"max_iter\": [1000],\n",
        "                      \"alpha\": [1.0],\n",
        "                      \"l1_ratio\": np.arange(0.5)}\n",
        "\n",
        "enet = Els_Net()\n",
        "grid = GridSearchCV(enet, parametersGrid, scoring='r2', cv=10)\n",
        "grid.fit(x_train_Trans, y_train)\n",
        "Y_pred = grid.predict(x_test_Trans)\n",
        "\n",
        "# indx = np.isnan(x).any(axis=1)\n",
        "# x_train = x_train[indx]\n",
        "# y_train = y_train[indx]"
      ],
      "metadata": {
        "id": "Jj158kWF3qHa"
      },
      "execution_count": null,
      "outputs": []
    },
    {
      "cell_type": "code",
      "metadata": {
        "id": "W08Wd5JKZWyz"
      },
      "source": [
        "# from sklearn.ensemble import RandomForestRegressor\n",
        "# from sklearn.model_selection import GridSearchCV\n",
        "# Add your code here\n",
        "# Only tune the max depth of the trees in the RF hyperparameter.\n",
        "# grid = GridSearchCV(estimator=RandomForestRegressor(), param_grid={'n_estimators':[140],'max_depth':[25,30,35,40,45]},cv=5)\n",
        "# grid.fit(x_train_Trans, y_train)\n",
        "# grid.best_params_\n",
        "# depth = [40]\n",
        "# nEstimator = [140]"
      ],
      "execution_count": null,
      "outputs": []
    },
    {
      "cell_type": "markdown",
      "metadata": {
        "id": "cLnVsNVzS2Co"
      },
      "source": [
        "##### Step 2: Fitting RF\n",
        "Fit the random forest on the training data using the parameters you computed above. Then make predictions on the test set, report the root mean squared error for the test set. (3 pts)"
      ]
    },
    {
      "cell_type": "code",
      "source": [
        "from sklearn.ensemble import AdaBoostRegressor\n",
        "from sklearn import metrics\n",
        "\n",
        "ada_bst = AdaBoostRegressor(n_estimators=50,\n",
        "                         learning_rate=1)\n",
        "abc_model = adaboost.fit(x_train_Trans, y_train)\n",
        "y_pred_AB = abc_model.predict(x_test_Trans)"
      ],
      "metadata": {
        "id": "ErEHnj3bGtDB"
      },
      "execution_count": 70,
      "outputs": []
    },
    {
      "cell_type": "code",
      "source": [
        "print('check_ab', (np.sqrt(mean_squared_error(y_test, y_pred_AB))))"
      ],
      "metadata": {
        "colab": {
          "base_uri": "https://localhost:8080/"
        },
        "id": "4zTUBkikcyXm",
        "outputId": "7453c522-4810-4cd2-d4fa-6baa0f620d78"
      },
      "execution_count": 71,
      "outputs": [
        {
          "output_type": "stream",
          "name": "stdout",
          "text": [
            "check_ab 0.9180193511584587\n"
          ]
        }
      ]
    },
    {
      "cell_type": "code",
      "metadata": {
        "id": "3avoNnIaZe3P",
        "colab": {
          "base_uri": "https://localhost:8080/",
          "height": 363
        },
        "outputId": "1cd517aa-3a08-4e1c-9d51-cdd7cf84cca0"
      },
      "source": [
        "from sklearn.ensemble import RandomForestRegressor\n",
        "# Add your code here\n",
        "# Set n_estimators = 140\n",
        "reg_RF = RandomForestRegressor(n_estimators=140, max_depth=40)\n",
        "reg_RF.fit(x_train_Trans, y_train)\n",
        "y_pred_RF = reg_RF.predict(x_test_Trans)"
      ],
      "execution_count": 72,
      "outputs": [
        {
          "output_type": "error",
          "ename": "KeyboardInterrupt",
          "evalue": "ignored",
          "traceback": [
            "\u001b[0;31m---------------------------------------------------------------------------\u001b[0m",
            "\u001b[0;31mKeyboardInterrupt\u001b[0m                         Traceback (most recent call last)",
            "\u001b[0;32m<ipython-input-72-bd8444d71f73>\u001b[0m in \u001b[0;36m<module>\u001b[0;34m()\u001b[0m\n\u001b[1;32m      3\u001b[0m \u001b[0;31m# Set n_estimators = 140\u001b[0m\u001b[0;34m\u001b[0m\u001b[0;34m\u001b[0m\u001b[0;34m\u001b[0m\u001b[0m\n\u001b[1;32m      4\u001b[0m \u001b[0mreg_RF\u001b[0m \u001b[0;34m=\u001b[0m \u001b[0mRandomForestRegressor\u001b[0m\u001b[0;34m(\u001b[0m\u001b[0mn_estimators\u001b[0m\u001b[0;34m=\u001b[0m\u001b[0;36m140\u001b[0m\u001b[0;34m,\u001b[0m \u001b[0mmax_depth\u001b[0m\u001b[0;34m=\u001b[0m\u001b[0;36m40\u001b[0m\u001b[0;34m)\u001b[0m\u001b[0;34m\u001b[0m\u001b[0;34m\u001b[0m\u001b[0m\n\u001b[0;32m----> 5\u001b[0;31m \u001b[0mreg_RF\u001b[0m\u001b[0;34m.\u001b[0m\u001b[0mfit\u001b[0m\u001b[0;34m(\u001b[0m\u001b[0mx_train_Trans\u001b[0m\u001b[0;34m,\u001b[0m \u001b[0my_train\u001b[0m\u001b[0;34m)\u001b[0m\u001b[0;34m\u001b[0m\u001b[0;34m\u001b[0m\u001b[0m\n\u001b[0m\u001b[1;32m      6\u001b[0m \u001b[0my_pred_RF\u001b[0m \u001b[0;34m=\u001b[0m \u001b[0mreg_RF\u001b[0m\u001b[0;34m.\u001b[0m\u001b[0mpredict\u001b[0m\u001b[0;34m(\u001b[0m\u001b[0mx_test_Trans\u001b[0m\u001b[0;34m)\u001b[0m\u001b[0;34m\u001b[0m\u001b[0;34m\u001b[0m\u001b[0m\n",
            "\u001b[0;32m/usr/local/lib/python3.7/dist-packages/sklearn/ensemble/_forest.py\u001b[0m in \u001b[0;36mfit\u001b[0;34m(self, X, y, sample_weight)\u001b[0m\n\u001b[1;32m    465\u001b[0m                     \u001b[0mn_samples_bootstrap\u001b[0m\u001b[0;34m=\u001b[0m\u001b[0mn_samples_bootstrap\u001b[0m\u001b[0;34m,\u001b[0m\u001b[0;34m\u001b[0m\u001b[0;34m\u001b[0m\u001b[0m\n\u001b[1;32m    466\u001b[0m                 )\n\u001b[0;32m--> 467\u001b[0;31m                 \u001b[0;32mfor\u001b[0m \u001b[0mi\u001b[0m\u001b[0;34m,\u001b[0m \u001b[0mt\u001b[0m \u001b[0;32min\u001b[0m \u001b[0menumerate\u001b[0m\u001b[0;34m(\u001b[0m\u001b[0mtrees\u001b[0m\u001b[0;34m)\u001b[0m\u001b[0;34m\u001b[0m\u001b[0;34m\u001b[0m\u001b[0m\n\u001b[0m\u001b[1;32m    468\u001b[0m             )\n\u001b[1;32m    469\u001b[0m \u001b[0;34m\u001b[0m\u001b[0m\n",
            "\u001b[0;32m/usr/local/lib/python3.7/dist-packages/joblib/parallel.py\u001b[0m in \u001b[0;36m__call__\u001b[0;34m(self, iterable)\u001b[0m\n\u001b[1;32m   1044\u001b[0m                 \u001b[0mself\u001b[0m\u001b[0;34m.\u001b[0m\u001b[0m_iterating\u001b[0m \u001b[0;34m=\u001b[0m \u001b[0mself\u001b[0m\u001b[0;34m.\u001b[0m\u001b[0m_original_iterator\u001b[0m \u001b[0;32mis\u001b[0m \u001b[0;32mnot\u001b[0m \u001b[0;32mNone\u001b[0m\u001b[0;34m\u001b[0m\u001b[0;34m\u001b[0m\u001b[0m\n\u001b[1;32m   1045\u001b[0m \u001b[0;34m\u001b[0m\u001b[0m\n\u001b[0;32m-> 1046\u001b[0;31m             \u001b[0;32mwhile\u001b[0m \u001b[0mself\u001b[0m\u001b[0;34m.\u001b[0m\u001b[0mdispatch_one_batch\u001b[0m\u001b[0;34m(\u001b[0m\u001b[0miterator\u001b[0m\u001b[0;34m)\u001b[0m\u001b[0;34m:\u001b[0m\u001b[0;34m\u001b[0m\u001b[0;34m\u001b[0m\u001b[0m\n\u001b[0m\u001b[1;32m   1047\u001b[0m                 \u001b[0;32mpass\u001b[0m\u001b[0;34m\u001b[0m\u001b[0;34m\u001b[0m\u001b[0m\n\u001b[1;32m   1048\u001b[0m \u001b[0;34m\u001b[0m\u001b[0m\n",
            "\u001b[0;32m/usr/local/lib/python3.7/dist-packages/joblib/parallel.py\u001b[0m in \u001b[0;36mdispatch_one_batch\u001b[0;34m(self, iterator)\u001b[0m\n\u001b[1;32m    859\u001b[0m                 \u001b[0;32mreturn\u001b[0m \u001b[0;32mFalse\u001b[0m\u001b[0;34m\u001b[0m\u001b[0;34m\u001b[0m\u001b[0m\n\u001b[1;32m    860\u001b[0m             \u001b[0;32melse\u001b[0m\u001b[0;34m:\u001b[0m\u001b[0;34m\u001b[0m\u001b[0;34m\u001b[0m\u001b[0m\n\u001b[0;32m--> 861\u001b[0;31m                 \u001b[0mself\u001b[0m\u001b[0;34m.\u001b[0m\u001b[0m_dispatch\u001b[0m\u001b[0;34m(\u001b[0m\u001b[0mtasks\u001b[0m\u001b[0;34m)\u001b[0m\u001b[0;34m\u001b[0m\u001b[0;34m\u001b[0m\u001b[0m\n\u001b[0m\u001b[1;32m    862\u001b[0m                 \u001b[0;32mreturn\u001b[0m \u001b[0;32mTrue\u001b[0m\u001b[0;34m\u001b[0m\u001b[0;34m\u001b[0m\u001b[0m\n\u001b[1;32m    863\u001b[0m \u001b[0;34m\u001b[0m\u001b[0m\n",
            "\u001b[0;32m/usr/local/lib/python3.7/dist-packages/joblib/parallel.py\u001b[0m in \u001b[0;36m_dispatch\u001b[0;34m(self, batch)\u001b[0m\n\u001b[1;32m    777\u001b[0m         \u001b[0;32mwith\u001b[0m \u001b[0mself\u001b[0m\u001b[0;34m.\u001b[0m\u001b[0m_lock\u001b[0m\u001b[0;34m:\u001b[0m\u001b[0;34m\u001b[0m\u001b[0;34m\u001b[0m\u001b[0m\n\u001b[1;32m    778\u001b[0m             \u001b[0mjob_idx\u001b[0m \u001b[0;34m=\u001b[0m \u001b[0mlen\u001b[0m\u001b[0;34m(\u001b[0m\u001b[0mself\u001b[0m\u001b[0;34m.\u001b[0m\u001b[0m_jobs\u001b[0m\u001b[0;34m)\u001b[0m\u001b[0;34m\u001b[0m\u001b[0;34m\u001b[0m\u001b[0m\n\u001b[0;32m--> 779\u001b[0;31m             \u001b[0mjob\u001b[0m \u001b[0;34m=\u001b[0m \u001b[0mself\u001b[0m\u001b[0;34m.\u001b[0m\u001b[0m_backend\u001b[0m\u001b[0;34m.\u001b[0m\u001b[0mapply_async\u001b[0m\u001b[0;34m(\u001b[0m\u001b[0mbatch\u001b[0m\u001b[0;34m,\u001b[0m \u001b[0mcallback\u001b[0m\u001b[0;34m=\u001b[0m\u001b[0mcb\u001b[0m\u001b[0;34m)\u001b[0m\u001b[0;34m\u001b[0m\u001b[0;34m\u001b[0m\u001b[0m\n\u001b[0m\u001b[1;32m    780\u001b[0m             \u001b[0;31m# A job can complete so quickly than its callback is\u001b[0m\u001b[0;34m\u001b[0m\u001b[0;34m\u001b[0m\u001b[0;34m\u001b[0m\u001b[0m\n\u001b[1;32m    781\u001b[0m             \u001b[0;31m# called before we get here, causing self._jobs to\u001b[0m\u001b[0;34m\u001b[0m\u001b[0;34m\u001b[0m\u001b[0;34m\u001b[0m\u001b[0m\n",
            "\u001b[0;32m/usr/local/lib/python3.7/dist-packages/joblib/_parallel_backends.py\u001b[0m in \u001b[0;36mapply_async\u001b[0;34m(self, func, callback)\u001b[0m\n\u001b[1;32m    206\u001b[0m     \u001b[0;32mdef\u001b[0m \u001b[0mapply_async\u001b[0m\u001b[0;34m(\u001b[0m\u001b[0mself\u001b[0m\u001b[0;34m,\u001b[0m \u001b[0mfunc\u001b[0m\u001b[0;34m,\u001b[0m \u001b[0mcallback\u001b[0m\u001b[0;34m=\u001b[0m\u001b[0;32mNone\u001b[0m\u001b[0;34m)\u001b[0m\u001b[0;34m:\u001b[0m\u001b[0;34m\u001b[0m\u001b[0;34m\u001b[0m\u001b[0m\n\u001b[1;32m    207\u001b[0m         \u001b[0;34m\"\"\"Schedule a func to be run\"\"\"\u001b[0m\u001b[0;34m\u001b[0m\u001b[0;34m\u001b[0m\u001b[0m\n\u001b[0;32m--> 208\u001b[0;31m         \u001b[0mresult\u001b[0m \u001b[0;34m=\u001b[0m \u001b[0mImmediateResult\u001b[0m\u001b[0;34m(\u001b[0m\u001b[0mfunc\u001b[0m\u001b[0;34m)\u001b[0m\u001b[0;34m\u001b[0m\u001b[0;34m\u001b[0m\u001b[0m\n\u001b[0m\u001b[1;32m    209\u001b[0m         \u001b[0;32mif\u001b[0m \u001b[0mcallback\u001b[0m\u001b[0;34m:\u001b[0m\u001b[0;34m\u001b[0m\u001b[0;34m\u001b[0m\u001b[0m\n\u001b[1;32m    210\u001b[0m             \u001b[0mcallback\u001b[0m\u001b[0;34m(\u001b[0m\u001b[0mresult\u001b[0m\u001b[0;34m)\u001b[0m\u001b[0;34m\u001b[0m\u001b[0;34m\u001b[0m\u001b[0m\n",
            "\u001b[0;32m/usr/local/lib/python3.7/dist-packages/joblib/_parallel_backends.py\u001b[0m in \u001b[0;36m__init__\u001b[0;34m(self, batch)\u001b[0m\n\u001b[1;32m    570\u001b[0m         \u001b[0;31m# Don't delay the application, to avoid keeping the input\u001b[0m\u001b[0;34m\u001b[0m\u001b[0;34m\u001b[0m\u001b[0;34m\u001b[0m\u001b[0m\n\u001b[1;32m    571\u001b[0m         \u001b[0;31m# arguments in memory\u001b[0m\u001b[0;34m\u001b[0m\u001b[0;34m\u001b[0m\u001b[0;34m\u001b[0m\u001b[0m\n\u001b[0;32m--> 572\u001b[0;31m         \u001b[0mself\u001b[0m\u001b[0;34m.\u001b[0m\u001b[0mresults\u001b[0m \u001b[0;34m=\u001b[0m \u001b[0mbatch\u001b[0m\u001b[0;34m(\u001b[0m\u001b[0;34m)\u001b[0m\u001b[0;34m\u001b[0m\u001b[0;34m\u001b[0m\u001b[0m\n\u001b[0m\u001b[1;32m    573\u001b[0m \u001b[0;34m\u001b[0m\u001b[0m\n\u001b[1;32m    574\u001b[0m     \u001b[0;32mdef\u001b[0m \u001b[0mget\u001b[0m\u001b[0;34m(\u001b[0m\u001b[0mself\u001b[0m\u001b[0;34m)\u001b[0m\u001b[0;34m:\u001b[0m\u001b[0;34m\u001b[0m\u001b[0;34m\u001b[0m\u001b[0m\n",
            "\u001b[0;32m/usr/local/lib/python3.7/dist-packages/joblib/parallel.py\u001b[0m in \u001b[0;36m__call__\u001b[0;34m(self)\u001b[0m\n\u001b[1;32m    261\u001b[0m         \u001b[0;32mwith\u001b[0m \u001b[0mparallel_backend\u001b[0m\u001b[0;34m(\u001b[0m\u001b[0mself\u001b[0m\u001b[0;34m.\u001b[0m\u001b[0m_backend\u001b[0m\u001b[0;34m,\u001b[0m \u001b[0mn_jobs\u001b[0m\u001b[0;34m=\u001b[0m\u001b[0mself\u001b[0m\u001b[0;34m.\u001b[0m\u001b[0m_n_jobs\u001b[0m\u001b[0;34m)\u001b[0m\u001b[0;34m:\u001b[0m\u001b[0;34m\u001b[0m\u001b[0;34m\u001b[0m\u001b[0m\n\u001b[1;32m    262\u001b[0m             return [func(*args, **kwargs)\n\u001b[0;32m--> 263\u001b[0;31m                     for func, args, kwargs in self.items]\n\u001b[0m\u001b[1;32m    264\u001b[0m \u001b[0;34m\u001b[0m\u001b[0m\n\u001b[1;32m    265\u001b[0m     \u001b[0;32mdef\u001b[0m \u001b[0m__reduce__\u001b[0m\u001b[0;34m(\u001b[0m\u001b[0mself\u001b[0m\u001b[0;34m)\u001b[0m\u001b[0;34m:\u001b[0m\u001b[0;34m\u001b[0m\u001b[0;34m\u001b[0m\u001b[0m\n",
            "\u001b[0;32m/usr/local/lib/python3.7/dist-packages/joblib/parallel.py\u001b[0m in \u001b[0;36m<listcomp>\u001b[0;34m(.0)\u001b[0m\n\u001b[1;32m    261\u001b[0m         \u001b[0;32mwith\u001b[0m \u001b[0mparallel_backend\u001b[0m\u001b[0;34m(\u001b[0m\u001b[0mself\u001b[0m\u001b[0;34m.\u001b[0m\u001b[0m_backend\u001b[0m\u001b[0;34m,\u001b[0m \u001b[0mn_jobs\u001b[0m\u001b[0;34m=\u001b[0m\u001b[0mself\u001b[0m\u001b[0;34m.\u001b[0m\u001b[0m_n_jobs\u001b[0m\u001b[0;34m)\u001b[0m\u001b[0;34m:\u001b[0m\u001b[0;34m\u001b[0m\u001b[0;34m\u001b[0m\u001b[0m\n\u001b[1;32m    262\u001b[0m             return [func(*args, **kwargs)\n\u001b[0;32m--> 263\u001b[0;31m                     for func, args, kwargs in self.items]\n\u001b[0m\u001b[1;32m    264\u001b[0m \u001b[0;34m\u001b[0m\u001b[0m\n\u001b[1;32m    265\u001b[0m     \u001b[0;32mdef\u001b[0m \u001b[0m__reduce__\u001b[0m\u001b[0;34m(\u001b[0m\u001b[0mself\u001b[0m\u001b[0;34m)\u001b[0m\u001b[0;34m:\u001b[0m\u001b[0;34m\u001b[0m\u001b[0;34m\u001b[0m\u001b[0m\n",
            "\u001b[0;32m/usr/local/lib/python3.7/dist-packages/sklearn/utils/fixes.py\u001b[0m in \u001b[0;36m__call__\u001b[0;34m(self, *args, **kwargs)\u001b[0m\n\u001b[1;32m    214\u001b[0m     \u001b[0;32mdef\u001b[0m \u001b[0m__call__\u001b[0m\u001b[0;34m(\u001b[0m\u001b[0mself\u001b[0m\u001b[0;34m,\u001b[0m \u001b[0;34m*\u001b[0m\u001b[0margs\u001b[0m\u001b[0;34m,\u001b[0m \u001b[0;34m**\u001b[0m\u001b[0mkwargs\u001b[0m\u001b[0;34m)\u001b[0m\u001b[0;34m:\u001b[0m\u001b[0;34m\u001b[0m\u001b[0;34m\u001b[0m\u001b[0m\n\u001b[1;32m    215\u001b[0m         \u001b[0;32mwith\u001b[0m \u001b[0mconfig_context\u001b[0m\u001b[0;34m(\u001b[0m\u001b[0;34m**\u001b[0m\u001b[0mself\u001b[0m\u001b[0;34m.\u001b[0m\u001b[0mconfig\u001b[0m\u001b[0;34m)\u001b[0m\u001b[0;34m:\u001b[0m\u001b[0;34m\u001b[0m\u001b[0;34m\u001b[0m\u001b[0m\n\u001b[0;32m--> 216\u001b[0;31m             \u001b[0;32mreturn\u001b[0m \u001b[0mself\u001b[0m\u001b[0;34m.\u001b[0m\u001b[0mfunction\u001b[0m\u001b[0;34m(\u001b[0m\u001b[0;34m*\u001b[0m\u001b[0margs\u001b[0m\u001b[0;34m,\u001b[0m \u001b[0;34m**\u001b[0m\u001b[0mkwargs\u001b[0m\u001b[0;34m)\u001b[0m\u001b[0;34m\u001b[0m\u001b[0;34m\u001b[0m\u001b[0m\n\u001b[0m\u001b[1;32m    217\u001b[0m \u001b[0;34m\u001b[0m\u001b[0m\n\u001b[1;32m    218\u001b[0m \u001b[0;34m\u001b[0m\u001b[0m\n",
            "\u001b[0;32m/usr/local/lib/python3.7/dist-packages/sklearn/ensemble/_forest.py\u001b[0m in \u001b[0;36m_parallel_build_trees\u001b[0;34m(tree, forest, X, y, sample_weight, tree_idx, n_trees, verbose, class_weight, n_samples_bootstrap)\u001b[0m\n\u001b[1;32m    183\u001b[0m             \u001b[0mcurr_sample_weight\u001b[0m \u001b[0;34m*=\u001b[0m \u001b[0mcompute_sample_weight\u001b[0m\u001b[0;34m(\u001b[0m\u001b[0;34m\"balanced\"\u001b[0m\u001b[0;34m,\u001b[0m \u001b[0my\u001b[0m\u001b[0;34m,\u001b[0m \u001b[0mindices\u001b[0m\u001b[0;34m=\u001b[0m\u001b[0mindices\u001b[0m\u001b[0;34m)\u001b[0m\u001b[0;34m\u001b[0m\u001b[0;34m\u001b[0m\u001b[0m\n\u001b[1;32m    184\u001b[0m \u001b[0;34m\u001b[0m\u001b[0m\n\u001b[0;32m--> 185\u001b[0;31m         \u001b[0mtree\u001b[0m\u001b[0;34m.\u001b[0m\u001b[0mfit\u001b[0m\u001b[0;34m(\u001b[0m\u001b[0mX\u001b[0m\u001b[0;34m,\u001b[0m \u001b[0my\u001b[0m\u001b[0;34m,\u001b[0m \u001b[0msample_weight\u001b[0m\u001b[0;34m=\u001b[0m\u001b[0mcurr_sample_weight\u001b[0m\u001b[0;34m,\u001b[0m \u001b[0mcheck_input\u001b[0m\u001b[0;34m=\u001b[0m\u001b[0;32mFalse\u001b[0m\u001b[0;34m)\u001b[0m\u001b[0;34m\u001b[0m\u001b[0;34m\u001b[0m\u001b[0m\n\u001b[0m\u001b[1;32m    186\u001b[0m     \u001b[0;32melse\u001b[0m\u001b[0;34m:\u001b[0m\u001b[0;34m\u001b[0m\u001b[0;34m\u001b[0m\u001b[0m\n\u001b[1;32m    187\u001b[0m         \u001b[0mtree\u001b[0m\u001b[0;34m.\u001b[0m\u001b[0mfit\u001b[0m\u001b[0;34m(\u001b[0m\u001b[0mX\u001b[0m\u001b[0;34m,\u001b[0m \u001b[0my\u001b[0m\u001b[0;34m,\u001b[0m \u001b[0msample_weight\u001b[0m\u001b[0;34m=\u001b[0m\u001b[0msample_weight\u001b[0m\u001b[0;34m,\u001b[0m \u001b[0mcheck_input\u001b[0m\u001b[0;34m=\u001b[0m\u001b[0;32mFalse\u001b[0m\u001b[0;34m)\u001b[0m\u001b[0;34m\u001b[0m\u001b[0;34m\u001b[0m\u001b[0m\n",
            "\u001b[0;32m/usr/local/lib/python3.7/dist-packages/sklearn/tree/_classes.py\u001b[0m in \u001b[0;36mfit\u001b[0;34m(self, X, y, sample_weight, check_input, X_idx_sorted)\u001b[0m\n\u001b[1;32m   1318\u001b[0m             \u001b[0msample_weight\u001b[0m\u001b[0;34m=\u001b[0m\u001b[0msample_weight\u001b[0m\u001b[0;34m,\u001b[0m\u001b[0;34m\u001b[0m\u001b[0;34m\u001b[0m\u001b[0m\n\u001b[1;32m   1319\u001b[0m             \u001b[0mcheck_input\u001b[0m\u001b[0;34m=\u001b[0m\u001b[0mcheck_input\u001b[0m\u001b[0;34m,\u001b[0m\u001b[0;34m\u001b[0m\u001b[0;34m\u001b[0m\u001b[0m\n\u001b[0;32m-> 1320\u001b[0;31m             \u001b[0mX_idx_sorted\u001b[0m\u001b[0;34m=\u001b[0m\u001b[0mX_idx_sorted\u001b[0m\u001b[0;34m,\u001b[0m\u001b[0;34m\u001b[0m\u001b[0;34m\u001b[0m\u001b[0m\n\u001b[0m\u001b[1;32m   1321\u001b[0m         )\n\u001b[1;32m   1322\u001b[0m         \u001b[0;32mreturn\u001b[0m \u001b[0mself\u001b[0m\u001b[0;34m\u001b[0m\u001b[0;34m\u001b[0m\u001b[0m\n",
            "\u001b[0;32m/usr/local/lib/python3.7/dist-packages/sklearn/tree/_classes.py\u001b[0m in \u001b[0;36mfit\u001b[0;34m(self, X, y, sample_weight, check_input, X_idx_sorted)\u001b[0m\n\u001b[1;32m    418\u001b[0m             )\n\u001b[1;32m    419\u001b[0m \u001b[0;34m\u001b[0m\u001b[0m\n\u001b[0;32m--> 420\u001b[0;31m         \u001b[0mbuilder\u001b[0m\u001b[0;34m.\u001b[0m\u001b[0mbuild\u001b[0m\u001b[0;34m(\u001b[0m\u001b[0mself\u001b[0m\u001b[0;34m.\u001b[0m\u001b[0mtree_\u001b[0m\u001b[0;34m,\u001b[0m \u001b[0mX\u001b[0m\u001b[0;34m,\u001b[0m \u001b[0my\u001b[0m\u001b[0;34m,\u001b[0m \u001b[0msample_weight\u001b[0m\u001b[0;34m)\u001b[0m\u001b[0;34m\u001b[0m\u001b[0;34m\u001b[0m\u001b[0m\n\u001b[0m\u001b[1;32m    421\u001b[0m \u001b[0;34m\u001b[0m\u001b[0m\n\u001b[1;32m    422\u001b[0m         \u001b[0;32mif\u001b[0m \u001b[0mself\u001b[0m\u001b[0;34m.\u001b[0m\u001b[0mn_outputs_\u001b[0m \u001b[0;34m==\u001b[0m \u001b[0;36m1\u001b[0m \u001b[0;32mand\u001b[0m \u001b[0mis_classifier\u001b[0m\u001b[0;34m(\u001b[0m\u001b[0mself\u001b[0m\u001b[0;34m)\u001b[0m\u001b[0;34m:\u001b[0m\u001b[0;34m\u001b[0m\u001b[0;34m\u001b[0m\u001b[0m\n",
            "\u001b[0;31mKeyboardInterrupt\u001b[0m: "
          ]
        }
      ]
    },
    {
      "cell_type": "code",
      "metadata": {
        "id": "XYrdo2CgTThM",
        "colab": {
          "base_uri": "https://localhost:8080/",
          "height": 183
        },
        "outputId": "352e909f-e88f-4df2-cb73-fb83691a3092"
      },
      "source": [
        "# Print cell\n",
        "print('check_rf', (np.sqrt(mean_squared_error(y_test, y_pred_RF))))"
      ],
      "execution_count": 73,
      "outputs": [
        {
          "output_type": "error",
          "ename": "NameError",
          "evalue": "ignored",
          "traceback": [
            "\u001b[0;31m---------------------------------------------------------------------------\u001b[0m",
            "\u001b[0;31mNameError\u001b[0m                                 Traceback (most recent call last)",
            "\u001b[0;32m<ipython-input-73-ecd86749bd51>\u001b[0m in \u001b[0;36m<module>\u001b[0;34m()\u001b[0m\n\u001b[1;32m      1\u001b[0m \u001b[0;31m# Print cell\u001b[0m\u001b[0;34m\u001b[0m\u001b[0;34m\u001b[0m\u001b[0;34m\u001b[0m\u001b[0m\n\u001b[0;32m----> 2\u001b[0;31m \u001b[0mprint\u001b[0m\u001b[0;34m(\u001b[0m\u001b[0;34m'check_rf'\u001b[0m\u001b[0;34m,\u001b[0m \u001b[0;34m(\u001b[0m\u001b[0mnp\u001b[0m\u001b[0;34m.\u001b[0m\u001b[0msqrt\u001b[0m\u001b[0;34m(\u001b[0m\u001b[0mmean_squared_error\u001b[0m\u001b[0;34m(\u001b[0m\u001b[0my_test\u001b[0m\u001b[0;34m,\u001b[0m \u001b[0my_pred_RF\u001b[0m\u001b[0;34m)\u001b[0m\u001b[0;34m)\u001b[0m\u001b[0;34m)\u001b[0m\u001b[0;34m)\u001b[0m\u001b[0;34m\u001b[0m\u001b[0;34m\u001b[0m\u001b[0m\n\u001b[0m",
            "\u001b[0;31mNameError\u001b[0m: name 'y_pred_RF' is not defined"
          ]
        }
      ]
    },
    {
      "cell_type": "markdown",
      "metadata": {
        "id": "-ywlOaie7wVF"
      },
      "source": [
        "## Almost halfway there :)\n",
        "\n",
        "Well done! Almost halfway there :)\n",
        "\n"
      ]
    },
    {
      "cell_type": "markdown",
      "metadata": {
        "id": "q_eSiS5ZbVjf"
      },
      "source": [
        "# Section 2 : Distributed Machine Learning with Spark (55 Points)\n",
        "\n",
        "Apache Spark ML is the machine learning library consisting of common learning algorithms and utilities, including classification, regression, clustering, collaborative filtering, dimensionality reduction, and underlying optimization primitives.\n",
        "\n",
        "Why Spark ML?\n",
        "\n",
        "Moving to the Big Data Era requires heavy iterative computations on very big datasets. Standard implementations of machine learning algorithms require very powerful machines to be able to run. Depending on high-end machines is not advantageous due to their high price and improper costs of scaling up. The idea of using distributed computing engines is to distribute the calculations to multiple low-end machines (commodity hardware) instead of a single high-end one. This definitely speeds up the learning phase and allows us to create better models.\n",
        "\n",
        "Read more about it with the python documentation [here](https://spark.apache.org/docs/latest/ml-guide.html)"
      ]
    },
    {
      "cell_type": "markdown",
      "metadata": {
        "id": "R4nyIijZhTXK"
      },
      "source": [
        "### Initializing Spark Connection - Boring setup stuff again\n"
      ]
    },
    {
      "cell_type": "code",
      "metadata": {
        "id": "G8RH4R771X6n",
        "colab": {
          "base_uri": "https://localhost:8080/"
        },
        "outputId": "4cf74cb4-8eef-45c9-92d9-3669e4ee5b92"
      },
      "source": [
        "!apt install libkrb5-dev\n",
        "!wget https://www-us.apache.org/dist/spark/spark-2.4.5/spark-2.4.5-bin-hadoop2.7.tgz\n",
        "!tar xf spark-2.4.5-bin-hadoop2.7.tgz\n",
        "!pip install findspark\n",
        "!pip install sparkmagic\n",
        "!pip install pyspark\n",
        "!pip install pyspark --user\n",
        "!pip install seaborn --user\n",
        "!pip install plotly --user\n",
        "!pip install imageio --user\n",
        "!pip install folium --user"
      ],
      "execution_count": 74,
      "outputs": [
        {
          "output_type": "stream",
          "name": "stdout",
          "text": [
            "Reading package lists... Done\n",
            "Building dependency tree       \n",
            "Reading state information... Done\n",
            "The following package was automatically installed and is no longer required:\n",
            "  libnvidia-common-470\n",
            "Use 'apt autoremove' to remove it.\n",
            "The following additional packages will be installed:\n",
            "  comerr-dev krb5-multidev libgssrpc4 libkadm5clnt-mit11 libkadm5srv-mit11\n",
            "  libkdb5-9\n",
            "Suggested packages:\n",
            "  doc-base krb5-doc krb5-user\n",
            "The following NEW packages will be installed:\n",
            "  comerr-dev krb5-multidev libgssrpc4 libkadm5clnt-mit11 libkadm5srv-mit11\n",
            "  libkdb5-9 libkrb5-dev\n",
            "0 upgraded, 7 newly installed, 0 to remove and 39 not upgraded.\n",
            "Need to get 349 kB of archives.\n",
            "After this operation, 1,992 kB of additional disk space will be used.\n",
            "Get:1 http://archive.ubuntu.com/ubuntu bionic-updates/main amd64 libgssrpc4 amd64 1.16-2ubuntu0.2 [54.4 kB]\n",
            "Get:2 http://archive.ubuntu.com/ubuntu bionic-updates/main amd64 libkdb5-9 amd64 1.16-2ubuntu0.2 [37.3 kB]\n",
            "Get:3 http://archive.ubuntu.com/ubuntu bionic-updates/main amd64 libkadm5srv-mit11 amd64 1.16-2ubuntu0.2 [49.7 kB]\n",
            "Get:4 http://archive.ubuntu.com/ubuntu bionic-updates/main amd64 libkadm5clnt-mit11 amd64 1.16-2ubuntu0.2 [38.0 kB]\n",
            "Get:5 http://archive.ubuntu.com/ubuntu bionic-updates/main amd64 comerr-dev amd64 2.1-1.44.1-1ubuntu1.3 [38.5 kB]\n",
            "Get:6 http://archive.ubuntu.com/ubuntu bionic-updates/main amd64 krb5-multidev amd64 1.16-2ubuntu0.2 [120 kB]\n",
            "Get:7 http://archive.ubuntu.com/ubuntu bionic-updates/main amd64 libkrb5-dev amd64 1.16-2ubuntu0.2 [11.7 kB]\n",
            "Fetched 349 kB in 1s (387 kB/s)\n",
            "Selecting previously unselected package libgssrpc4:amd64.\n",
            "(Reading database ... 155896 files and directories currently installed.)\n",
            "Preparing to unpack .../0-libgssrpc4_1.16-2ubuntu0.2_amd64.deb ...\n",
            "Unpacking libgssrpc4:amd64 (1.16-2ubuntu0.2) ...\n",
            "Selecting previously unselected package libkdb5-9:amd64.\n",
            "Preparing to unpack .../1-libkdb5-9_1.16-2ubuntu0.2_amd64.deb ...\n",
            "Unpacking libkdb5-9:amd64 (1.16-2ubuntu0.2) ...\n",
            "Selecting previously unselected package libkadm5srv-mit11:amd64.\n",
            "Preparing to unpack .../2-libkadm5srv-mit11_1.16-2ubuntu0.2_amd64.deb ...\n",
            "Unpacking libkadm5srv-mit11:amd64 (1.16-2ubuntu0.2) ...\n",
            "Selecting previously unselected package libkadm5clnt-mit11:amd64.\n",
            "Preparing to unpack .../3-libkadm5clnt-mit11_1.16-2ubuntu0.2_amd64.deb ...\n",
            "Unpacking libkadm5clnt-mit11:amd64 (1.16-2ubuntu0.2) ...\n",
            "Selecting previously unselected package comerr-dev:amd64.\n",
            "Preparing to unpack .../4-comerr-dev_2.1-1.44.1-1ubuntu1.3_amd64.deb ...\n",
            "Unpacking comerr-dev:amd64 (2.1-1.44.1-1ubuntu1.3) ...\n",
            "Selecting previously unselected package krb5-multidev:amd64.\n",
            "Preparing to unpack .../5-krb5-multidev_1.16-2ubuntu0.2_amd64.deb ...\n",
            "Unpacking krb5-multidev:amd64 (1.16-2ubuntu0.2) ...\n",
            "Selecting previously unselected package libkrb5-dev:amd64.\n",
            "Preparing to unpack .../6-libkrb5-dev_1.16-2ubuntu0.2_amd64.deb ...\n",
            "Unpacking libkrb5-dev:amd64 (1.16-2ubuntu0.2) ...\n",
            "Setting up libgssrpc4:amd64 (1.16-2ubuntu0.2) ...\n",
            "Setting up comerr-dev:amd64 (2.1-1.44.1-1ubuntu1.3) ...\n",
            "Setting up libkdb5-9:amd64 (1.16-2ubuntu0.2) ...\n",
            "Setting up libkadm5srv-mit11:amd64 (1.16-2ubuntu0.2) ...\n",
            "Setting up libkadm5clnt-mit11:amd64 (1.16-2ubuntu0.2) ...\n",
            "Setting up krb5-multidev:amd64 (1.16-2ubuntu0.2) ...\n",
            "Setting up libkrb5-dev:amd64 (1.16-2ubuntu0.2) ...\n",
            "Processing triggers for man-db (2.8.3-2ubuntu0.1) ...\n",
            "Processing triggers for libc-bin (2.27-3ubuntu1.3) ...\n",
            "/sbin/ldconfig.real: /usr/local/lib/python3.7/dist-packages/ideep4py/lib/libmkldnn.so.0 is not a symbolic link\n",
            "\n",
            "--2022-02-28 19:15:17--  https://www-us.apache.org/dist/spark/spark-2.4.5/spark-2.4.5-bin-hadoop2.7.tgz\n",
            "Resolving www-us.apache.org (www-us.apache.org)... failed: Name or service not known.\n",
            "wget: unable to resolve host address ‘www-us.apache.org’\n",
            "tar: spark-2.4.5-bin-hadoop2.7.tgz: Cannot open: No such file or directory\n",
            "tar: Error is not recoverable: exiting now\n",
            "Collecting findspark\n",
            "  Downloading findspark-2.0.1-py2.py3-none-any.whl (4.4 kB)\n",
            "Installing collected packages: findspark\n",
            "Successfully installed findspark-2.0.1\n",
            "Collecting sparkmagic\n",
            "  Downloading sparkmagic-0.19.1.tar.gz (43 kB)\n",
            "\u001b[K     |████████████████████████████████| 43 kB 739 kB/s \n",
            "\u001b[?25hCollecting hdijupyterutils>=0.6\n",
            "  Downloading hdijupyterutils-0.19.1.tar.gz (5.0 kB)\n",
            "Collecting autovizwidget>=0.6\n",
            "  Downloading autovizwidget-0.19.1.tar.gz (8.7 kB)\n",
            "Requirement already satisfied: ipython>=4.0.2 in /usr/local/lib/python3.7/dist-packages (from sparkmagic) (5.5.0)\n",
            "Collecting nose\n",
            "  Downloading nose-1.3.7-py3-none-any.whl (154 kB)\n",
            "\u001b[K     |████████████████████████████████| 154 kB 10.7 MB/s \n",
            "\u001b[?25hCollecting mock\n",
            "  Downloading mock-4.0.3-py3-none-any.whl (28 kB)\n",
            "Requirement already satisfied: pandas>=0.17.1 in /usr/local/lib/python3.7/dist-packages (from sparkmagic) (1.0.5)\n",
            "Requirement already satisfied: numpy in /usr/local/lib/python3.7/dist-packages (from sparkmagic) (1.21.5)\n",
            "Requirement already satisfied: requests in /usr/local/lib/python3.7/dist-packages (from sparkmagic) (2.23.0)\n",
            "Requirement already satisfied: ipykernel<6.0.0 in /usr/local/lib/python3.7/dist-packages (from sparkmagic) (4.10.1)\n",
            "Requirement already satisfied: ipywidgets>5.0.0 in /usr/local/lib/python3.7/dist-packages (from sparkmagic) (7.6.5)\n",
            "Requirement already satisfied: notebook>=4.2 in /usr/local/lib/python3.7/dist-packages (from sparkmagic) (5.3.1)\n",
            "Requirement already satisfied: tornado>=4 in /usr/local/lib/python3.7/dist-packages (from sparkmagic) (5.1.1)\n",
            "Collecting requests_kerberos>=0.8.0\n",
            "  Downloading requests_kerberos-0.14.0-py2.py3-none-any.whl (11 kB)\n",
            "Requirement already satisfied: plotly>=3 in /usr/local/lib/python3.7/dist-packages (from autovizwidget>=0.6->sparkmagic) (5.5.0)\n",
            "Requirement already satisfied: jupyter>=1 in /usr/local/lib/python3.7/dist-packages (from hdijupyterutils>=0.6->sparkmagic) (1.0.0)\n",
            "Requirement already satisfied: jupyter-client in /usr/local/lib/python3.7/dist-packages (from ipykernel<6.0.0->sparkmagic) (5.3.5)\n",
            "Requirement already satisfied: traitlets>=4.1.0 in /usr/local/lib/python3.7/dist-packages (from ipykernel<6.0.0->sparkmagic) (5.1.1)\n",
            "Requirement already satisfied: simplegeneric>0.8 in /usr/local/lib/python3.7/dist-packages (from ipython>=4.0.2->sparkmagic) (0.8.1)\n",
            "Requirement already satisfied: pickleshare in /usr/local/lib/python3.7/dist-packages (from ipython>=4.0.2->sparkmagic) (0.7.5)\n",
            "Requirement already satisfied: setuptools>=18.5 in /usr/local/lib/python3.7/dist-packages (from ipython>=4.0.2->sparkmagic) (57.4.0)\n",
            "Requirement already satisfied: decorator in /usr/local/lib/python3.7/dist-packages (from ipython>=4.0.2->sparkmagic) (4.4.2)\n",
            "Requirement already satisfied: pexpect in /usr/local/lib/python3.7/dist-packages (from ipython>=4.0.2->sparkmagic) (4.8.0)\n",
            "Requirement already satisfied: pygments in /usr/local/lib/python3.7/dist-packages (from ipython>=4.0.2->sparkmagic) (2.6.1)\n",
            "Requirement already satisfied: prompt-toolkit<2.0.0,>=1.0.4 in /usr/local/lib/python3.7/dist-packages (from ipython>=4.0.2->sparkmagic) (1.0.18)\n",
            "Requirement already satisfied: nbformat>=4.2.0 in /usr/local/lib/python3.7/dist-packages (from ipywidgets>5.0.0->sparkmagic) (5.1.3)\n",
            "Requirement already satisfied: widgetsnbextension~=3.5.0 in /usr/local/lib/python3.7/dist-packages (from ipywidgets>5.0.0->sparkmagic) (3.5.2)\n",
            "Requirement already satisfied: jupyterlab-widgets>=1.0.0 in /usr/local/lib/python3.7/dist-packages (from ipywidgets>5.0.0->sparkmagic) (1.0.2)\n",
            "Requirement already satisfied: ipython-genutils~=0.2.0 in /usr/local/lib/python3.7/dist-packages (from ipywidgets>5.0.0->sparkmagic) (0.2.0)\n",
            "Requirement already satisfied: nbconvert in /usr/local/lib/python3.7/dist-packages (from jupyter>=1->hdijupyterutils>=0.6->sparkmagic) (5.6.1)\n",
            "Requirement already satisfied: qtconsole in /usr/local/lib/python3.7/dist-packages (from jupyter>=1->hdijupyterutils>=0.6->sparkmagic) (5.2.2)\n",
            "Requirement already satisfied: jupyter-console in /usr/local/lib/python3.7/dist-packages (from jupyter>=1->hdijupyterutils>=0.6->sparkmagic) (5.2.0)\n",
            "Requirement already satisfied: jupyter-core in /usr/local/lib/python3.7/dist-packages (from nbformat>=4.2.0->ipywidgets>5.0.0->sparkmagic) (4.9.2)\n",
            "Requirement already satisfied: jsonschema!=2.5.0,>=2.4 in /usr/local/lib/python3.7/dist-packages (from nbformat>=4.2.0->ipywidgets>5.0.0->sparkmagic) (4.3.3)\n",
            "Requirement already satisfied: attrs>=17.4.0 in /usr/local/lib/python3.7/dist-packages (from jsonschema!=2.5.0,>=2.4->nbformat>=4.2.0->ipywidgets>5.0.0->sparkmagic) (21.4.0)\n",
            "Requirement already satisfied: typing-extensions in /usr/local/lib/python3.7/dist-packages (from jsonschema!=2.5.0,>=2.4->nbformat>=4.2.0->ipywidgets>5.0.0->sparkmagic) (3.10.0.2)\n",
            "Requirement already satisfied: importlib-metadata in /usr/local/lib/python3.7/dist-packages (from jsonschema!=2.5.0,>=2.4->nbformat>=4.2.0->ipywidgets>5.0.0->sparkmagic) (4.11.1)\n",
            "Requirement already satisfied: pyrsistent!=0.17.0,!=0.17.1,!=0.17.2,>=0.14.0 in /usr/local/lib/python3.7/dist-packages (from jsonschema!=2.5.0,>=2.4->nbformat>=4.2.0->ipywidgets>5.0.0->sparkmagic) (0.18.1)\n",
            "Requirement already satisfied: importlib-resources>=1.4.0 in /usr/local/lib/python3.7/dist-packages (from jsonschema!=2.5.0,>=2.4->nbformat>=4.2.0->ipywidgets>5.0.0->sparkmagic) (5.4.0)\n",
            "Requirement already satisfied: zipp>=3.1.0 in /usr/local/lib/python3.7/dist-packages (from importlib-resources>=1.4.0->jsonschema!=2.5.0,>=2.4->nbformat>=4.2.0->ipywidgets>5.0.0->sparkmagic) (3.7.0)\n",
            "Requirement already satisfied: Send2Trash in /usr/local/lib/python3.7/dist-packages (from notebook>=4.2->sparkmagic) (1.8.0)\n",
            "Requirement already satisfied: jinja2 in /usr/local/lib/python3.7/dist-packages (from notebook>=4.2->sparkmagic) (2.11.3)\n",
            "Requirement already satisfied: terminado>=0.8.1 in /usr/local/lib/python3.7/dist-packages (from notebook>=4.2->sparkmagic) (0.13.1)\n",
            "Requirement already satisfied: pyzmq>=13 in /usr/local/lib/python3.7/dist-packages (from jupyter-client->ipykernel<6.0.0->sparkmagic) (22.3.0)\n",
            "Requirement already satisfied: python-dateutil>=2.1 in /usr/local/lib/python3.7/dist-packages (from jupyter-client->ipykernel<6.0.0->sparkmagic) (2.8.2)\n",
            "Requirement already satisfied: pytz>=2017.2 in /usr/local/lib/python3.7/dist-packages (from pandas>=0.17.1->sparkmagic) (2018.9)\n",
            "Requirement already satisfied: tenacity>=6.2.0 in /usr/local/lib/python3.7/dist-packages (from plotly>=3->autovizwidget>=0.6->sparkmagic) (8.0.1)\n",
            "Requirement already satisfied: six in /usr/local/lib/python3.7/dist-packages (from plotly>=3->autovizwidget>=0.6->sparkmagic) (1.15.0)\n",
            "Requirement already satisfied: wcwidth in /usr/local/lib/python3.7/dist-packages (from prompt-toolkit<2.0.0,>=1.0.4->ipython>=4.0.2->sparkmagic) (0.2.5)\n",
            "Collecting pyspnego[kerberos]\n",
            "  Downloading pyspnego-0.5.0-py2.py3-none-any.whl (122 kB)\n",
            "\u001b[K     |████████████████████████████████| 122 kB 58.0 MB/s \n",
            "\u001b[?25hCollecting cryptography>=1.3\n",
            "  Downloading cryptography-36.0.1-cp36-abi3-manylinux_2_24_x86_64.whl (3.6 MB)\n",
            "\u001b[K     |████████████████████████████████| 3.6 MB 38.1 MB/s \n",
            "\u001b[?25hRequirement already satisfied: cffi>=1.12 in /usr/local/lib/python3.7/dist-packages (from cryptography>=1.3->requests_kerberos>=0.8.0->sparkmagic) (1.15.0)\n",
            "Requirement already satisfied: pycparser in /usr/local/lib/python3.7/dist-packages (from cffi>=1.12->cryptography>=1.3->requests_kerberos>=0.8.0->sparkmagic) (2.21)\n",
            "Requirement already satisfied: idna<3,>=2.5 in /usr/local/lib/python3.7/dist-packages (from requests->sparkmagic) (2.10)\n",
            "Requirement already satisfied: urllib3!=1.25.0,!=1.25.1,<1.26,>=1.21.1 in /usr/local/lib/python3.7/dist-packages (from requests->sparkmagic) (1.24.3)\n",
            "Requirement already satisfied: certifi>=2017.4.17 in /usr/local/lib/python3.7/dist-packages (from requests->sparkmagic) (2021.10.8)\n",
            "Requirement already satisfied: chardet<4,>=3.0.2 in /usr/local/lib/python3.7/dist-packages (from requests->sparkmagic) (3.0.4)\n",
            "Requirement already satisfied: ptyprocess in /usr/local/lib/python3.7/dist-packages (from terminado>=0.8.1->notebook>=4.2->sparkmagic) (0.7.0)\n",
            "Requirement already satisfied: MarkupSafe>=0.23 in /usr/local/lib/python3.7/dist-packages (from jinja2->notebook>=4.2->sparkmagic) (2.0.1)\n",
            "Requirement already satisfied: bleach in /usr/local/lib/python3.7/dist-packages (from nbconvert->jupyter>=1->hdijupyterutils>=0.6->sparkmagic) (4.1.0)\n",
            "Requirement already satisfied: testpath in /usr/local/lib/python3.7/dist-packages (from nbconvert->jupyter>=1->hdijupyterutils>=0.6->sparkmagic) (0.5.0)\n",
            "Requirement already satisfied: defusedxml in /usr/local/lib/python3.7/dist-packages (from nbconvert->jupyter>=1->hdijupyterutils>=0.6->sparkmagic) (0.7.1)\n",
            "Requirement already satisfied: pandocfilters>=1.4.1 in /usr/local/lib/python3.7/dist-packages (from nbconvert->jupyter>=1->hdijupyterutils>=0.6->sparkmagic) (1.5.0)\n",
            "Requirement already satisfied: mistune<2,>=0.8.1 in /usr/local/lib/python3.7/dist-packages (from nbconvert->jupyter>=1->hdijupyterutils>=0.6->sparkmagic) (0.8.4)\n",
            "Requirement already satisfied: entrypoints>=0.2.2 in /usr/local/lib/python3.7/dist-packages (from nbconvert->jupyter>=1->hdijupyterutils>=0.6->sparkmagic) (0.4)\n",
            "Requirement already satisfied: packaging in /usr/local/lib/python3.7/dist-packages (from bleach->nbconvert->jupyter>=1->hdijupyterutils>=0.6->sparkmagic) (21.3)\n",
            "Requirement already satisfied: webencodings in /usr/local/lib/python3.7/dist-packages (from bleach->nbconvert->jupyter>=1->hdijupyterutils>=0.6->sparkmagic) (0.5.1)\n",
            "Requirement already satisfied: pyparsing!=3.0.5,>=2.0.2 in /usr/local/lib/python3.7/dist-packages (from packaging->bleach->nbconvert->jupyter>=1->hdijupyterutils>=0.6->sparkmagic) (3.0.7)\n",
            "Collecting krb5>=0.3.0\n",
            "  Downloading krb5-0.3.0.tar.gz (1.7 MB)\n",
            "\u001b[K     |████████████████████████████████| 1.7 MB 42.5 MB/s \n",
            "\u001b[?25h  Installing build dependencies ... \u001b[?25l\u001b[?25hdone\n",
            "  Getting requirements to build wheel ... \u001b[?25l\u001b[?25hdone\n",
            "    Preparing wheel metadata ... \u001b[?25l\u001b[?25hdone\n",
            "Collecting gssapi>=1.5.0\n",
            "  Downloading gssapi-1.7.3.tar.gz (1.3 MB)\n",
            "\u001b[K     |████████████████████████████████| 1.3 MB 42.0 MB/s \n",
            "\u001b[?25hRequirement already satisfied: qtpy in /usr/local/lib/python3.7/dist-packages (from qtconsole->jupyter>=1->hdijupyterutils>=0.6->sparkmagic) (2.0.1)\n",
            "Building wheels for collected packages: sparkmagic, autovizwidget, hdijupyterutils, gssapi, krb5\n",
            "  Building wheel for sparkmagic (setup.py) ... \u001b[?25l\u001b[?25hdone\n",
            "  Created wheel for sparkmagic: filename=sparkmagic-0.19.1-py3-none-any.whl size=64701 sha256=b70568272d847bc5f08d3ac77c1131a53e21924d47df31aaf9ce643f1031f423\n",
            "  Stored in directory: /root/.cache/pip/wheels/77/00/d5/153197547803fa423ee3d0a7a1ff19f138cbcc385a5d11e0dd\n",
            "  Building wheel for autovizwidget (setup.py) ... \u001b[?25l\u001b[?25hdone\n",
            "  Created wheel for autovizwidget: filename=autovizwidget-0.19.1-py3-none-any.whl size=14544 sha256=17bb2a9974618c82db65c7d4fa46328028344842bad0ffa22e71eae667d048cf\n",
            "  Stored in directory: /root/.cache/pip/wheels/09/76/d9/ff313b7bd4ff55b1ff8c299f31889f525dc5129556853e1330\n",
            "  Building wheel for hdijupyterutils (setup.py) ... \u001b[?25l\u001b[?25hdone\n",
            "  Created wheel for hdijupyterutils: filename=hdijupyterutils-0.19.1-py3-none-any.whl size=7676 sha256=fedf903192cedf7286501ab1728d7aa19fae2110d1eb36c7ef9fe6af52e612ce\n",
            "  Stored in directory: /root/.cache/pip/wheels/18/64/eb/292698b4780fb4eed0d7521f8e8acac011eda244f368b88aa0\n",
            "  Building wheel for gssapi (setup.py) ... \u001b[?25l\u001b[?25hdone\n",
            "  Created wheel for gssapi: filename=gssapi-1.7.3-cp37-cp37m-linux_x86_64.whl size=2748795 sha256=6ca7ca3a9ce028b51a5279627e6608b1038fbc9fdb314fb051ce3cea0ff3992f\n",
            "  Stored in directory: /root/.cache/pip/wheels/39/98/00/50c2dc63e573ee6526a8a64017272d5ecaddcd66034430b88b\n",
            "  Building wheel for krb5 (PEP 517) ... \u001b[?25l\u001b[?25hdone\n",
            "  Created wheel for krb5: filename=krb5-0.3.0-cp37-cp37m-linux_x86_64.whl size=3073464 sha256=aa1efd939d13ee5df5a982877f67dfa1cb974f16f912df0c182be76ec4646928\n",
            "  Stored in directory: /root/.cache/pip/wheels/8d/9c/5b/c797df276a5e2d9fd6ffd544aade607a6edae4428c0b511093\n",
            "Successfully built sparkmagic autovizwidget hdijupyterutils gssapi krb5\n",
            "Installing collected packages: cryptography, pyspnego, nose, mock, krb5, gssapi, hdijupyterutils, requests-kerberos, autovizwidget, sparkmagic\n",
            "Successfully installed autovizwidget-0.19.1 cryptography-36.0.1 gssapi-1.7.3 hdijupyterutils-0.19.1 krb5-0.3.0 mock-4.0.3 nose-1.3.7 pyspnego-0.5.0 requests-kerberos-0.14.0 sparkmagic-0.19.1\n",
            "Requirement already satisfied: pyspark in /usr/local/lib/python3.7/dist-packages (3.2.1)\n",
            "Requirement already satisfied: py4j==0.10.9.3 in /usr/local/lib/python3.7/dist-packages (from pyspark) (0.10.9.3)\n",
            "Requirement already satisfied: pyspark in /usr/local/lib/python3.7/dist-packages (3.2.1)\n",
            "Requirement already satisfied: py4j==0.10.9.3 in /usr/local/lib/python3.7/dist-packages (from pyspark) (0.10.9.3)\n",
            "Requirement already satisfied: seaborn in /usr/local/lib/python3.7/dist-packages (0.11.2)\n",
            "Requirement already satisfied: matplotlib>=2.2 in /usr/local/lib/python3.7/dist-packages (from seaborn) (3.2.2)\n",
            "Requirement already satisfied: pandas>=0.23 in /usr/local/lib/python3.7/dist-packages (from seaborn) (1.0.5)\n",
            "Requirement already satisfied: numpy>=1.15 in /usr/local/lib/python3.7/dist-packages (from seaborn) (1.21.5)\n",
            "Requirement already satisfied: scipy>=1.0 in /usr/local/lib/python3.7/dist-packages (from seaborn) (1.4.1)\n",
            "Requirement already satisfied: pyparsing!=2.0.4,!=2.1.2,!=2.1.6,>=2.0.1 in /usr/local/lib/python3.7/dist-packages (from matplotlib>=2.2->seaborn) (3.0.7)\n",
            "Requirement already satisfied: python-dateutil>=2.1 in /usr/local/lib/python3.7/dist-packages (from matplotlib>=2.2->seaborn) (2.8.2)\n",
            "Requirement already satisfied: kiwisolver>=1.0.1 in /usr/local/lib/python3.7/dist-packages (from matplotlib>=2.2->seaborn) (1.3.2)\n",
            "Requirement already satisfied: cycler>=0.10 in /usr/local/lib/python3.7/dist-packages (from matplotlib>=2.2->seaborn) (0.11.0)\n",
            "Requirement already satisfied: pytz>=2017.2 in /usr/local/lib/python3.7/dist-packages (from pandas>=0.23->seaborn) (2018.9)\n",
            "Requirement already satisfied: six>=1.5 in /usr/local/lib/python3.7/dist-packages (from python-dateutil>=2.1->matplotlib>=2.2->seaborn) (1.15.0)\n",
            "Requirement already satisfied: plotly in /usr/local/lib/python3.7/dist-packages (5.5.0)\n",
            "Requirement already satisfied: tenacity>=6.2.0 in /usr/local/lib/python3.7/dist-packages (from plotly) (8.0.1)\n",
            "Requirement already satisfied: six in /usr/local/lib/python3.7/dist-packages (from plotly) (1.15.0)\n",
            "Requirement already satisfied: imageio in /usr/local/lib/python3.7/dist-packages (2.4.1)\n",
            "Requirement already satisfied: numpy in /usr/local/lib/python3.7/dist-packages (from imageio) (1.21.5)\n",
            "Requirement already satisfied: pillow in /usr/local/lib/python3.7/dist-packages (from imageio) (7.1.2)\n",
            "Requirement already satisfied: folium in /usr/local/lib/python3.7/dist-packages (0.8.3)\n",
            "Requirement already satisfied: numpy in /usr/local/lib/python3.7/dist-packages (from folium) (1.21.5)\n",
            "Requirement already satisfied: requests in /usr/local/lib/python3.7/dist-packages (from folium) (2.23.0)\n",
            "Requirement already satisfied: jinja2 in /usr/local/lib/python3.7/dist-packages (from folium) (2.11.3)\n",
            "Requirement already satisfied: six in /usr/local/lib/python3.7/dist-packages (from folium) (1.15.0)\n",
            "Requirement already satisfied: branca>=0.3.0 in /usr/local/lib/python3.7/dist-packages (from folium) (0.4.2)\n",
            "Requirement already satisfied: MarkupSafe>=0.23 in /usr/local/lib/python3.7/dist-packages (from jinja2->folium) (2.0.1)\n",
            "Requirement already satisfied: chardet<4,>=3.0.2 in /usr/local/lib/python3.7/dist-packages (from requests->folium) (3.0.4)\n",
            "Requirement already satisfied: idna<3,>=2.5 in /usr/local/lib/python3.7/dist-packages (from requests->folium) (2.10)\n",
            "Requirement already satisfied: urllib3!=1.25.0,!=1.25.1,<1.26,>=1.21.1 in /usr/local/lib/python3.7/dist-packages (from requests->folium) (1.24.3)\n",
            "Requirement already satisfied: certifi>=2017.4.17 in /usr/local/lib/python3.7/dist-packages (from requests->folium) (2021.10.8)\n"
          ]
        }
      ]
    },
    {
      "cell_type": "code",
      "metadata": {
        "id": "pNctzcXRkexY",
        "colab": {
          "base_uri": "https://localhost:8080/"
        },
        "outputId": "6e7a27e8-608f-4282-9d60-bf6260eb986b"
      },
      "source": [
        "!apt update\n",
        "!apt install gcc python-dev libkrb5-dev"
      ],
      "execution_count": 75,
      "outputs": [
        {
          "output_type": "stream",
          "name": "stdout",
          "text": [
            "\u001b[33m\r0% [Working]\u001b[0m\r            \rGet:1 http://security.ubuntu.com/ubuntu bionic-security InRelease [88.7 kB]\n",
            "\u001b[33m\r0% [Connecting to archive.ubuntu.com (91.189.88.152)] [1 InRelease 14.2 kB/88.7\u001b[0m\r                                                                               \rGet:2 https://cloud.r-project.org/bin/linux/ubuntu bionic-cran40/ InRelease [3,626 B]\n",
            "Ign:3 https://developer.download.nvidia.com/compute/cuda/repos/ubuntu1804/x86_64  InRelease\n",
            "Get:4 http://ppa.launchpad.net/c2d4u.team/c2d4u4.0+/ubuntu bionic InRelease [15.9 kB]\n",
            "Ign:5 https://developer.download.nvidia.com/compute/machine-learning/repos/ubuntu1804/x86_64  InRelease\n",
            "Get:6 https://developer.download.nvidia.com/compute/cuda/repos/ubuntu1804/x86_64  Release [696 B]\n",
            "Hit:7 http://archive.ubuntu.com/ubuntu bionic InRelease\n",
            "Hit:8 https://developer.download.nvidia.com/compute/machine-learning/repos/ubuntu1804/x86_64  Release\n",
            "Get:9 https://developer.download.nvidia.com/compute/cuda/repos/ubuntu1804/x86_64  Release.gpg [836 B]\n",
            "Get:10 http://archive.ubuntu.com/ubuntu bionic-updates InRelease [88.7 kB]\n",
            "Hit:11 http://ppa.launchpad.net/cran/libgit2/ubuntu bionic InRelease\n",
            "Get:12 http://archive.ubuntu.com/ubuntu bionic-backports InRelease [74.6 kB]\n",
            "Hit:13 http://ppa.launchpad.net/deadsnakes/ppa/ubuntu bionic InRelease\n",
            "Get:14 https://cloud.r-project.org/bin/linux/ubuntu bionic-cran40/ Packages [76.8 kB]\n",
            "Get:15 http://ppa.launchpad.net/graphics-drivers/ppa/ubuntu bionic InRelease [21.3 kB]\n",
            "Get:16 http://security.ubuntu.com/ubuntu bionic-security/universe amd64 Packages [1,474 kB]\n",
            "Get:17 http://security.ubuntu.com/ubuntu bionic-security/restricted amd64 Packages [806 kB]\n",
            "Get:18 http://security.ubuntu.com/ubuntu bionic-security/main amd64 Packages [2,596 kB]\n",
            "Get:20 https://developer.download.nvidia.com/compute/cuda/repos/ubuntu1804/x86_64  Packages [930 kB]\n",
            "Get:21 http://ppa.launchpad.net/c2d4u.team/c2d4u4.0+/ubuntu bionic/main Sources [1,827 kB]\n",
            "Get:22 http://ppa.launchpad.net/c2d4u.team/c2d4u4.0+/ubuntu bionic/main amd64 Packages [936 kB]\n",
            "Get:23 http://archive.ubuntu.com/ubuntu bionic-updates/universe amd64 Packages [2,252 kB]\n",
            "Get:24 http://archive.ubuntu.com/ubuntu bionic-updates/restricted amd64 Packages [840 kB]\n",
            "Get:25 http://archive.ubuntu.com/ubuntu bionic-updates/main amd64 Packages [3,035 kB]\n",
            "Get:26 http://ppa.launchpad.net/graphics-drivers/ppa/ubuntu bionic/main amd64 Packages [42.8 kB]\n",
            "Fetched 15.1 MB in 9s (1,701 kB/s)\n",
            "Reading package lists... Done\n",
            "Building dependency tree       \n",
            "Reading state information... Done\n",
            "69 packages can be upgraded. Run 'apt list --upgradable' to see them.\n",
            "Reading package lists... Done\n",
            "Building dependency tree       \n",
            "Reading state information... Done\n",
            "python-dev is already the newest version (2.7.15~rc1-1).\n",
            "gcc is already the newest version (4:7.4.0-1ubuntu2.3).\n",
            "gcc set to manually installed.\n",
            "libkrb5-dev is already the newest version (1.16-2ubuntu0.2).\n",
            "The following package was automatically installed and is no longer required:\n",
            "  libnvidia-common-470\n",
            "Use 'apt autoremove' to remove it.\n",
            "0 upgraded, 0 newly installed, 0 to remove and 69 not upgraded.\n"
          ]
        }
      ]
    },
    {
      "cell_type": "code",
      "metadata": {
        "id": "PP28kxLekWG7"
      },
      "source": [
        "from pyspark.sql import SparkSession\n",
        "from pyspark.sql.types import *\n",
        "import pyspark.sql.functions as F\n",
        "\n",
        "import os\n",
        "\n",
        "spark = SparkSession.builder.appName('CA-5').getOrCreate()\n"
      ],
      "execution_count": 76,
      "outputs": []
    },
    {
      "cell_type": "code",
      "metadata": {
        "id": "7Gm6aXPq1Ulc"
      },
      "source": [
        "%load_ext sparkmagic.magics"
      ],
      "execution_count": 77,
      "outputs": []
    },
    {
      "cell_type": "code",
      "metadata": {
        "id": "NiGROEgu1gfN"
      },
      "source": [
        "#graph section\n",
        "import networkx as nx\n",
        "# SQLite RDBMS\n",
        "import sqlite3\n",
        "# Parallel processing\n",
        "# import swifter\n",
        "import pandas as pd\n",
        "# NoSQL DB\n",
        "from pymongo import MongoClient\n",
        "from pymongo.errors import DuplicateKeyError, OperationFailure\n",
        "\n",
        "import os\n",
        "os.environ['SPARK_HOME'] = '/content/spark-2.4.5-bin-hadoop2.7'\n",
        "os.environ[\"JAVA_HOME\"] = \"/usr/lib/jvm/java-8-openjdk-amd64\"\n",
        "import pyspark\n",
        "from pyspark.sql import SQLContext"
      ],
      "execution_count": 78,
      "outputs": []
    },
    {
      "cell_type": "code",
      "metadata": {
        "id": "bF0xipwC1hme"
      },
      "source": [
        "try:\n",
        "    if(spark == None):\n",
        "        spark = SparkSession.builder.appName('Initial').getOrCreate()\n",
        "        sqlContext=SQLContext(spark)\n",
        "except NameError:\n",
        "    spark = SparkSession.builder.appName('Initial').getOrCreate()\n",
        "    sqlContext=SQLContext(spark)\n"
      ],
      "execution_count": 79,
      "outputs": []
    },
    {
      "cell_type": "markdown",
      "metadata": {
        "id": "cbj7zOGQW7A2"
      },
      "source": [
        "### 5.1 Data Preparation for Spark ML (20 points)\n",
        "\n",
        "Once the spark setup ready. Next, we need the prepared data for our ML algorithms. We will use the same data you processed in Section 1 but now in spark. \n",
        "\n",
        "Read in the csv  into a spark dataframe. Set the \"inferSchema\" flag to True so that the columns are the correct datatypes and not all strings. Further, set the parameter to the first row as column headers."
      ]
    },
    {
      "cell_type": "code",
      "metadata": {
        "id": "EFfs7q3P1KHX"
      },
      "source": [
        "# Add your code here\n",
        "\n",
        "train_sdf = spark.read.format('csv').options(header='true', inferSchema='true').load('combined_data.csv')"
      ],
      "execution_count": 80,
      "outputs": []
    },
    {
      "cell_type": "markdown",
      "metadata": {
        "id": "CbC1qlzhXd6L"
      },
      "source": [
        "Let us make sure everything is smooth to proceed"
      ]
    },
    {
      "cell_type": "code",
      "metadata": {
        "id": "sTb1GN4-1EXc",
        "colab": {
          "base_uri": "https://localhost:8080/",
          "height": 506
        },
        "outputId": "a3dd9d65-468d-4ada-a464-8162e7696c6d"
      },
      "source": [
        "display(train_sdf.show())"
      ],
      "execution_count": 81,
      "outputs": [
        {
          "output_type": "stream",
          "name": "stdout",
          "text": [
            "+-----------+-----------------+----------------+----------------------+------------------+------------------+------------------+------------------+--------+--------+---------+----------+----------+----------+----------+-------------------------+---------------+------------------+----------------------+-------------------------+---------------+----------------------+---------------+--------------+------------------------+------------------------------+-----------------------+-----------------------+-----------------------------+--------------+---------------+-----------------+------------------------+-----------------+-----------------+-----------------+-----------------+-----------------+-----------------+-----------------+\n",
            "|   video_id|comments_disabled|ratings_disabled|video_error_or_removed|         likes_log|             label|      dislikes_log|       comment_log|num_tags|desc_len|len_title|country_CA|country_FR|country_IN|country_US|category_Autos & Vehicles|category_Comedy|category_Education|category_Entertainment|category_Film & Animation|category_Gaming|category_Howto & Style|category_Movies|category_Music|category_News & Politics|category_Nonprofits & Activism|category_People & Blogs|category_Pets & Animals|category_Science & Technology|category_Shows|category_Sports|category_Trailers|category_Travel & Events|publish_weekday_1|publish_weekday_2|publish_weekday_3|publish_weekday_4|publish_weekday_5|publish_weekday_6|publish_weekday_7|\n",
            "+-----------+-----------------+----------------+----------------------+------------------+------------------+------------------+------------------+--------+--------+---------+----------+----------+----------+----------+-------------------------+---------------+------------------+----------------------+-------------------------+---------------+----------------------+---------------+--------------+------------------------+------------------------------+-----------------------+-----------------------+-----------------------------+--------------+---------------+-----------------+------------------------+-----------------+-----------------+-----------------+-----------------+-----------------+-----------------+-----------------+\n",
            "|kzwfHumJyYc|            false|           false|                 false|10.433144744037243|13.907476971790734| 6.683360945766275|  6.78332520060396|      15|     920|       81|         0|         0|         1|         0|                        0|              0|                 0|                     0|                        1|              0|                     0|              0|             0|                       0|                             0|                      0|                      0|                            0|             0|              0|                0|                       0|                0|                0|                0|                0|                0|                0|                1|\n",
            "|zUZ1z7FwLc8|             true|           false|                 false| 6.601230118728877|13.288050682295575| 6.807934943699926|               0.0|      19|    2232|       58|         0|         0|         1|         0|                        0|              0|                 0|                     0|                        0|              0|                     0|              0|             0|                       1|                             0|                      0|                      0|                            0|             0|              0|                0|                       0|                1|                0|                0|                0|                0|                0|                0|\n",
            "|10L1hZ9qa58|            false|           false|                 false|  7.60688453121963|13.068939393656878| 5.497168225293202|5.0106352940962555|      14|     482|       58|         0|         0|         1|         0|                        0|              0|                 0|                     1|                        0|              0|                     0|              0|             0|                       0|                             0|                      0|                      0|                            0|             0|              0|                0|                       0|                0|                0|                0|                0|                0|                0|                1|\n",
            "|N1vE8iiEg64|            false|           false|                 false| 11.16129491949047|14.032781700387753| 7.393263094763838| 7.895436006942965|      20|     263|       30|         0|         0|         1|         0|                        0|              1|                 0|                     0|                        0|              0|                     0|              0|             0|                       0|                             0|                      0|                      0|                            0|             0|              0|                0|                       0|                0|                0|                0|                0|                0|                0|                1|\n",
            "|kJzGH0PVQHQ|            false|           false|                 false|  6.20050917404269|13.047674313372497| 5.683579767338681| 4.204692619390966|      11|     753|       88|         0|         0|         1|         0|                        0|              0|                 0|                     1|                        0|              0|                     0|              0|             0|                       0|                             0|                      0|                      0|                            0|             0|              0|                0|                       0|                1|                0|                0|                0|                0|                0|                0|\n",
            "|il_pSa5l98w|            false|           false|                 false|11.498958377741612|15.624892174393528| 8.339500903005945|  8.46884293047519|      22|     449|       91|         0|         0|         1|         0|                        0|              0|                 0|                     1|                        0|              0|                     0|              0|             0|                       0|                             0|                      0|                      0|                            0|             0|              0|                0|                       0|                0|                0|                0|                0|                1|                0|                0|\n",
            "|7MxiQ4v0EnE|            false|           false|                 false|11.755699079672715|15.559263780679146| 8.872767529910936|  8.99516499031115|      18|    1411|       96|         0|         0|         1|         0|                        0|              0|                 0|                     0|                        0|              0|                     0|              0|             1|                       0|                             0|                      0|                      0|                            0|             0|              0|                0|                       0|                0|                0|                0|                0|                0|                1|                0|\n",
            "|c64I9HNpiOY|            false|           false|                 false|11.796140073147356| 16.17526697582603|  9.08398318309966| 9.291736010180177|      26|    1299|       96|         0|         0|         1|         0|                        0|              0|                 0|                     0|                        0|              0|                     0|              0|             1|                       0|                             0|                      0|                      0|                            0|             0|              0|                0|                       0|                0|                0|                0|                0|                0|                1|                0|\n",
            "|KObFEYCaRx8|            false|           false|                 false| 6.255750041753367| 11.68033640902843|3.9889840465642745|3.1780538303479458|      21|     509|       97|         0|         0|         1|         0|                        0|              0|                 0|                     1|                        0|              0|                     0|              0|             0|                       0|                             0|                      0|                      0|                            0|             0|              0|                0|                       0|                1|                0|                0|                0|                0|                0|                0|\n",
            "|g8QsfJhFpjY|            false|           false|                 false|10.998744217390875|13.784051882105244| 7.343426229147367| 7.785305182539862|      23|     477|       34|         0|         0|         1|         0|                        0|              0|                 0|                     1|                        0|              0|                     0|              0|             0|                       0|                             0|                      0|                      0|                            0|             0|              0|                0|                       0|                0|                0|                0|                0|                0|                0|                1|\n",
            "|4du1KXBl4YU|            false|           false|                 false| 8.373553741214627| 13.35782751759637| 7.688913336864796| 7.962067308753666|      23|      99|       78|         0|         0|         1|         0|                        0|              0|                 0|                     1|                        0|              0|                     0|              0|             0|                       0|                             0|                      0|                      0|                            0|             0|              0|                0|                       0|                0|                0|                0|                0|                0|                0|                1|\n",
            "|zOOmEDwPJX0|            false|           false|                 false|10.399250298625073|14.669120455465158| 6.566672429803241| 7.463936604468925|      22|    2093|       83|         0|         0|         1|         0|                        0|              0|                 0|                     0|                        0|              0|                     0|              0|             1|                       0|                             0|                      0|                      0|                            0|             0|              0|                0|                       0|                0|                0|                0|                0|                0|                1|                0|\n",
            "|Prb_osSVE0M|             true|           false|                 false|  6.57507584059962| 11.95816241638283|3.9889840465642745|               0.0|      20|     858|       85|         0|         0|         1|         0|                        0|              0|                 0|                     0|                        0|              0|                     0|              0|             0|                       1|                             0|                      0|                      0|                            0|             0|              0|                0|                       0|                1|                0|                0|                0|                0|                0|                0|\n",
            "|KHxdrECEsD0|            false|           false|                 false| 7.867871490396322|13.065610998767987|5.5254529391317835|5.1647859739235145|      12|    1351|       92|         0|         0|         1|         0|                        0|              0|                 0|                     1|                        0|              0|                     0|              0|             0|                       0|                             0|                      0|                      0|                            0|             0|              0|                0|                       0|                0|                0|                0|                0|                0|                1|                0|\n",
            "|so0ccfs-psI|            false|           false|                 false| 10.10483529147988|13.636392265237525| 5.198497031265826|  6.38856140554563|      25|    2387|       88|         0|         0|         1|         0|                        0|              0|                 0|                     0|                        0|              0|                     0|              0|             1|                       0|                             0|                      0|                      0|                            0|             0|              0|                0|                       0|                0|                0|                0|                0|                0|                0|                1|\n",
            "|7gShaSuK_PY|            false|           false|                 false| 5.476463551931511|11.402351382259514|   4.0943445622221|2.9444389791664403|      28|     171|       85|         0|         0|         1|         0|                        0|              0|                 0|                     0|                        0|              0|                     0|              0|             0|                       0|                             0|                      1|                      0|                            0|             0|              0|                0|                       0|                1|                0|                0|                0|                0|                0|                0|\n",
            "|ep3SLMuRbvg|            false|           false|                 false|10.154946414830384|12.749982887372441| 6.035481432524756| 7.962415680121064|      11|     248|       35|         0|         0|         1|         0|                        0|              1|                 0|                     0|                        0|              0|                     0|              0|             0|                       0|                             0|                      0|                      0|                            0|             0|              0|                0|                       0|                1|                0|                0|                0|                0|                0|                0|\n",
            "|ePO5M5DE01I|            false|           false|                 false|13.628413215237485|  17.3958509780565| 11.02183710688727|11.524043430704076|      22|     901|       63|         0|         0|         1|         0|                        0|              0|                 0|                     0|                        1|              0|                     0|              0|             0|                       0|                             0|                      0|                      0|                            0|             0|              0|                0|                       0|                0|                1|                0|                0|                0|                0|                0|\n",
            "|CLl1RbxDRAs|            false|           false|                 false| 9.551871220788255|12.252956231429025|6.1070228877422545|  7.00850518208228|      30|     201|       68|         0|         0|         1|         0|                        0|              1|                 0|                     0|                        0|              0|                     0|              0|             0|                       0|                             0|                      0|                      0|                            0|             0|              0|                0|                       0|                0|                0|                0|                0|                0|                0|                1|\n",
            "|1ZAPwfrtAFY|            false|           false|                 false|11.484402526036991|14.698775492508977|  8.72371943690701| 9.449672183486918|       4|     630|       62|         0|         0|         1|         0|                        0|              0|                 0|                     1|                        0|              0|                     0|              0|             0|                       0|                             0|                      0|                      0|                            0|             0|              0|                0|                       0|                1|                0|                0|                0|                0|                0|                0|\n",
            "+-----------+-----------------+----------------+----------------------+------------------+------------------+------------------+------------------+--------+--------+---------+----------+----------+----------+----------+-------------------------+---------------+------------------+----------------------+-------------------------+---------------+----------------------+---------------+--------------+------------------------+------------------------------+-----------------------+-----------------------+-----------------------------+--------------+---------------+-----------------+------------------------+-----------------+-----------------+-----------------+-----------------+-----------------+-----------------+-----------------+\n",
            "only showing top 20 rows\n",
            "\n"
          ]
        },
        {
          "output_type": "display_data",
          "data": {
            "text/plain": [
              "None"
            ]
          },
          "metadata": {}
        }
      ]
    },
    {
      "cell_type": "markdown",
      "metadata": {
        "id": "NFWmORJ8XhX_"
      },
      "source": [
        "Print out the dataframe schema and verify the datatypes"
      ]
    },
    {
      "cell_type": "code",
      "metadata": {
        "id": "22b4aWjueZuO",
        "colab": {
          "base_uri": "https://localhost:8080/",
          "height": 763
        },
        "outputId": "798c3fc1-8824-4ee6-a092-ca364b390dc0"
      },
      "source": [
        "#Task: Print the dataframe schema and verify\n",
        "# Add your code here\n",
        "display(train_sdf.printSchema())"
      ],
      "execution_count": 82,
      "outputs": [
        {
          "output_type": "stream",
          "name": "stdout",
          "text": [
            "root\n",
            " |-- video_id: string (nullable = true)\n",
            " |-- comments_disabled: boolean (nullable = true)\n",
            " |-- ratings_disabled: boolean (nullable = true)\n",
            " |-- video_error_or_removed: boolean (nullable = true)\n",
            " |-- likes_log: double (nullable = true)\n",
            " |-- label: double (nullable = true)\n",
            " |-- dislikes_log: double (nullable = true)\n",
            " |-- comment_log: double (nullable = true)\n",
            " |-- num_tags: integer (nullable = true)\n",
            " |-- desc_len: integer (nullable = true)\n",
            " |-- len_title: integer (nullable = true)\n",
            " |-- country_CA: integer (nullable = true)\n",
            " |-- country_FR: integer (nullable = true)\n",
            " |-- country_IN: integer (nullable = true)\n",
            " |-- country_US: integer (nullable = true)\n",
            " |-- category_Autos & Vehicles: integer (nullable = true)\n",
            " |-- category_Comedy: integer (nullable = true)\n",
            " |-- category_Education: integer (nullable = true)\n",
            " |-- category_Entertainment: integer (nullable = true)\n",
            " |-- category_Film & Animation: integer (nullable = true)\n",
            " |-- category_Gaming: integer (nullable = true)\n",
            " |-- category_Howto & Style: integer (nullable = true)\n",
            " |-- category_Movies: integer (nullable = true)\n",
            " |-- category_Music: integer (nullable = true)\n",
            " |-- category_News & Politics: integer (nullable = true)\n",
            " |-- category_Nonprofits & Activism: integer (nullable = true)\n",
            " |-- category_People & Blogs: integer (nullable = true)\n",
            " |-- category_Pets & Animals: integer (nullable = true)\n",
            " |-- category_Science & Technology: integer (nullable = true)\n",
            " |-- category_Shows: integer (nullable = true)\n",
            " |-- category_Sports: integer (nullable = true)\n",
            " |-- category_Trailers: integer (nullable = true)\n",
            " |-- category_Travel & Events: integer (nullable = true)\n",
            " |-- publish_weekday_1: integer (nullable = true)\n",
            " |-- publish_weekday_2: integer (nullable = true)\n",
            " |-- publish_weekday_3: integer (nullable = true)\n",
            " |-- publish_weekday_4: integer (nullable = true)\n",
            " |-- publish_weekday_5: integer (nullable = true)\n",
            " |-- publish_weekday_6: integer (nullable = true)\n",
            " |-- publish_weekday_7: integer (nullable = true)\n",
            "\n"
          ]
        },
        {
          "output_type": "display_data",
          "data": {
            "text/plain": [
              "None"
            ]
          },
          "metadata": {}
        }
      ]
    },
    {
      "cell_type": "markdown",
      "metadata": {
        "id": "fJ34pkSeXn3G"
      },
      "source": [
        "Now, we have the processed data in hand. Next for the Spark ML, we need to create a feature column that has all features concatenated and a single column for labels.\n",
        "\n",
        "You can use VectorAssembler() to create a feature vector from all categorical and numerical features. Let us call the call the final vector as “features”.\n",
        "\n",
        "Now, list all columns in the data and store it in a list named 'all_columns'\n"
      ]
    },
    {
      "cell_type": "code",
      "metadata": {
        "id": "HwWWc_0Ttyg4"
      },
      "source": [
        "from pyspark.ml.feature import StringIndexer, VectorAssembler"
      ],
      "execution_count": 83,
      "outputs": []
    },
    {
      "cell_type": "code",
      "metadata": {
        "id": "XIcLnx7bt7Q8"
      },
      "source": [
        "# Add your code here\n",
        "all_columns =train_sdf.columns"
      ],
      "execution_count": 84,
      "outputs": []
    },
    {
      "cell_type": "markdown",
      "metadata": {
        "id": "BqiuAgWxh2yv"
      },
      "source": [
        "Now create a list of columns which you don't wan't to include in your features, i.e., the labels and probably other columns which are not useful for the machine learning model. Let us call this list drop_columns."
      ]
    },
    {
      "cell_type": "code",
      "metadata": {
        "id": "B-_2Tsy5uzIo"
      },
      "source": [
        "# Add your code here\n",
        "drop_columns = ['video_id','label']"
      ],
      "execution_count": 85,
      "outputs": []
    },
    {
      "cell_type": "code",
      "metadata": {
        "id": "GWgiDQuciHKt"
      },
      "source": [
        "columns_to_use = [i for i in all_columns if i not in drop_columns]"
      ],
      "execution_count": 86,
      "outputs": []
    },
    {
      "cell_type": "markdown",
      "metadata": {
        "id": "V4kOg6TWiOcm"
      },
      "source": [
        "Now create a VectorAssembler object with columns you want to use for the ML models. Let us Name the output column as 'features'. These are the features that you will use later.  Let us name the vector assembler object 'assembler'"
      ]
    },
    {
      "cell_type": "code",
      "metadata": {
        "id": "cPl796SvpvoU"
      },
      "source": [
        "# Add your code\n",
        "assembler = VectorAssembler(inputCols=columns_to_use, outputCol='features')"
      ],
      "execution_count": 87,
      "outputs": []
    },
    {
      "cell_type": "code",
      "metadata": {
        "id": "5LlUa9NRQMOT",
        "colab": {
          "base_uri": "https://localhost:8080/"
        },
        "outputId": "7f2b4a31-c621-46e9-d50d-3a9aa9d08271"
      },
      "source": [
        "# Print assember stats\n",
        "print('stat_assembler', (str(assembler.params), columns_to_use))"
      ],
      "execution_count": 88,
      "outputs": [
        {
          "output_type": "stream",
          "name": "stdout",
          "text": [
            "stat_assembler ('[Param(parent=\\'VectorAssembler_e8c7c9bdc784\\', name=\\'handleInvalid\\', doc=\"How to handle invalid data (NULL and NaN values). Options are \\'skip\\' (filter out rows with invalid data), \\'error\\' (throw an error), or \\'keep\\' (return relevant number of NaN in the output). Column lengths are taken from the size of ML Attribute Group, which can be set using `VectorSizeHint` in a pipeline before `VectorAssembler`. Column lengths can also be inferred from first rows of the data since it is safe to do so but only in case of \\'error\\' or \\'skip\\').\"), Param(parent=\\'VectorAssembler_e8c7c9bdc784\\', name=\\'inputCols\\', doc=\\'input column names.\\'), Param(parent=\\'VectorAssembler_e8c7c9bdc784\\', name=\\'outputCol\\', doc=\\'output column name.\\')]', ['comments_disabled', 'ratings_disabled', 'video_error_or_removed', 'likes_log', 'dislikes_log', 'comment_log', 'num_tags', 'desc_len', 'len_title', 'country_CA', 'country_FR', 'country_IN', 'country_US', 'category_Autos & Vehicles', 'category_Comedy', 'category_Education', 'category_Entertainment', 'category_Film & Animation', 'category_Gaming', 'category_Howto & Style', 'category_Movies', 'category_Music', 'category_News & Politics', 'category_Nonprofits & Activism', 'category_People & Blogs', 'category_Pets & Animals', 'category_Science & Technology', 'category_Shows', 'category_Sports', 'category_Trailers', 'category_Travel & Events', 'publish_weekday_1', 'publish_weekday_2', 'publish_weekday_3', 'publish_weekday_4', 'publish_weekday_5', 'publish_weekday_6', 'publish_weekday_7'])\n"
          ]
        }
      ]
    },
    {
      "cell_type": "markdown",
      "metadata": {
        "id": "X7_HC7cTif1k"
      },
      "source": [
        "Now, we are ready to create a pipeline with different stages.  For out data so far, we just a single stage with the assember, however, you could have other stages  before that where you perform operations on the data, e.g, transforming categorical strings to numeric values or feature scaling operations.\n",
        "\n",
        "In this step, we will create a pipeline with a single stage - the assembler. Fit the pipeline to your data and create the transformed dataframe and name it 'modified_data_sdf'."
      ]
    },
    {
      "cell_type": "code",
      "metadata": {
        "id": "iuO1Mu9IvTEz",
        "colab": {
          "base_uri": "https://localhost:8080/",
          "height": 486
        },
        "outputId": "2176df67-42ff-4f59-e51c-c0c716affe30"
      },
      "source": [
        "from pyspark.ml import Pipeline\n",
        "# Add your code here\n",
        "pipeline = Pipeline(stages=[assembler])\n",
        "modified_data_sdf = pipeline.fit(train_sdf).transform(train_sdf).drop(*columns_to_use)\n",
        "display(modified_data_sdf.show())"
      ],
      "execution_count": 89,
      "outputs": [
        {
          "output_type": "stream",
          "name": "stdout",
          "text": [
            "+-----------+------------------+--------------------+\n",
            "|   video_id|             label|            features|\n",
            "+-----------+------------------+--------------------+\n",
            "|kzwfHumJyYc|13.907476971790734|(38,[3,4,5,6,7,8,...|\n",
            "|zUZ1z7FwLc8|13.288050682295575|(38,[0,3,4,6,7,8,...|\n",
            "|10L1hZ9qa58|13.068939393656878|(38,[3,4,5,6,7,8,...|\n",
            "|N1vE8iiEg64|14.032781700387753|(38,[3,4,5,6,7,8,...|\n",
            "|kJzGH0PVQHQ|13.047674313372497|(38,[3,4,5,6,7,8,...|\n",
            "|il_pSa5l98w|15.624892174393528|(38,[3,4,5,6,7,8,...|\n",
            "|7MxiQ4v0EnE|15.559263780679146|(38,[3,4,5,6,7,8,...|\n",
            "|c64I9HNpiOY| 16.17526697582603|(38,[3,4,5,6,7,8,...|\n",
            "|KObFEYCaRx8| 11.68033640902843|(38,[3,4,5,6,7,8,...|\n",
            "|g8QsfJhFpjY|13.784051882105244|(38,[3,4,5,6,7,8,...|\n",
            "|4du1KXBl4YU| 13.35782751759637|(38,[3,4,5,6,7,8,...|\n",
            "|zOOmEDwPJX0|14.669120455465158|(38,[3,4,5,6,7,8,...|\n",
            "|Prb_osSVE0M| 11.95816241638283|(38,[0,3,4,6,7,8,...|\n",
            "|KHxdrECEsD0|13.065610998767987|(38,[3,4,5,6,7,8,...|\n",
            "|so0ccfs-psI|13.636392265237525|(38,[3,4,5,6,7,8,...|\n",
            "|7gShaSuK_PY|11.402351382259514|(38,[3,4,5,6,7,8,...|\n",
            "|ep3SLMuRbvg|12.749982887372441|(38,[3,4,5,6,7,8,...|\n",
            "|ePO5M5DE01I|  17.3958509780565|(38,[3,4,5,6,7,8,...|\n",
            "|CLl1RbxDRAs|12.252956231429025|(38,[3,4,5,6,7,8,...|\n",
            "|1ZAPwfrtAFY|14.698775492508977|(38,[3,4,5,6,7,8,...|\n",
            "+-----------+------------------+--------------------+\n",
            "only showing top 20 rows\n",
            "\n"
          ]
        },
        {
          "output_type": "display_data",
          "data": {
            "text/plain": [
              "None"
            ]
          },
          "metadata": {}
        }
      ]
    },
    {
      "cell_type": "code",
      "metadata": {
        "id": "KwlFEWKwXbRd",
        "colab": {
          "base_uri": "https://localhost:8080/"
        },
        "outputId": "0c2927b6-2a39-4168-c41e-3001ff3d0616"
      },
      "source": [
        "#Print results\n",
        "pipeline_stat = pd.DataFrame(modified_data_sdf.take(5), columns=modified_data_sdf.columns)\n",
        "print('check_pipeline', (pipeline_stat.columns.values, pipeline_stat['features'][0].size))"
      ],
      "execution_count": 90,
      "outputs": [
        {
          "output_type": "stream",
          "name": "stdout",
          "text": [
            "check_pipeline (array(['video_id', 'label', 'features'], dtype=object), 38)\n"
          ]
        }
      ]
    },
    {
      "cell_type": "markdown",
      "metadata": {
        "id": "0TKEQEDkxFGf"
      },
      "source": [
        "Now that we have the required data in the right format, Let us create our train and test sets. Let us, split into an 80-20 ratio between the train and test sets. Name these 'train_sdf' and 'test_sdf'"
      ]
    },
    {
      "cell_type": "code",
      "metadata": {
        "id": "Jn4_0RHHxEYm"
      },
      "source": [
        "# Add your code here\n",
        "train_sdf, test_sdf = modified_data_sdf.randomSplit([0.8, 0.2], seed = 2021)"
      ],
      "execution_count": 91,
      "outputs": []
    },
    {
      "cell_type": "code",
      "metadata": {
        "id": "TkvrG1lMbe9_",
        "colab": {
          "base_uri": "https://localhost:8080/"
        },
        "outputId": "65cc53fa-63f3-4a2c-8f39-085e50b6ea4c"
      },
      "source": [
        "#Print results here\n",
        "print('check_split', (train_sdf.count(), test_sdf.count()))"
      ],
      "execution_count": 92,
      "outputs": [
        {
          "output_type": "stream",
          "name": "stdout",
          "text": [
            "check_split (123519, 31048)\n"
          ]
        }
      ]
    },
    {
      "cell_type": "markdown",
      "metadata": {
        "id": "L_CKE8i8an4x"
      },
      "source": [
        "### 5.2 Linear regression using Spark ML (15 points)\n",
        "\n",
        "In this section, train s linear regression model to our data and predict the views. This prediction should be based on \"Big\" data tools, i.e., Spark ML's linear regression. Create a model using this library, fit the training data. \n",
        "Afterwards, print the summary stats of the model, i.e, \n",
        "- the RMSE error, R2 score and any other information you find useful. Refere the Spark ML documentation online for the implementation.\n",
        "\n",
        "In this section, we will train the model without any regularization!"
      ]
    },
    {
      "cell_type": "code",
      "metadata": {
        "id": "W9qJdpIU4e8q"
      },
      "source": [
        "from pyspark.ml.regression import LinearRegression\n",
        "\n",
        "# Add your code here\n",
        "\n",
        "lr_model = LinearRegression(featuresCol='features', labelCol='label').fit(train_sdf)"
      ],
      "execution_count": 93,
      "outputs": []
    },
    {
      "cell_type": "code",
      "metadata": {
        "id": "M_n_gx3I-Icl",
        "colab": {
          "base_uri": "https://localhost:8080/"
        },
        "outputId": "072310d5-3498-4ac7-9988-5852ce926bad"
      },
      "source": [
        "trainingSum = lr_model.summary\n",
        "\n",
        "print(\"RMSE: %f\" % trainingSum.rootMeanSquaredError)\n",
        "print(\"r2: %f\" % trainingSum.r2)\n",
        "\n"
      ],
      "execution_count": 94,
      "outputs": [
        {
          "output_type": "stream",
          "name": "stdout",
          "text": [
            "RMSE: 0.666488\n",
            "r2: 0.865568\n"
          ]
        }
      ]
    },
    {
      "cell_type": "markdown",
      "metadata": {
        "id": "kJT9Ov_irnXl"
      },
      "source": [
        "Let us investigate that if the model actually overfits the training data. \n",
        "\n",
        "Predict the views for your test data (Note: it is called 'transform' in spark ml). Evaluate the performance using 'RegressionEvaluator' in the Spark ML Regression library. Name prediction column as 'prediction'."
      ]
    },
    {
      "cell_type": "code",
      "metadata": {
        "id": "3sE9kv3ZsU7J"
      },
      "source": [
        "# Add your code here\n",
        "predictions = lr_model.transform(test_sdf)"
      ],
      "execution_count": 95,
      "outputs": []
    },
    {
      "cell_type": "code",
      "metadata": {
        "id": "TlqLeWSDsd__"
      },
      "source": [
        "from pyspark.ml.evaluation import RegressionEvaluator\n",
        "\n",
        "# Task: Compute RMSr on the test set\n",
        "\n",
        "test_rmse_orig = lr_model.evaluate(test_sdf).rootMeanSquaredError"
      ],
      "execution_count": 96,
      "outputs": []
    },
    {
      "cell_type": "code",
      "metadata": {
        "id": "DuBHq2n8dCxs",
        "colab": {
          "base_uri": "https://localhost:8080/"
        },
        "outputId": "61f93ea7-1402-4680-f5aa-54d8e966131b"
      },
      "source": [
        "#Print results here\n",
        "predictions_to_print = predictions.toPandas()\n",
        "lranswer = [test_rmse_orig, predictions_to_print['prediction'][0:50], predictions_to_print['label'][0:50]]\n",
        "print('result_lr_test', lranswer)\n",
        "\n",
        "x=predictions_to_print['prediction'][0:50]\n",
        "y=predictions_to_print['label'][0:50]\n",
        "print('\\n Differences between Prediction and label: \\n',(x - y))"
      ],
      "execution_count": 97,
      "outputs": [
        {
          "output_type": "stream",
          "name": "stdout",
          "text": [
            "result_lr_test [0.6715952996006331, 0     10.690088\n",
            "1     10.581323\n",
            "2     11.049358\n",
            "3     10.713690\n",
            "4     10.290210\n",
            "5     11.587228\n",
            "6     13.267501\n",
            "7     11.039199\n",
            "8     11.551384\n",
            "9     12.446580\n",
            "10    12.054713\n",
            "11    11.273195\n",
            "12    11.983272\n",
            "13    11.022216\n",
            "14    11.527023\n",
            "15    13.147131\n",
            "16    13.147131\n",
            "17    11.075943\n",
            "18    11.514333\n",
            "19    11.609016\n",
            "20    11.864850\n",
            "21    11.238117\n",
            "22    13.207237\n",
            "23    13.522688\n",
            "24    11.956923\n",
            "25    12.229846\n",
            "26    11.876203\n",
            "27    11.876203\n",
            "28    13.479573\n",
            "29    11.816075\n",
            "30    12.008998\n",
            "31    11.803977\n",
            "32    12.906720\n",
            "33    12.797433\n",
            "34    11.844155\n",
            "35    13.571680\n",
            "36    12.257697\n",
            "37    12.257697\n",
            "38    12.643926\n",
            "39    11.612113\n",
            "40    12.400711\n",
            "41    11.610050\n",
            "42    12.782627\n",
            "43    11.453222\n",
            "44    12.719580\n",
            "45    12.013339\n",
            "46    12.631462\n",
            "47    12.631462\n",
            "48    12.597698\n",
            "49    13.767797\n",
            "Name: prediction, dtype: float64, 0      9.668651\n",
            "1      9.829895\n",
            "2      9.930129\n",
            "3     10.712126\n",
            "4     11.018006\n",
            "5     11.054835\n",
            "6     11.153762\n",
            "7     11.175899\n",
            "8     11.258382\n",
            "9     11.266360\n",
            "10    11.468357\n",
            "11    11.468859\n",
            "12    11.483754\n",
            "13    11.512265\n",
            "14    11.564445\n",
            "15    11.588135\n",
            "16    11.588135\n",
            "17    11.660664\n",
            "18    11.857671\n",
            "19    11.880322\n",
            "20    11.888144\n",
            "21    11.891335\n",
            "22    11.937552\n",
            "23    11.954922\n",
            "24    11.977156\n",
            "25    12.016164\n",
            "26    12.054133\n",
            "27    12.054133\n",
            "28    12.198675\n",
            "29    12.226267\n",
            "30    12.256457\n",
            "31    12.375583\n",
            "32    12.486016\n",
            "33    12.557198\n",
            "34    12.644428\n",
            "35    12.658160\n",
            "36    12.669763\n",
            "37    12.669763\n",
            "38    12.866671\n",
            "39    12.883370\n",
            "40    12.909091\n",
            "41    12.924927\n",
            "42    12.978248\n",
            "43    12.997584\n",
            "44    13.010363\n",
            "45    13.027932\n",
            "46    13.037278\n",
            "47    13.037278\n",
            "48    13.046706\n",
            "49    13.076920\n",
            "Name: label, dtype: float64]\n",
            "\n",
            " Differences between Prediction and label: \n",
            " 0     1.021437\n",
            "1     0.751429\n",
            "2     1.119228\n",
            "3     0.001563\n",
            "4    -0.727796\n",
            "5     0.532393\n",
            "6     2.113740\n",
            "7    -0.136701\n",
            "8     0.293002\n",
            "9     1.180221\n",
            "10    0.586356\n",
            "11   -0.195664\n",
            "12    0.499518\n",
            "13   -0.490050\n",
            "14   -0.037423\n",
            "15    1.558996\n",
            "16    1.558996\n",
            "17   -0.584721\n",
            "18   -0.343337\n",
            "19   -0.271306\n",
            "20   -0.023294\n",
            "21   -0.653218\n",
            "22    1.269684\n",
            "23    1.567767\n",
            "24   -0.020233\n",
            "25    0.213682\n",
            "26   -0.177930\n",
            "27   -0.177930\n",
            "28    1.280897\n",
            "29   -0.410193\n",
            "30   -0.247459\n",
            "31   -0.571607\n",
            "32    0.420704\n",
            "33    0.240235\n",
            "34   -0.800273\n",
            "35    0.913520\n",
            "36   -0.412065\n",
            "37   -0.412065\n",
            "38   -0.222745\n",
            "39   -1.271257\n",
            "40   -0.508380\n",
            "41   -1.314876\n",
            "42   -0.195621\n",
            "43   -1.544362\n",
            "44   -0.290783\n",
            "45   -1.014593\n",
            "46   -0.405816\n",
            "47   -0.405816\n",
            "48   -0.449008\n",
            "49    0.690876\n",
            "dtype: float64\n"
          ]
        }
      ]
    },
    {
      "cell_type": "markdown",
      "metadata": {
        "id": "pgEkOUYUsi5D"
      },
      "source": [
        "Next, we will implement regularization to avoid overfitting. you can try different  regularization parameters, e.g., try LASSO (L1), Ridge (L2) and elastic net (combination of L1 and L2).\n",
        "\n",
        "You can try different regularization hyperparameters to initialize three different regularized linear regression models. Compare these regularization methods with each other and the non-regularized method above.\n"
      ]
    },
    {
      "cell_type": "code",
      "metadata": {
        "id": "hhx5njucYKk2"
      },
      "source": [
        "# Add your code here\n",
        "LR=LinearRegression\n",
        "model1= LR(featuresCol='features', labelCol='label', elasticNetParam=1, regParam=0.1)\n",
        "model1_fit=model1.fit(train_sdf)\n",
        "model2 = LR(featuresCol='features', labelCol='label', elasticNetParam=0, regParam=0.1)\n",
        "model2_fit=model2.fit(train_sdf)\n",
        "elastic_net_model =LR(featuresCol='features', labelCol='label', elasticNetParam=0.5, regParam=0.1).fit(train_sdf)\n",
        "\n",
        "# Compute predictions using each of the models\n",
        "l1_predictions = model1_fit.transform(test_sdf)\n",
        "l2_predictions = model2_fit.transform(test_sdf)\n",
        "elastic_net_predictions = elastic_net_model.transform(test_sdf)\n",
        "\n",
        "# Task: Calculate the root mean squared error (RMSE) on test set for each of your models\n",
        "test_rmse_l1 = model1_fit.evaluate(test_sdf).rootMeanSquaredError\n",
        "test_rmse_l2 = model2_fit.evaluate(test_sdf).rootMeanSquaredError\n",
        "test_rmse_elastic = elastic_net_model.evaluate(test_sdf).rootMeanSquaredError"
      ],
      "execution_count": 98,
      "outputs": []
    },
    {
      "cell_type": "code",
      "metadata": {
        "id": "q0-fqj8MgY2S",
        "colab": {
          "base_uri": "https://localhost:8080/"
        },
        "outputId": "bb5dbd01-83c2-46a2-aa80-f91e4bba15b9"
      },
      "source": [
        "# Print your results here\n",
        "result = [test_rmse_l1, test_rmse_l2, test_rmse_elastic]\n",
        "print('result_lr_all', result)"
      ],
      "execution_count": 99,
      "outputs": [
        {
          "output_type": "stream",
          "name": "stdout",
          "text": [
            "result_lr_all [0.7348812407991043, 0.685322002535213, 0.7054027137323297]\n"
          ]
        }
      ]
    },
    {
      "cell_type": "markdown",
      "metadata": {
        "id": "O6ntJ6xFbbmn"
      },
      "source": [
        "### 5.3 Random Forest Regression 10 pts)\n",
        "\n",
        "You need an understanding of random forest and its variations,i.e., boosted trees to succeed as a data scientist. These are ensemble methods that are know for generalization and are considered popular for classification and regression problems. Similar to linear regresssion, create a random forest regressor model. After it, train the model using the data and then evaluate its performance using the test data. Finally, compare performance of random forest model with the linear regression model.\n",
        "\n"
      ]
    },
    {
      "cell_type": "code",
      "metadata": {
        "id": "8pjjP9GWuoml"
      },
      "source": [
        "from pyspark.ml.regression import RandomForestRegressor\n",
        "# Add your code here\n",
        "rf_model = rf_model = RandomForestRegressor(labelCol=\"label\", featuresCol=\"features\").fit(train_sdf) #Task\n"
      ],
      "execution_count": 100,
      "outputs": []
    },
    {
      "cell_type": "code",
      "metadata": {
        "id": "ruaaYA2jBlRK"
      },
      "source": [
        "# Add code here to calculate predictions\n",
        "predictions = predictions = rf_model.transform(test_sdf) #Task : Calculate predictions on the test set"
      ],
      "execution_count": 101,
      "outputs": []
    },
    {
      "cell_type": "code",
      "metadata": {
        "id": "QyyZfbd6Brqs"
      },
      "source": [
        "from pyspark.ml.evaluation import RegressionEvaluator\n",
        "\n",
        "# Add your code here to instatiate a regressionevaluator \n",
        "reg_evaluator = RegressionEvaluator(labelCol=\"label\", predictionCol=\"prediction\", metricName=\"rmse\")\n",
        "train_rmse_rf = reg_evaluator.evaluate(rf_model.transform(train_sdf)) #Task: Compute the training RMSE\n",
        "rmse_rf = reg_evaluator.evaluate(predictions) #Task: Compute RMSE using the test set"
      ],
      "execution_count": 102,
      "outputs": []
    },
    {
      "cell_type": "code",
      "metadata": {
        "id": "fR09u5GFjvtb",
        "colab": {
          "base_uri": "https://localhost:8080/"
        },
        "outputId": "2b304b7f-f8d0-415b-ce18-49f030863fc0"
      },
      "source": [
        "#Print results of predictions here\n",
        "predictions_to_reveal = predictions.toPandas()\n",
        "answer = [train_rmse_rf, predictions_to_reveal['prediction'][0:50], predictions_to_reveal['label'][0:50], rmse_rf]\n",
        "print('check_rf_spark \\n', answer)\n",
        "\n",
        "x=predictions_to_reveal['prediction'][0:50]\n",
        "y=predictions_to_reveal['label'][0:50]\n",
        "print('\\n Differences between Prediction and label: \\n',(x - y))"
      ],
      "execution_count": 103,
      "outputs": [
        {
          "output_type": "stream",
          "name": "stdout",
          "text": [
            "check_rf_spark \n",
            " [0.723225299975035, 0     10.913955\n",
            "1     10.576547\n",
            "2     10.525983\n",
            "3     11.346569\n",
            "4     10.409639\n",
            "5     11.842912\n",
            "6     12.906002\n",
            "7     11.079342\n",
            "8     11.747185\n",
            "9     12.599451\n",
            "10    12.115456\n",
            "11    11.469624\n",
            "12    11.702677\n",
            "13    11.403740\n",
            "14    11.381087\n",
            "15    12.900260\n",
            "16    12.900260\n",
            "17    10.857828\n",
            "18    12.096989\n",
            "19    12.166946\n",
            "20    12.039252\n",
            "21    10.938136\n",
            "22    12.843869\n",
            "23    13.608943\n",
            "24    12.084482\n",
            "25    12.126462\n",
            "26    11.767940\n",
            "27    11.767940\n",
            "28    13.183738\n",
            "29    12.043708\n",
            "30    12.100985\n",
            "31    11.122870\n",
            "32    12.667560\n",
            "33    12.564991\n",
            "34    11.796984\n",
            "35    13.354660\n",
            "36    12.257982\n",
            "37    12.257982\n",
            "38    12.756535\n",
            "39    11.280668\n",
            "40    12.401373\n",
            "41    11.280668\n",
            "42    12.675459\n",
            "43    11.360973\n",
            "44    12.612300\n",
            "45    12.076735\n",
            "46    12.627629\n",
            "47    12.627629\n",
            "48    12.621051\n",
            "49    13.838530\n",
            "Name: prediction, dtype: float64, 0      9.668651\n",
            "1      9.829895\n",
            "2      9.930129\n",
            "3     10.712126\n",
            "4     11.018006\n",
            "5     11.054835\n",
            "6     11.153762\n",
            "7     11.175899\n",
            "8     11.258382\n",
            "9     11.266360\n",
            "10    11.468357\n",
            "11    11.468859\n",
            "12    11.483754\n",
            "13    11.512265\n",
            "14    11.564445\n",
            "15    11.588135\n",
            "16    11.588135\n",
            "17    11.660664\n",
            "18    11.857671\n",
            "19    11.880322\n",
            "20    11.888144\n",
            "21    11.891335\n",
            "22    11.937552\n",
            "23    11.954922\n",
            "24    11.977156\n",
            "25    12.016164\n",
            "26    12.054133\n",
            "27    12.054133\n",
            "28    12.198675\n",
            "29    12.226267\n",
            "30    12.256457\n",
            "31    12.375583\n",
            "32    12.486016\n",
            "33    12.557198\n",
            "34    12.644428\n",
            "35    12.658160\n",
            "36    12.669763\n",
            "37    12.669763\n",
            "38    12.866671\n",
            "39    12.883370\n",
            "40    12.909091\n",
            "41    12.924927\n",
            "42    12.978248\n",
            "43    12.997584\n",
            "44    13.010363\n",
            "45    13.027932\n",
            "46    13.037278\n",
            "47    13.037278\n",
            "48    13.046706\n",
            "49    13.076920\n",
            "Name: label, dtype: float64, 0.7320582697608704]\n",
            "\n",
            " Differences between Prediction and label: \n",
            " 0     1.245304\n",
            "1     0.746652\n",
            "2     0.595854\n",
            "3     0.634443\n",
            "4    -0.608367\n",
            "5     0.788078\n",
            "6     1.752240\n",
            "7    -0.096558\n",
            "8     0.488804\n",
            "9     1.333091\n",
            "10    0.647100\n",
            "11    0.000765\n",
            "12    0.218923\n",
            "13   -0.108525\n",
            "14   -0.183359\n",
            "15    1.312125\n",
            "16    1.312125\n",
            "17   -0.802837\n",
            "18    0.239319\n",
            "19    0.286624\n",
            "20    0.151107\n",
            "21   -0.953199\n",
            "22    0.906317\n",
            "23    1.654021\n",
            "24    0.107326\n",
            "25    0.110298\n",
            "26   -0.286193\n",
            "27   -0.286193\n",
            "28    0.985063\n",
            "29   -0.182559\n",
            "30   -0.155472\n",
            "31   -1.252714\n",
            "32    0.181544\n",
            "33    0.007793\n",
            "34   -0.847444\n",
            "35    0.696500\n",
            "36   -0.411781\n",
            "37   -0.411781\n",
            "38   -0.110136\n",
            "39   -1.602702\n",
            "40   -0.507718\n",
            "41   -1.644259\n",
            "42   -0.302790\n",
            "43   -1.636611\n",
            "44   -0.398063\n",
            "45   -0.951197\n",
            "46   -0.409649\n",
            "47   -0.409649\n",
            "48   -0.425655\n",
            "49    0.761610\n",
            "dtype: float64\n"
          ]
        }
      ]
    },
    {
      "cell_type": "markdown",
      "metadata": {
        "id": "SH9cxYzla-lf"
      },
      "source": [
        "### 5.4 Dimensionality Reduction using Principal Component Analysis (10pt)\n",
        "\n",
        "The focus of this section is to utilize PCA to further reduce the dimensions of data, i.e., a lower dimensional space. After PCA perform linear regression on the new data. You can select a suitable value for the number of dimensions as calculated in previous section.\n",
        "\n",
        "The steps are illustrated below:\n",
        "1.   Initialization of PCA model\n",
        "2.   Fit the PCA model using the training data\n",
        "3.   Extract the PCA feature from the trained PCA model from step 2\n",
        "4.   Train a linear regression model using the retreived PCA features\n",
        "5.   Evaluate the trained model 's performance on the test set \n",
        "\n",
        "This section requires extra effort and therefore has less starter code. Spen time to understand and implement considering yourself a data scientist working on an assigned task.\n",
        "\n",
        "\n",
        "\n",
        "\n"
      ]
    },
    {
      "cell_type": "code",
      "metadata": {
        "id": "KXgSxHvgzJaS"
      },
      "source": [
        "# Add your code for the PCA model and training here\n",
        "from pyspark.ml.feature import PCA as PCA_ML\n",
        "pca_Lr = PCA_ML(k=34, inputCol='features', outputCol='pcaFeature').fit(train_sdf).transform(train_sdf)\n",
        "\n",
        "pca_lr_model=LinearRegression(featuresCol='pcaFeature', labelCol='label', elasticNetParam=1, regParam=0.1).fit(pca_Lr)\n",
        "\n",
        "training_rmse_pca = reg_evaluator.evaluate(pca_lr_model.transform(pca_Lr))\n",
        " "
      ],
      "execution_count": 104,
      "outputs": []
    },
    {
      "cell_type": "code",
      "metadata": {
        "id": "TBnyAXQwl9Nt"
      },
      "source": [
        "# Add your code here\n",
        "pca_Lr_test = PCA_ML(k=34, inputCol='features', outputCol='pcaFeature').fit(train_sdf).transform(test_sdf)\n",
        "\n",
        "predictions = pca_lr_model.transform(pca_Lr_test) #Task: Retreive predictions on the test set\n",
        "\n",
        "test_rmse_pca = reg_evaluator.evaluate(pca_lr_model.transform(pca_Lr_test)) #Task: Retreive RMSE for test data"
      ],
      "execution_count": 105,
      "outputs": []
    },
    {
      "cell_type": "code",
      "metadata": {
        "id": "nNdWfggtmEmx",
        "colab": {
          "base_uri": "https://localhost:8080/"
        },
        "outputId": "414fe440-1b68-4871-bccb-4ff33128f9bd"
      },
      "source": [
        "# Add your code here\n",
        "predictions_to_grade = predictions.toPandas()\n",
        "answer = [training_rmse_pca, predictions_to_grade['prediction'][0:50], predictions_to_grade['label'][0:50], test_rmse_pca]\n",
        "print('check_pca_spark \\n', answer)\n",
        "\n",
        "x=predictions_to_grade['prediction'][0:50]\n",
        "y=predictions_to_grade['label'][0:50]\n",
        "print('\\n Differences between Prediction and label: \\n',(x - y))\n",
        "\n",
        "print('\\n \\n Model Summery:',pca_lr_model.summary.r2)"
      ],
      "execution_count": 106,
      "outputs": [
        {
          "output_type": "stream",
          "name": "stdout",
          "text": [
            "check_pca_spark \n",
            " [0.7567596744365603, 0     10.929426\n",
            "1     10.872070\n",
            "2     10.226063\n",
            "3     10.668038\n",
            "4     10.642925\n",
            "5     11.578093\n",
            "6     13.045532\n",
            "7     11.022991\n",
            "8     11.735844\n",
            "9     12.285941\n",
            "10    11.901942\n",
            "11    11.351195\n",
            "12    12.018501\n",
            "13    11.089346\n",
            "14    11.613644\n",
            "15    13.108459\n",
            "16    13.108459\n",
            "17    11.247347\n",
            "18    11.720376\n",
            "19    11.828385\n",
            "20    11.828196\n",
            "21    11.408373\n",
            "22    13.049419\n",
            "23    13.604717\n",
            "24    12.064829\n",
            "25    12.502247\n",
            "26    11.964367\n",
            "27    11.964367\n",
            "28    13.400419\n",
            "29    12.076301\n",
            "30    11.691972\n",
            "31    10.875023\n",
            "32    12.882486\n",
            "33    12.988584\n",
            "34    11.868580\n",
            "35    13.378035\n",
            "36    12.311844\n",
            "37    12.311844\n",
            "38    12.122416\n",
            "39    10.982653\n",
            "40    12.452894\n",
            "41    10.982141\n",
            "42    12.769790\n",
            "43    10.642617\n",
            "44    12.849412\n",
            "45    11.840115\n",
            "46    12.229766\n",
            "47    12.229766\n",
            "48    12.479362\n",
            "49    13.622233\n",
            "Name: prediction, dtype: float64, 0      9.668651\n",
            "1      9.829895\n",
            "2      9.930129\n",
            "3     10.712126\n",
            "4     11.018006\n",
            "5     11.054835\n",
            "6     11.153762\n",
            "7     11.175899\n",
            "8     11.258382\n",
            "9     11.266360\n",
            "10    11.468357\n",
            "11    11.468859\n",
            "12    11.483754\n",
            "13    11.512265\n",
            "14    11.564445\n",
            "15    11.588135\n",
            "16    11.588135\n",
            "17    11.660664\n",
            "18    11.857671\n",
            "19    11.880322\n",
            "20    11.888144\n",
            "21    11.891335\n",
            "22    11.937552\n",
            "23    11.954922\n",
            "24    11.977156\n",
            "25    12.016164\n",
            "26    12.054133\n",
            "27    12.054133\n",
            "28    12.198675\n",
            "29    12.226267\n",
            "30    12.256457\n",
            "31    12.375583\n",
            "32    12.486016\n",
            "33    12.557198\n",
            "34    12.644428\n",
            "35    12.658160\n",
            "36    12.669763\n",
            "37    12.669763\n",
            "38    12.866671\n",
            "39    12.883370\n",
            "40    12.909091\n",
            "41    12.924927\n",
            "42    12.978248\n",
            "43    12.997584\n",
            "44    13.010363\n",
            "45    13.027932\n",
            "46    13.037278\n",
            "47    13.037278\n",
            "48    13.046706\n",
            "49    13.076920\n",
            "Name: label, dtype: float64, 0.7598740491445444]\n",
            "\n",
            " Differences between Prediction and label: \n",
            " 0     1.260775\n",
            "1     1.042176\n",
            "2     0.295934\n",
            "3    -0.044089\n",
            "4    -0.375081\n",
            "5     0.523258\n",
            "6     1.891771\n",
            "7    -0.152908\n",
            "8     0.477463\n",
            "9     1.019581\n",
            "10    0.433585\n",
            "11   -0.117664\n",
            "12    0.534747\n",
            "13   -0.422919\n",
            "14    0.049199\n",
            "15    1.520324\n",
            "16    1.520324\n",
            "17   -0.413317\n",
            "18   -0.137294\n",
            "19   -0.051936\n",
            "20   -0.059949\n",
            "21   -0.482961\n",
            "22    1.111867\n",
            "23    1.649795\n",
            "24    0.087672\n",
            "25    0.486082\n",
            "26   -0.089766\n",
            "27   -0.089766\n",
            "28    1.201744\n",
            "29   -0.149966\n",
            "30   -0.564485\n",
            "31   -1.500560\n",
            "32    0.396470\n",
            "33    0.431387\n",
            "34   -0.775848\n",
            "35    0.719874\n",
            "36   -0.357919\n",
            "37   -0.357919\n",
            "38   -0.744255\n",
            "39   -1.900717\n",
            "40   -0.456197\n",
            "41   -1.942786\n",
            "42   -0.208459\n",
            "43   -2.354967\n",
            "44   -0.160951\n",
            "45   -1.187817\n",
            "46   -0.807512\n",
            "47   -0.807512\n",
            "48   -0.567344\n",
            "49    0.545313\n",
            "dtype: float64\n",
            "\n",
            " \n",
            " Model Summery: 0.8266854371491215\n"
          ]
        }
      ]
    },
    {
      "cell_type": "code",
      "source": [
        "from pyspark.ml.regression import GeneralizedLinearRegression\n",
        "\n",
        "glr = GeneralizedLinearRegression(family=\"gaussian\", link=\"identity\", maxIter=10, regParam=0.3)\n",
        "glr_model = glr.fit(train_sdf)\n",
        "\n",
        "print(\"Coefficients: \" + str(glr_model.coefficients))\n",
        "print(\"Intercept: \" + str(glr_model.intercept))\n",
        "\n",
        "model_summary = glr_model.summary\n",
        "print(\"Coefficient Standard Errors: \" + str(model_summary.coefficientStandardErrors))\n",
        "print(\"T Values: \" + str(model_summary.tValues))\n",
        "print(\"P Values: \" + str(model_summary.pValues))\n",
        "print(\"Dispersion: \" + str(model_summary.dispersion))\n",
        "print(\"Null Deviance: \" + str(model_summary.nullDeviance))\n",
        "print(\"Residual Degree Of Freedom Null: \" + str(model_summary.residualDegreeOfFreedomNull))\n",
        "print(\"Deviance: \" + str(model_summary.deviance))\n",
        "print(\"Residual Degree Of Freedom: \" + str(model_summary.residualDegreeOfFreedom))\n",
        "print(\"AIC: \" + str(model_summary.aic))\n",
        "print(\"Deviance Residuals: \")\n",
        "model_summary.residuals().show()"
      ],
      "metadata": {
        "colab": {
          "base_uri": "https://localhost:8080/"
        },
        "id": "N-MbR15AOSrC",
        "outputId": "1a4d7f9b-10fb-42ee-f88a-8d599b57eb04"
      },
      "execution_count": 107,
      "outputs": [
        {
          "output_type": "stream",
          "name": "stdout",
          "text": [
            "Coefficients: [0.7021802412120799,2.8741312601642166,0.17580621420402798,0.23789659945037628,0.39342993853081604,0.11451607270618766,0.0014772240933732556,-2.067315531101158e-06,0.0031911340084753038,0.08229516114993651,-0.4434293554530857,0.1778795495332548,0.17499029711383393,-0.08986551601555608,-0.12640650450911062,-0.42684998390495127,0.11767517242121987,0.1777889365945023,-0.19012669541292718,-0.26941869295281795,0.22975608837184305,0.11416773587686496,-0.11183933278255911,-0.49809384073740975,-0.01819925144346453,-0.07814143676084119,-0.15151838221865785,0.37766950750232064,0.2569089908942616,-0.5269991750685774,-0.10263489818569838,0.006437018247951811,0.01661015036144549,0.010092617589711547,-0.0023773895608279277,-0.004934447841023694,-0.018959298370508845,-0.010068077781516579]\n",
            "Intercept: 7.303416009977634\n",
            "Coefficient Standard Errors: [0.015464476457414328, 0.02010975371963718, 0.0804947029866097, 0.0014468714300647505, 0.0014852419278985698, 0.0014524782348583085, 0.00016484631889192774, 2.3076576747931578e-06, 8.994925618335666e-05, 0.006641181904698185, 0.006767387473920381, 0.0068378373179286515, 0.006689958200967912, 0.020305672230368145, 0.007992693362950314, 0.012081100138084866, 0.006235293968395005, 0.009720914822420242, 0.01331646603629178, 0.009265800582998453, 0.12913537081757442, 0.007649843067282285, 0.008069897822073156, 0.040636414684505955, 0.008065460559462539, 0.019532462311359716, 0.011763582920461448, 0.03407710852870796, 0.009185715438033173, 0.4653075442558277, 0.025358606387750542, 0.007090424279317267, 0.007069577150786144, 0.007069034509440605, 0.006997034668532492, 0.006845160111785151, 0.007372715661723549, 0.007417066091362549, 0.014295842725113297]\n",
            "T Values: [45.406014432219905, 142.92225057722246, 2.1840718417617286, 164.42138154578802, 264.892830683463, 78.8418510913927, 8.96121977914299, -0.8958501746956283, 35.47704721393527, 12.391643886718159, -65.52445196347017, 26.014007245662125, 26.15715851386278, -4.425636097935124, -15.815257607036564, -35.33204584235959, 18.872433764579995, 18.289321513696557, -14.277563949381838, -29.07667724332061, 1.7791878934270644, 14.924193198831812, -13.858828853650541, -12.257327439059857, -2.256442928372249, -4.000593243965743, -12.880291935130446, 11.082792050392312, 27.96831587341992, -1.1325824856577684, -4.047339850476803, 0.907846694975442, 2.3495252979307857, 1.427722212451076, -0.3397710135008584, -0.7208666795869642, -2.571548834975233, -1.3574205295596908, 510.87691368818923]\n",
            "P Values: [0.0, 0.0, 0.028958844041854448, 0.0, 0.0, 0.0, 0.0, 0.37033453448723996, 0.0, 0.0, 0.0, 0.0, 0.0, 9.62407089066808e-06, 0.0, 0.0, 0.0, 0.0, 0.0, 0.0, 0.07521142172518225, 0.0, 0.0, 0.0, 0.02404464683779617, 6.322066987296537e-05, 0.0, 0.0, 0.0, 0.25739182628993285, 5.183451843859821e-05, 0.36396099553252714, 0.01879893282518119, 0.15337435906559582, 0.7340295563883781, 0.47099290998600374, 0.01012563248593068, 0.17465010961164973, 0.0]\n",
            "Dispersion: 0.50401326212408\n",
            "Null Deviance: 408145.18211687193\n",
            "Residual Degree Of Freedom Null: 123518\n",
            "Deviance: 62235.5576070814\n",
            "Residual Degree Of Freedom: 123480\n",
            "AIC: 265943.355162758\n",
            "Deviance Residuals: \n"
          ]
        },
        {
          "output_type": "stream",
          "name": "stderr",
          "text": [
            "/usr/local/lib/python3.7/dist-packages/pyspark/sql/context.py:127: FutureWarning:\n",
            "\n",
            "Deprecated in 3.0.0. Use SparkSession.builder.getOrCreate() instead.\n",
            "\n"
          ]
        },
        {
          "output_type": "stream",
          "name": "stdout",
          "text": [
            "+--------------------+\n",
            "|   devianceResiduals|\n",
            "+--------------------+\n",
            "|  -1.358943658080916|\n",
            "| -0.4947415528537764|\n",
            "|  -2.345891505454764|\n",
            "|  -1.395362568561067|\n",
            "| -0.7836306261539185|\n",
            "|  -2.133682280209026|\n",
            "| -0.8790878791218777|\n",
            "|-0.16193839366222917|\n",
            "|-0.06092767567119317|\n",
            "| -0.9733798493410308|\n",
            "|  -0.728578728913428|\n",
            "| -0.5991897270943678|\n",
            "| -0.8817966354982474|\n",
            "|  0.3110985676151703|\n",
            "|  0.4703489102473455|\n",
            "| -1.3807804016102079|\n",
            "|  -1.045372309438486|\n",
            "| -0.0632500292642586|\n",
            "|  0.4806498964249286|\n",
            "|  -0.568052061546048|\n",
            "+--------------------+\n",
            "only showing top 20 rows\n",
            "\n"
          ]
        }
      ]
    },
    {
      "cell_type": "code",
      "source": [
        "predictions = glr_model.transform(test_sdf)"
      ],
      "metadata": {
        "id": "YaDmoY8PVAyC"
      },
      "execution_count": 108,
      "outputs": []
    },
    {
      "cell_type": "code",
      "source": [
        "from pyspark.ml import Pipeline\n",
        "from pyspark.ml.regression import DecisionTreeRegressor\n",
        "from pyspark.ml.feature import VectorIndexer\n",
        "from pyspark.ml.evaluation import RegressionEvaluator"
      ],
      "metadata": {
        "id": "PN-LsbRBXUil"
      },
      "execution_count": 109,
      "outputs": []
    },
    {
      "cell_type": "code",
      "source": [
        "featureIndexer =\\\n",
        "    VectorIndexer(inputCol=\"features\", outputCol=\"indexedFeatures\", maxCategories=4).fit(train_sdf)"
      ],
      "metadata": {
        "id": "6hxerEVNXZqB"
      },
      "execution_count": 114,
      "outputs": []
    },
    {
      "cell_type": "code",
      "source": [
        "\n",
        "# Make predictions.\n",
        "predictions = model.transform(testData)\n",
        "\n",
        "# Select example rows to display.\n",
        "predictions.select(\"prediction\", \"label\", \"features\").show(5)\n",
        "\n",
        "# Select (prediction, true label) and compute test error\n",
        "evaluator = RegressionEvaluator(\n",
        "    labelCol=\"label\", predictionCol=\"prediction\", metricName=\"rmse\")\n",
        "rmse = evaluator.evaluate(predictions)\n",
        "print(\"Root Mean Squared Error (RMSE) on test data = %g\" % rmse)\n",
        "\n",
        "treeModel = model.stages[1]\n",
        "\n",
        " #treeModel = model.transform[1]\n",
        "# summary only\n",
        "print(treeModel)"
      ],
      "metadata": {
        "id": "CcGfiBrPZqMq",
        "colab": {
          "base_uri": "https://localhost:8080/",
          "height": 235
        },
        "outputId": "886cf1f8-41ad-49b6-ebf1-f7989d7e1ae2"
      },
      "execution_count": 118,
      "outputs": [
        {
          "output_type": "error",
          "ename": "NameError",
          "evalue": "ignored",
          "traceback": [
            "\u001b[0;31m---------------------------------------------------------------------------\u001b[0m",
            "\u001b[0;31mNameError\u001b[0m                                 Traceback (most recent call last)",
            "\u001b[0;32m<ipython-input-118-17d54bdef4fa>\u001b[0m in \u001b[0;36m<module>\u001b[0;34m()\u001b[0m\n\u001b[1;32m      1\u001b[0m \u001b[0;34m\u001b[0m\u001b[0m\n\u001b[1;32m      2\u001b[0m \u001b[0;31m# Make predictions.\u001b[0m\u001b[0;34m\u001b[0m\u001b[0;34m\u001b[0m\u001b[0;34m\u001b[0m\u001b[0m\n\u001b[0;32m----> 3\u001b[0;31m \u001b[0mpredictions\u001b[0m \u001b[0;34m=\u001b[0m \u001b[0mmodel\u001b[0m\u001b[0;34m.\u001b[0m\u001b[0mtransform\u001b[0m\u001b[0;34m(\u001b[0m\u001b[0mtestData\u001b[0m\u001b[0;34m)\u001b[0m\u001b[0;34m\u001b[0m\u001b[0;34m\u001b[0m\u001b[0m\n\u001b[0m\u001b[1;32m      4\u001b[0m \u001b[0;34m\u001b[0m\u001b[0m\n\u001b[1;32m      5\u001b[0m \u001b[0;31m# Select example rows to display.\u001b[0m\u001b[0;34m\u001b[0m\u001b[0;34m\u001b[0m\u001b[0;34m\u001b[0m\u001b[0m\n",
            "\u001b[0;31mNameError\u001b[0m: name 'model' is not defined"
          ]
        }
      ]
    },
    {
      "cell_type": "code",
      "source": [
        "dt_model = DecisionTreeRegressor(featuresCol=\"indexedFeatures\")\n",
        "\n",
        "pipeline = Pipeline(stages=[featureIndexer, dt_model])\n",
        "\n",
        "dt_model1 = pipeline.fit(train_sdf)\n",
        "\n",
        "predictions = dt_model1.transform(test_sdf)\n",
        "\n",
        "predictions.select(\"prediction\", \"label\", \"features\").show(5)\n",
        "evaluator = RegressionEvaluator(\n",
        "    labelCol=\"label\", predictionCol=\"prediction\", metricName=\"rmse\")\n",
        "rmse = evaluator.evaluate(predictions)\n",
        "print(\"Root Mean Squared Error (RMSE) on test data = %g\" % rmse)\n",
        "dis_treeModel = dt_model1.stages[1]\n",
        "print(dis_treeModel)"
      ],
      "metadata": {
        "colab": {
          "base_uri": "https://localhost:8080/"
        },
        "id": "aFF_1smwXyCB",
        "outputId": "1785ccc5-1237-4bee-89b5-9a69f9354cae"
      },
      "execution_count": 119,
      "outputs": [
        {
          "output_type": "stream",
          "name": "stdout",
          "text": [
            "+------------------+------------------+--------------------+\n",
            "|        prediction|             label|            features|\n",
            "+------------------+------------------+--------------------+\n",
            "|10.647494936677838| 9.668650902630873|(38,[3,4,5,6,7,8,...|\n",
            "|10.647494936677838| 9.829894832232755|(38,[3,4,5,6,7,8,...|\n",
            "|10.252435908923498| 9.930129483482549|(38,[0,1,6,7,8,11...|\n",
            "|11.382717118948346|10.712126256353349|(38,[3,4,5,6,7,8,...|\n",
            "|10.647494936677838|11.018005998221295|(38,[3,4,5,6,7,8,...|\n",
            "+------------------+------------------+--------------------+\n",
            "only showing top 5 rows\n",
            "\n",
            "Root Mean Squared Error (RMSE) on test data = 0.737975\n",
            "DecisionTreeRegressionModel: uid=DecisionTreeRegressor_6741617d7ae8, depth=5, numNodes=63, numFeatures=38\n"
          ]
        }
      ]
    },
    {
      "cell_type": "code",
      "source": [
        "predictions_to_print = predictions.toPandas()\n",
        "dtr_answer = [evaluator, predictions_to_print['prediction'][0:50], predictions_to_print['label'][0:50]]\n",
        "print('result_dtr_test', dtr_answer)\n",
        "\n",
        "x=predictions_to_print['prediction'][0:50]\n",
        "y=predictions_to_print['label'][0:50]\n",
        "print('\\n Differences between Prediction and label: \\n',(x - y))"
      ],
      "metadata": {
        "colab": {
          "base_uri": "https://localhost:8080/"
        },
        "id": "7kYuB8PNauEJ",
        "outputId": "6fae6bde-8ae8-4cd3-a2dd-e69344485975"
      },
      "execution_count": 120,
      "outputs": [
        {
          "output_type": "stream",
          "name": "stdout",
          "text": [
            "result_dtr_test [RegressionEvaluator_92c9797faa1e, 0     10.647495\n",
            "1     10.647495\n",
            "2     10.252436\n",
            "3     11.382717\n",
            "4     10.647495\n",
            "5     11.973432\n",
            "6     13.296670\n",
            "7     11.382717\n",
            "8     11.951977\n",
            "9     12.530571\n",
            "10    11.951977\n",
            "11    11.951977\n",
            "12    11.951977\n",
            "13    11.382717\n",
            "14    11.382717\n",
            "15    12.530571\n",
            "16    12.530571\n",
            "17    10.647495\n",
            "18    11.951977\n",
            "19    11.749907\n",
            "20    11.951977\n",
            "21    10.647495\n",
            "22    13.047333\n",
            "23    13.469021\n",
            "24    12.530571\n",
            "25    11.951977\n",
            "26    11.951977\n",
            "27    11.951977\n",
            "28    13.469021\n",
            "29    11.951977\n",
            "30    11.951977\n",
            "31    12.233292\n",
            "32    12.530571\n",
            "33    12.530571\n",
            "34    11.951977\n",
            "35    13.469021\n",
            "36    11.749907\n",
            "37    11.749907\n",
            "38    12.530571\n",
            "39    12.233292\n",
            "40    12.530571\n",
            "41    12.233292\n",
            "42    12.530571\n",
            "43    12.233292\n",
            "44    12.530571\n",
            "45    11.951977\n",
            "46    12.530571\n",
            "47    12.530571\n",
            "48    12.530571\n",
            "49    14.078604\n",
            "Name: prediction, dtype: float64, 0      9.668651\n",
            "1      9.829895\n",
            "2      9.930129\n",
            "3     10.712126\n",
            "4     11.018006\n",
            "5     11.054835\n",
            "6     11.153762\n",
            "7     11.175899\n",
            "8     11.258382\n",
            "9     11.266360\n",
            "10    11.468357\n",
            "11    11.468859\n",
            "12    11.483754\n",
            "13    11.512265\n",
            "14    11.564445\n",
            "15    11.588135\n",
            "16    11.588135\n",
            "17    11.660664\n",
            "18    11.857671\n",
            "19    11.880322\n",
            "20    11.888144\n",
            "21    11.891335\n",
            "22    11.937552\n",
            "23    11.954922\n",
            "24    11.977156\n",
            "25    12.016164\n",
            "26    12.054133\n",
            "27    12.054133\n",
            "28    12.198675\n",
            "29    12.226267\n",
            "30    12.256457\n",
            "31    12.375583\n",
            "32    12.486016\n",
            "33    12.557198\n",
            "34    12.644428\n",
            "35    12.658160\n",
            "36    12.669763\n",
            "37    12.669763\n",
            "38    12.866671\n",
            "39    12.883370\n",
            "40    12.909091\n",
            "41    12.924927\n",
            "42    12.978248\n",
            "43    12.997584\n",
            "44    13.010363\n",
            "45    13.027932\n",
            "46    13.037278\n",
            "47    13.037278\n",
            "48    13.046706\n",
            "49    13.076920\n",
            "Name: label, dtype: float64]\n",
            "\n",
            " Differences between Prediction and label: \n",
            " 0     0.978844\n",
            "1     0.817600\n",
            "2     0.322306\n",
            "3     0.670591\n",
            "4    -0.370511\n",
            "5     0.918598\n",
            "6     2.142908\n",
            "7     0.206818\n",
            "8     0.693596\n",
            "9     1.264212\n",
            "10    0.483620\n",
            "11    0.483118\n",
            "12    0.468223\n",
            "13   -0.129548\n",
            "14   -0.181728\n",
            "15    0.942437\n",
            "16    0.942437\n",
            "17   -1.013169\n",
            "18    0.094307\n",
            "19   -0.130415\n",
            "20    0.063833\n",
            "21   -1.243840\n",
            "22    1.109780\n",
            "23    1.514099\n",
            "24    0.553415\n",
            "25   -0.064187\n",
            "26   -0.102156\n",
            "27   -0.102156\n",
            "28    1.270345\n",
            "29   -0.274290\n",
            "30   -0.304480\n",
            "31   -0.142291\n",
            "32    0.044555\n",
            "33   -0.026626\n",
            "34   -0.692450\n",
            "35    0.810860\n",
            "36   -0.919856\n",
            "37   -0.919856\n",
            "38   -0.336099\n",
            "39   -0.650077\n",
            "40   -0.378519\n",
            "41   -0.691634\n",
            "42   -0.447677\n",
            "43   -0.764292\n",
            "44   -0.479792\n",
            "45   -1.075955\n",
            "46   -0.506707\n",
            "47   -0.506707\n",
            "48   -0.516135\n",
            "49    1.001684\n",
            "dtype: float64\n"
          ]
        }
      ]
    },
    {
      "cell_type": "markdown",
      "metadata": {
        "id": "TyQ6tm6iYg_m"
      },
      "source": [
        "# Submission\n",
        "\n",
        "**Submission on the blackboard**. \n",
        "** PDF submission for the simalarity check and .ipynb for original submission **\n",
        "\n",
        "Go to the \"File\" tab at the top left, and click \"Download .ipynb\". Submit under 'scalableMachinelearning.ipynb'.\n",
        "\n",
        "You must submit your notebook to blackboard for the grading."
      ]
    },
    {
      "cell_type": "code",
      "metadata": {
        "id": "CkfsSVY_X_yu"
      },
      "source": [
        "#TO PDF\n",
        "%%capture\n",
        "!wget -nc https://raw.githubusercontent.com/brpy/colab-pdf/master/colab_pdf.py\n",
        "from colab_pdf import colab_pdf\n",
        "colab_pdf('CA_5(IBRAHIM).ipynb')"
      ],
      "execution_count": null,
      "outputs": []
    },
    {
      "cell_type": "markdown",
      "source": [
        "Task 1.1 \n",
        "# Elastic Net "
      ],
      "metadata": {
        "id": "CJHYQM0wy5wM"
      }
    },
    {
      "cell_type": "code",
      "source": [
        "from sklearn.linear_model import LinearRegression\n",
        "from sklearn.metrics import mean_squared_error\n",
        "# Add your code here\n",
        "from sklearn.metrics import accuracy_score, mean_absolute_error, mean_squared_error\n",
        "\n",
        "# Create linear regression object\n",
        "lin_R = LinearRegression()\n",
        "\n",
        "# Train the model using the training sets\n",
        "lin_R.fit(x_train, y_train)\n",
        "\n",
        "# Make predictions\n",
        "\n",
        "y_predict_test = lin_R.predict(x_test)\n",
        "y_predict_train= lin_R.predict(x_train)\n",
        "\n",
        "# The coefficients\n",
        "#print('Coefficients: \\n', lin_R.coef_)\n",
        "\n",
        "print('r Squared: %.2f'\n",
        "      % lin_R.score(x_test, y_test))\n",
        "\n",
        "print('mse_value of Test=',mean_squared_error(y_test, y_predict_test))\n",
        "print('mse_value of Train=',mean_squared_error(y_train, y_predict_train))\n",
        "mse_test= mean_squared_error(y_test, y_predict_test)"
      ],
      "metadata": {
        "colab": {
          "base_uri": "https://localhost:8080/"
        },
        "id": "CeptU_Z92jWM",
        "outputId": "0e327070-7d9e-494a-d514-b72ffe4ed24b"
      },
      "execution_count": 130,
      "outputs": [
        {
          "output_type": "stream",
          "name": "stdout",
          "text": [
            "r Squared: 0.87\n",
            "mse_value of Test= 0.44613967916600783\n",
            "mse_value of Train= 0.445449726756597\n"
          ]
        }
      ]
    },
    {
      "cell_type": "code",
      "source": [
        "print('check_lr', (np.sqrt(mean_squared_error(y_test, y_predict_test))))"
      ],
      "metadata": {
        "colab": {
          "base_uri": "https://localhost:8080/"
        },
        "id": "0uzOH_e_2lVL",
        "outputId": "fa59c4e7-b9a0-4818-e8d6-9f64fdbdb002"
      },
      "execution_count": 131,
      "outputs": [
        {
          "output_type": "stream",
          "name": "stdout",
          "text": [
            "check_lr 0.6679368826214105\n"
          ]
        }
      ]
    },
    {
      "cell_type": "code",
      "source": [
        "from sklearn.linear_model import ElasticNet\n",
        "from sklearn.metrics import mean_squared_error\n",
        "# Add your code here\n",
        "from sklearn.metrics import accuracy_score, mean_absolute_error, mean_squared_error\n",
        "\n",
        "# Create linear regression object\n",
        "enet = ElasticNet()\n",
        "\n",
        "# Train the model using the training sets\n",
        "enet.fit(x_train, y_train)\n",
        "\n",
        "# Make predictions\n",
        "\n",
        "y_predict_test = enet.predict(x_test)\n",
        "y_predict_train= enet.predict(x_train)\n",
        "\n",
        "# The coefficients\n",
        "#print('Coefficients: \\n', lin_R.coef_)\n",
        "\n",
        "print('r Squared: %.2f'\n",
        "      % enet.score(x_test, y_test))\n",
        "\n",
        "print('mse_value of Test=',mean_squared_error(y_test, y_predict_test))\n",
        "print('mse_value of Train=',mean_squared_error(y_train, y_predict_train))\n",
        "mse_test= mean_squared_error(y_test, y_predict_test)"
      ],
      "metadata": {
        "colab": {
          "base_uri": "https://localhost:8080/"
        },
        "id": "c1yEv7F12uuk",
        "outputId": "81b8fc2c-3ea8-43ed-ca53-030ae8863cef"
      },
      "execution_count": 132,
      "outputs": [
        {
          "output_type": "stream",
          "name": "stdout",
          "text": [
            "r Squared: 0.61\n",
            "mse_value of Test= 1.3011642534643864\n",
            "mse_value of Train= 1.2986992445255168\n"
          ]
        }
      ]
    },
    {
      "cell_type": "code",
      "source": [
        "print('check_enet', (np.sqrt(mean_squared_error(y_test, y_predict_test))))"
      ],
      "metadata": {
        "colab": {
          "base_uri": "https://localhost:8080/"
        },
        "id": "lZ4lfxFF2701",
        "outputId": "d6aac92d-6f48-4191-cc30-e7f018a0ddcb"
      },
      "execution_count": 133,
      "outputs": [
        {
          "output_type": "stream",
          "name": "stdout",
          "text": [
            "check_enet 1.1406858697574833\n"
          ]
        }
      ]
    },
    {
      "cell_type": "code",
      "source": [
        "from sklearn.linear_model import ElasticNetCV\n",
        "optimizer = ElasticNetCV(l1_ratio = [.1,.5,.7,.9,.99,1], n_alphas=400, cv=10)\n",
        "optimizer.fit(x_train_Trans, y_train)\n",
        "best = ElasticNet(alpha=optimizer.alpha_, l1_ratio=optimizer.l1_ratio_)\n",
        "best.fit(x_train_Trans,y_train)\n",
        "Y_pred_ECV = best.predict(x_test_Trans)\n",
        "print('Y_pred_ecv', (np.sqrt(mean_squared_error(y_test, Y_pred_ECV))))"
      ],
      "metadata": {
        "colab": {
          "base_uri": "https://localhost:8080/"
        },
        "id": "C5pPfUc40zwN",
        "outputId": "396b9965-2365-46e0-f043-5856dd7af273"
      },
      "execution_count": 134,
      "outputs": [
        {
          "output_type": "stream",
          "name": "stdout",
          "text": [
            "Y_pred_ecv 0.7099414252157616\n"
          ]
        }
      ]
    },
    {
      "cell_type": "code",
      "source": [
        "from sklearn.model_selection import GridSearchCV\n",
        "\n",
        "# Use grid search to tune the parameters:\n",
        "\n",
        "parametersGrid = {\"max_iter\": [1000],\n",
        "                      \"alpha\": [1.0],\n",
        "                      \"l1_ratio\": np.arange(0.5)}\n",
        "\n",
        "enet = ElasticNet()\n",
        "grid = GridSearchCV(enet, parametersGrid, scoring='r2', cv=10)\n",
        "grid.fit(x_train_Trans, y_train)\n",
        "Y_pred = grid.predict(x_test_Trans)\n",
        "\n",
        "# indx = np.isnan(x).any(axis=1)\n",
        "# x_train = x_train[indx]\n",
        "# y_train = y_train[indx]"
      ],
      "metadata": {
        "colab": {
          "base_uri": "https://localhost:8080/"
        },
        "id": "l_ZWCZH_0uMY",
        "outputId": "3d2efeba-3bff-4546-b976-24fdeff29c43"
      },
      "execution_count": 135,
      "outputs": [
        {
          "output_type": "stream",
          "name": "stderr",
          "text": [
            "/usr/local/lib/python3.7/dist-packages/sklearn/linear_model/_coordinate_descent.py:648: ConvergenceWarning:\n",
            "\n",
            "Objective did not converge. You might want to increase the number of iterations, check the scale of the features or consider increasing regularisation. Duality gap: 7.544e+04, tolerance: 3.665e+01 Linear regression models with null weight for the l1 regularization term are more efficiently fitted using one of the solvers implemented in sklearn.linear_model.Ridge/RidgeCV instead.\n",
            "\n",
            "/usr/local/lib/python3.7/dist-packages/sklearn/linear_model/_coordinate_descent.py:648: ConvergenceWarning:\n",
            "\n",
            "Objective did not converge. You might want to increase the number of iterations, check the scale of the features or consider increasing regularisation. Duality gap: 7.547e+04, tolerance: 3.674e+01 Linear regression models with null weight for the l1 regularization term are more efficiently fitted using one of the solvers implemented in sklearn.linear_model.Ridge/RidgeCV instead.\n",
            "\n",
            "/usr/local/lib/python3.7/dist-packages/sklearn/linear_model/_coordinate_descent.py:648: ConvergenceWarning:\n",
            "\n",
            "Objective did not converge. You might want to increase the number of iterations, check the scale of the features or consider increasing regularisation. Duality gap: 7.534e+04, tolerance: 3.668e+01 Linear regression models with null weight for the l1 regularization term are more efficiently fitted using one of the solvers implemented in sklearn.linear_model.Ridge/RidgeCV instead.\n",
            "\n",
            "/usr/local/lib/python3.7/dist-packages/sklearn/linear_model/_coordinate_descent.py:648: ConvergenceWarning:\n",
            "\n",
            "Objective did not converge. You might want to increase the number of iterations, check the scale of the features or consider increasing regularisation. Duality gap: 7.548e+04, tolerance: 3.671e+01 Linear regression models with null weight for the l1 regularization term are more efficiently fitted using one of the solvers implemented in sklearn.linear_model.Ridge/RidgeCV instead.\n",
            "\n",
            "/usr/local/lib/python3.7/dist-packages/sklearn/linear_model/_coordinate_descent.py:648: ConvergenceWarning:\n",
            "\n",
            "Objective did not converge. You might want to increase the number of iterations, check the scale of the features or consider increasing regularisation. Duality gap: 7.541e+04, tolerance: 3.677e+01 Linear regression models with null weight for the l1 regularization term are more efficiently fitted using one of the solvers implemented in sklearn.linear_model.Ridge/RidgeCV instead.\n",
            "\n",
            "/usr/local/lib/python3.7/dist-packages/sklearn/linear_model/_coordinate_descent.py:648: ConvergenceWarning:\n",
            "\n",
            "Objective did not converge. You might want to increase the number of iterations, check the scale of the features or consider increasing regularisation. Duality gap: 7.542e+04, tolerance: 3.669e+01 Linear regression models with null weight for the l1 regularization term are more efficiently fitted using one of the solvers implemented in sklearn.linear_model.Ridge/RidgeCV instead.\n",
            "\n",
            "/usr/local/lib/python3.7/dist-packages/sklearn/linear_model/_coordinate_descent.py:648: ConvergenceWarning:\n",
            "\n",
            "Objective did not converge. You might want to increase the number of iterations, check the scale of the features or consider increasing regularisation. Duality gap: 7.555e+04, tolerance: 3.667e+01 Linear regression models with null weight for the l1 regularization term are more efficiently fitted using one of the solvers implemented in sklearn.linear_model.Ridge/RidgeCV instead.\n",
            "\n",
            "/usr/local/lib/python3.7/dist-packages/sklearn/linear_model/_coordinate_descent.py:648: ConvergenceWarning:\n",
            "\n",
            "Objective did not converge. You might want to increase the number of iterations, check the scale of the features or consider increasing regularisation. Duality gap: 7.530e+04, tolerance: 3.660e+01 Linear regression models with null weight for the l1 regularization term are more efficiently fitted using one of the solvers implemented in sklearn.linear_model.Ridge/RidgeCV instead.\n",
            "\n",
            "/usr/local/lib/python3.7/dist-packages/sklearn/linear_model/_coordinate_descent.py:648: ConvergenceWarning:\n",
            "\n",
            "Objective did not converge. You might want to increase the number of iterations, check the scale of the features or consider increasing regularisation. Duality gap: 7.561e+04, tolerance: 3.672e+01 Linear regression models with null weight for the l1 regularization term are more efficiently fitted using one of the solvers implemented in sklearn.linear_model.Ridge/RidgeCV instead.\n",
            "\n",
            "/usr/local/lib/python3.7/dist-packages/sklearn/linear_model/_coordinate_descent.py:648: ConvergenceWarning:\n",
            "\n",
            "Objective did not converge. You might want to increase the number of iterations, check the scale of the features or consider increasing regularisation. Duality gap: 7.554e+04, tolerance: 3.677e+01 Linear regression models with null weight for the l1 regularization term are more efficiently fitted using one of the solvers implemented in sklearn.linear_model.Ridge/RidgeCV instead.\n",
            "\n",
            "/usr/local/lib/python3.7/dist-packages/sklearn/linear_model/_coordinate_descent.py:648: ConvergenceWarning:\n",
            "\n",
            "Objective did not converge. You might want to increase the number of iterations, check the scale of the features or consider increasing regularisation. Duality gap: 8.384e+04, tolerance: 4.078e+01 Linear regression models with null weight for the l1 regularization term are more efficiently fitted using one of the solvers implemented in sklearn.linear_model.Ridge/RidgeCV instead.\n",
            "\n"
          ]
        }
      ]
    },
    {
      "cell_type": "code",
      "source": [
        "print('check_enet', (np.sqrt(mean_squared_error(y_test, y_predict_test))))"
      ],
      "metadata": {
        "colab": {
          "base_uri": "https://localhost:8080/"
        },
        "id": "ydw-4mVFzkk2",
        "outputId": "b58458d0-bfc9-4fa0-fe87-db15af5bda17"
      },
      "execution_count": 136,
      "outputs": [
        {
          "output_type": "stream",
          "name": "stdout",
          "text": [
            "check_enet 1.1406858697574833\n"
          ]
        }
      ]
    },
    {
      "cell_type": "markdown",
      "source": [
        "Task 1.2 AdaBboost"
      ],
      "metadata": {
        "id": "jC_5OfYr4btZ"
      }
    },
    {
      "cell_type": "code",
      "source": [
        "from sklearn.model_selection import cross_val_score\n",
        "\n",
        "from sklearn.ensemble import AdaBoostRegressor\n",
        "\n",
        "clf = AdaBoostRegressor(n_estimators=100)\n",
        "scores = cross_val_score(clf, x_train  , y_train, cv=5)\n",
        "scores.mean()"
      ],
      "metadata": {
        "colab": {
          "base_uri": "https://localhost:8080/"
        },
        "id": "bd0ryBG64ctD",
        "outputId": "a67bb61d-0094-4dca-8f4e-c8a871059138"
      },
      "execution_count": 138,
      "outputs": [
        {
          "output_type": "execute_result",
          "data": {
            "text/plain": [
              "0.8072663514655183"
            ]
          },
          "metadata": {},
          "execution_count": 138
        }
      ]
    },
    {
      "cell_type": "markdown",
      "source": [
        "Task 2.1 Gradient-boosted tree regression"
      ],
      "metadata": {
        "id": "NoBx4DMb4jb8"
      }
    },
    {
      "cell_type": "code",
      "source": [
        "from pyspark.ml import Pipeline\n",
        "from pyspark.ml.regression import GBTRegressor\n",
        "\n",
        "gbt_model = gbt_model = GBTRegressor(labelCol=\"label\", featuresCol=\"features\").fit(train_sdf) "
      ],
      "metadata": {
        "id": "XJWWomi44nO-"
      },
      "execution_count": 139,
      "outputs": []
    },
    {
      "cell_type": "code",
      "source": [
        "predictions = predictions = gbt_model.transform(test_sdf) "
      ],
      "metadata": {
        "id": "m5hwOMaU4rI8"
      },
      "execution_count": 140,
      "outputs": []
    },
    {
      "cell_type": "code",
      "source": [
        "from pyspark.ml.evaluation import RegressionEvaluator\n",
        "\n",
        "reg_evaluator = RegressionEvaluator(labelCol=\"label\", predictionCol=\"prediction\", metricName=\"rmse\")\n",
        "train_rmse_rf = reg_evaluator.evaluate(rf_model.transform(train_sdf)) \n",
        "rmse_rf = reg_evaluator.evaluate(predictions)\n",
        "\n",
        "\n",
        "evaluator = RegressionEvaluator(labelCol=\"label\", predictionCol=\"prediction\", metricName=\"rmse\")\n",
        "\n",
        "rmse = evaluator.evaluate(predictions)\n",
        "\n",
        "print(\"Root Mean Squared Error (RMSE) on test data = %g\" % rmse)"
      ],
      "metadata": {
        "colab": {
          "base_uri": "https://localhost:8080/"
        },
        "id": "Usr7I1NC4tCC",
        "outputId": "cfca6b70-eb27-4d72-a388-cceb7af41044"
      },
      "execution_count": 141,
      "outputs": [
        {
          "output_type": "stream",
          "name": "stdout",
          "text": [
            "Root Mean Squared Error (RMSE) on test data = 0.651205\n"
          ]
        }
      ]
    },
    {
      "cell_type": "code",
      "source": [
        "#Print results here\n",
        "predictions_to_print = predictions.toPandas()\n",
        "lranswer = [test_rmse_orig, predictions_to_print['prediction'][0:10], predictions_to_print['label'][0:10]]\n",
        "print('result_lr_test', lranswer)\n",
        "\n",
        "x=predictions_to_print['prediction'][0:10]\n",
        "y=predictions_to_print['label'][0:10]\n",
        "print('\\n Differences between Prediction and label: \\n',(x - y))"
      ],
      "metadata": {
        "colab": {
          "base_uri": "https://localhost:8080/"
        },
        "id": "7yF3svR34wdo",
        "outputId": "8d50db33-dce4-4bdf-cf4e-82b20a2b4e74"
      },
      "execution_count": 142,
      "outputs": [
        {
          "output_type": "stream",
          "name": "stdout",
          "text": [
            "result_lr_test [0.6715952996006331, 0    10.544790\n",
            "1    10.619714\n",
            "2    10.143978\n",
            "3    10.855608\n",
            "4    10.841647\n",
            "5    11.298438\n",
            "6    12.553217\n",
            "7    11.152941\n",
            "8    11.864533\n",
            "9    12.669071\n",
            "Name: prediction, dtype: float64, 0     9.668651\n",
            "1     9.829895\n",
            "2     9.930129\n",
            "3    10.712126\n",
            "4    11.018006\n",
            "5    11.054835\n",
            "6    11.153762\n",
            "7    11.175899\n",
            "8    11.258382\n",
            "9    11.266360\n",
            "Name: label, dtype: float64]\n",
            "\n",
            " Differences between Prediction and label: \n",
            " 0    0.876139\n",
            "1    0.789819\n",
            "2    0.213849\n",
            "3    0.143482\n",
            "4   -0.176359\n",
            "5    0.243604\n",
            "6    1.399455\n",
            "7   -0.022958\n",
            "8    0.606151\n",
            "9    1.402712\n",
            "dtype: float64\n"
          ]
        }
      ]
    },
    {
      "cell_type": "markdown",
      "source": [
        ""
      ],
      "metadata": {
        "id": "DjfrwAon5N5l"
      }
    },
    {
      "cell_type": "code",
      "source": [
        "from pyspark.ml.classification import MultilayerPerceptronClassifier\n",
        "from pyspark.ml.evaluation import MulticlassClassificationEvaluator\n",
        "\n",
        "# Split the data into train and test\n",
        "splits = modified_data_sdf.randomSplit([0.6, 0.4], 1234)\n",
        "train = splits[0]\n",
        "test = splits[1]\n",
        "\n",
        "# specify layers for the neural network:\n",
        "# input layer of size 4 (features), two intermediate of size 5 and 4\n",
        "# and output of size 3 (classes)\n",
        "layers = [4, 5, 4, 3]\n",
        "\n",
        "# create the trainer and set its parameters\n",
        "trainer = MultilayerPerceptronClassifier(maxIter=100, layers=layers, blockSize=128, seed=1234)\n",
        "\n",
        "# train the model\n",
        "model = trainer.fit(train)\n",
        "\n",
        "# compute accuracy on the test set\n",
        "result = model.transform(test)\n",
        "predictionAndLabels = result.select(\"prediction\", \"label\")\n",
        "evaluator = MulticlassClassificationEvaluator(metricName=\"accuracy\")\n",
        "print(\"Test set accuracy = \" + str(evaluator.evaluate(predictionAndLabels)))\n"
      ],
      "metadata": {
        "id": "seByAwG_83RN"
      },
      "execution_count": null,
      "outputs": []
    },
    {
      "cell_type": "markdown",
      "source": [
        "OR\n"
      ],
      "metadata": {
        "id": "UTq_FPuu96xx"
      }
    },
    {
      "cell_type": "code",
      "source": [
        "from pyspark.ml.classification import LogisticRegression\n",
        "from pyspark.ml.evaluation import BinaryClassificationEvaluator\n",
        "lr = LogisticRegression(maxIter=10, regParam=0.3, elasticNetParam=0.8)\n",
        "lrModel = lr.fit (train_sdf1)\n",
        "lrModel = mlr.fit (train_sdf1)\n",
        "evaluator =  BinaryClassificationEvaluator (rawPredictionCol= \"rawPrediction\", labelCol = 'label')\n",
        "acc=evaluator.evaluate(predictions)\n",
        "print ('Accuracy: ' acc)\n"
      ],
      "metadata": {
        "colab": {
          "base_uri": "https://localhost:8080/",
          "height": 131
        },
        "id": "DBBnDd4n5oMZ",
        "outputId": "1b8d6df1-efa2-4c58-f414-f7fbcad3dd47"
      },
      "execution_count": 144,
      "outputs": [
        {
          "output_type": "error",
          "ename": "SyntaxError",
          "evalue": "ignored",
          "traceback": [
            "\u001b[0;36m  File \u001b[0;32m\"<ipython-input-144-c5dfbb15c245>\"\u001b[0;36m, line \u001b[0;32m8\u001b[0m\n\u001b[0;31m    print ('Accuracy: ' acc)\u001b[0m\n\u001b[0m                          ^\u001b[0m\n\u001b[0;31mSyntaxError\u001b[0m\u001b[0;31m:\u001b[0m invalid syntax\n"
          ]
        }
      ]
    }
  ]
}